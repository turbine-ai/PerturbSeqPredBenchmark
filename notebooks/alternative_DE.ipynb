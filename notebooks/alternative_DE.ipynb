{
 "cells": [
  {
   "cell_type": "code",
   "execution_count": 13,
   "metadata": {},
   "outputs": [],
   "source": [
    "import json\n",
    "from pathlib import Path\n",
    "import numpy as np\n",
    "from scipy.stats import pearsonr\n",
    "import seaborn as sns\n",
    "import matplotlib.pyplot as plt\n",
    "\n",
    "\n",
    "import pandas as pd\n",
    "from gears import PertData"
   ]
  },
  {
   "cell_type": "code",
   "execution_count": 2,
   "metadata": {},
   "outputs": [],
   "source": [
    "FEATURE_NAME_MAP = {\n",
    "        \"go\": \"go\",\n",
    "        \"elmo\": \"scElmo\",\n",
    "        \"foundation\": \"scFoundation\",\n",
    "        \"gpt\": \"scGPT\",\n",
    "    }\n",
    "\n",
    "def load_bulk_model_resutlts( dataset: str, _res_dir: Path = Path(\"./save\")):\n",
    "    \n",
    "    res_dict = {}\n",
    "    for model in [\"RF\", \"EN\", \"KNN\"]:\n",
    "        for feature in [\"go\", \"elmo\", \"foundation\", \"gpt\"]:\n",
    "            with open(_res_dir / dataset / model / feature / \"test_metrics.json\") as f:\n",
    "                res_dict[f\"{model}_{FEATURE_NAME_MAP[feature]}\"] = json.load(f)\n",
    "    with open(_res_dir / dataset / \"mean\" / \"test_metrics.json\") as f:\n",
    "        res_dict[\"mean\"] = json.load(f)\n",
    "\n",
    "    return res_dict\n",
    "\n",
    "\n",
    "def calc_de_metric(_pert_data: PertData, _dir_map: dict, _df_de: pd.DataFrame):\n",
    "    data = _pert_data.adata.to_df()\n",
    "    data['condition'] = _pert_data.adata.obs['condition']\n",
    "    data = data.groupby('condition').mean()\n",
    "\n",
    "    ctrl_mean = data.loc['ctrl'].values\n",
    "\n",
    "    for _name, _dir in _dir_map.items():\n",
    "        test_res = np.load(_dir / \"test_res_best_model.npz\", allow_pickle=True)\n",
    "        # test_pred = pd.read_csv(_dir / \"predictions.csv\", index_col=0)\n",
    "        test_pred = pd.DataFrame(test_res[\"pred\"], columns=data.columns, index=test_res[\"pert_cat\"])\n",
    "\n",
    "        test_truth = pd.DataFrame(test_res[\"truth\"], columns=test_pred.columns, index=test_pred.index)\n",
    "\n",
    "        # only keep test data\n",
    "        _df_de = _df_de.loc[test_truth.index].copy()\n",
    "\n",
    "        res = []\n",
    "        for cond, de_genes in _df_de.iterrows():\n",
    "            true = test_truth.loc[cond] - ctrl_mean\n",
    "            pred = test_pred.loc[cond]- ctrl_mean\n",
    "\n",
    "            res.append(pearsonr(true[de_genes], pred[de_genes])[0])\n",
    "    \n",
    "    return np.mean(res)\n",
    "\n",
    "def gather_results(\n",
    "        de_df: pd.DataFrame,\n",
    "        pert_data: PertData,\n",
    "        bulk_model_dir: Path,\n",
    "        sc_model_dir_map: dict[str, Path],\n",
    "        ):\n",
    "\n",
    "\n",
    "    models = [\"RF\", \"EN\", \"KNN\"]\n",
    "    features = [\"go\", \"elmo\", \"foundation\", \"gpt\"]\n",
    "\n",
    "    res = []\n",
    "\n",
    "    for model in models:\n",
    "        for feature in features:\n",
    "            _dir = Path(bulk_model_dir / f\"{model}/{feature}\")\n",
    "            _exp_name = f\"{model}_{feature}\"\n",
    "            out = calc_de_metric(pert_data, {_exp_name: _dir}, de_df)\n",
    "\n",
    "            _exp_name = f\"{model}_{FEATURE_NAME_MAP[feature]}\"\n",
    "\n",
    "            res.append({\"model\": _exp_name, \"pearson_de_delta_alternative\": out})\n",
    "\n",
    "    # mean model\n",
    "    _dir = Path(bulk_model_dir / \"mean\")\n",
    "    out = calc_de_metric(pert_data, {\"mean\": _dir}, de_df)\n",
    "    res.append({\"model\": \"mean\", \"pearson_de_delta_alternative\": out}) \n",
    "\n",
    "    for sc_model, _dir in sc_model_dir_map.items():\n",
    "        out = calc_de_metric(pert_data, {sc_model: _dir}, de_df)\n",
    "        res.append({\"model\": sc_model, \"pearson_de_delta_alternative\": out})\n",
    "\n",
    "    res = pd.DataFrame(res)\n",
    "\n",
    "    return res\n"
   ]
  },
  {
   "cell_type": "code",
   "execution_count": 3,
   "metadata": {},
   "outputs": [],
   "source": [
    "# load scgpt results\n",
    "with open(\"./save/dev_perturb_adamson-Sep26-20-36/test_metrics.json\") as f:\n",
    "    adamson_scgpt = json.load(f)\n",
    "\n",
    "with open(\"./save/dev_perturb_norman-Sep24-13-29/test_metrics.json\") as f:\n",
    "    norman_scpt = json.load(f)\n",
    "\n",
    "with open(\"./save/dev_perturb_replogle-Sep24-15-06/test_metrics.json\") as f:\n",
    "    replogle_scgpt = json.load(f)\n",
    "\n",
    "with open(\"./save/dev_perturb_replogle_rpe1-Feb25-16-55/test_metrics.json\") as f:\n",
    "    replogle_rpe1_scgpt = json.load(f)\n",
    "\n",
    "# load scfoundation results\n",
    "sc_foundation_base = Path(\"../scFoundation/GEARS/results/\")\n",
    "with open(sc_foundation_base / \"adamson/0.75/baseline_simulation_seed_1_hidden_512_epochs_10_batch_32_accmu_1_mode_v1_highres_0_lr_0.0005/2025-02-12_10-47-01/test_metrics.json\") as f:\n",
    "    adamson_scfoundation = json.load(f)\n",
    "\n",
    "with open(sc_foundation_base / \"norman/0.75/baseline_simulation_seed_1_hidden_512_epochs_10_batch_32_accmu_1_mode_v1_highres_0_lr_0.01/2025-02-12_00-47-27/test_metrics.json\") as f:\n",
    "    norman_scfoundation = json.load(f)\n",
    "\n",
    "with open(sc_foundation_base / \"replogle_k562_essential/0.75/baseline_simulation_seed_1_hidden_512_epochs_10_batch_16_accmu_2_mode_v1_highres_0_lr_0.01/2025-02-17_16-45-12/test_metrics.json\") as f:\n",
    "    replogle_scfoundation = json.load(f) \n",
    "\n",
    "with open(sc_foundation_base / \"replogle_rpe1_essential_raw/0.75/baseline_simulation_seed_1_hidden_512_epochs_10_batch_16_accmu_2_mode_v1_highres_0_lr_0.01/2025-02-26_07-59-12/test_metrics.json\") as f:\n",
    "    replogle_rp1 = json.load(f) "
   ]
  },
  {
   "cell_type": "code",
   "execution_count": 4,
   "metadata": {},
   "outputs": [],
   "source": [
    "adamson_results = load_bulk_model_resutlts(\"adamson\")\n",
    "adamson_results[\"scGPT\"] = adamson_scgpt\n",
    "adamson_results[\"scFoundation\"] = adamson_scfoundation\n",
    "\n",
    "norman_results = load_bulk_model_resutlts(\"norman\")\n",
    "norman_results[\"scGPT\"] = norman_scpt\n",
    "norman_results[\"scFoundation\"] = norman_scfoundation\n",
    "\n",
    "replogle_results = load_bulk_model_resutlts(\"replogle\")\n",
    "replogle_results[\"scGPT\"] = replogle_scgpt\n",
    "replogle_results[\"scFoundation\"] = replogle_scfoundation\n",
    "\n",
    "replogle_rp1_results = load_bulk_model_resutlts(\"replogle_rpe1\")\n",
    "replogle_rp1_results[\"scGPT\"] = replogle_rpe1_scgpt\n",
    "replogle_rp1_results[\"scFoundation\"] = replogle_rp1\n",
    "\n",
    "adamson_results = (pd.DataFrame.from_dict(adamson_results, orient='index').reset_index().rename(columns={\"index\": \"model\"}))\n",
    "norman_results = pd.DataFrame.from_dict(norman_results, orient='index').reset_index().rename(columns={\"index\": \"model\"})\n",
    "replogle_results = pd.DataFrame.from_dict(replogle_results, orient='index').reset_index().rename(columns={\"index\": \"model\"})\n",
    "replogle_rp1_results = pd.DataFrame.from_dict(replogle_rp1_results, orient='index').reset_index().rename(columns={\"index\": \"model\"})"
   ]
  },
  {
   "cell_type": "markdown",
   "metadata": {},
   "source": [
    "## Alternative DE20 eval"
   ]
  },
  {
   "cell_type": "code",
   "execution_count": 5,
   "metadata": {},
   "outputs": [],
   "source": [
    "DE_ANALYSIS_DIR = Path(\"../data/DE_anal/\")\n",
    "\n",
    "adamson_de = pd.read_csv(DE_ANALYSIS_DIR / \"adamson_DE.csv\", index_col=0).T\n",
    "norman_de = pd.read_csv(DE_ANALYSIS_DIR / \"norman_DE.csv\", index_col=0).T\n",
    "replogle_de = pd.read_csv(DE_ANALYSIS_DIR / \"replogle_DE.csv\", index_col=0).T\n",
    "replogle_rp1_de = pd.read_csv(DE_ANALYSIS_DIR / \"replogle_rpe_DE.csv\", index_col=0).T"
   ]
  },
  {
   "cell_type": "markdown",
   "metadata": {},
   "source": [
    "### Adamson"
   ]
  },
  {
   "cell_type": "code",
   "execution_count": 6,
   "metadata": {},
   "outputs": [
    {
     "name": "stderr",
     "output_type": "stream",
     "text": [
      "Found local copy...\n",
      "Local copy of pyg dataset is detected. Loading...\n",
      "Done!\n",
      "Local copy of split is detected. Loading...\n",
      "Simulation split test composition:\n",
      "combo_seen0:0\n",
      "combo_seen1:0\n",
      "combo_seen2:0\n",
      "unseen_single:22\n",
      "Done!\n"
     ]
    }
   ],
   "source": [
    "pert_data_adamson = PertData(\"../data/\")\n",
    "pert_data_adamson.load(data_name='adamson')\n",
    "pert_data_adamson.prepare_split(split=\"simulation\", seed=1)"
   ]
  },
  {
   "cell_type": "code",
   "execution_count": 7,
   "metadata": {},
   "outputs": [],
   "source": [
    "adamson_res_new = gather_results(\n",
    "    de_df=adamson_de,\n",
    "    pert_data=pert_data_adamson,\n",
    "    bulk_model_dir=Path(\"./save/adamson\"),\n",
    "    sc_model_dir_map={\n",
    "        \"scGPT\": Path(\"./save/dev_perturb_adamson-Sep26-20-36\"),\n",
    "        \"scFoundation\": Path(sc_foundation_base / \"adamson/0.75/baseline_simulation_seed_1_hidden_512_epochs_10_batch_32_accmu_1_mode_v1_highres_0_lr_0.0005/2025-02-12_10-47-01\"),\n",
    "    }    \n",
    ")"
   ]
  },
  {
   "cell_type": "code",
   "execution_count": 24,
   "metadata": {},
   "outputs": [
    {
     "data": {
      "image/png": "[encoded data removed]",
      "text/plain": [
       "<Figure size 640x480 with 1 Axes>"
      ]
     },
     "metadata": {},
     "output_type": "display_data"
    }
   ],
   "source": [
    "adamson_res_new = adamson_res_new.merge(adamson_results[[\"model\", \"pearson_de_delta\"]], on=\"model\")\n",
    "sns.scatterplot(data=adamson_res_new, x=\"pearson_de_delta\", y=\"pearson_de_delta_alternative\")\n",
    "plt.title(\"Adamson\")\n",
    "plt.show()"
   ]
  },
  {
   "cell_type": "markdown",
   "metadata": {},
   "source": [
    "## Norman"
   ]
  },
  {
   "cell_type": "code",
   "execution_count": 15,
   "metadata": {},
   "outputs": [
    {
     "name": "stderr",
     "output_type": "stream",
     "text": [
      "Local copy of pyg dataset is detected. Loading...\n",
      "Done!\n",
      "Local copy of split is detected. Loading...\n",
      "Simulation split test composition:\n",
      "combo_seen0:9\n",
      "combo_seen1:52\n",
      "combo_seen2:18\n",
      "unseen_single:37\n",
      "Done!\n"
     ]
    }
   ],
   "source": [
    "pert_data_norman = PertData(\"../data/\")\n",
    "pert_data_norman.load(data_path='../data/norman/')\n",
    "pert_data_norman.prepare_split(split=\"simulation\", seed=1)"
   ]
  },
  {
   "cell_type": "code",
   "execution_count": 16,
   "metadata": {},
   "outputs": [],
   "source": [
    "norman_res_new = gather_results(\n",
    "    de_df=norman_de,\n",
    "    pert_data=pert_data_norman,\n",
    "    bulk_model_dir=Path(\"./save/norman\"),\n",
    "    sc_model_dir_map={\n",
    "        \"scgpt\": Path(\"./save/dev_perturb_norman-Sep24-13-29\"),\n",
    "        \"scfoundation\": Path(sc_foundation_base / \"norman/0.75/baseline_simulation_seed_1_hidden_512_epochs_10_batch_32_accmu_1_mode_v1_highres_0_lr_0.01/2025-02-12_00-47-27\"),\n",
    "    }    \n",
    ")"
   ]
  },
  {
   "cell_type": "code",
   "execution_count": 18,
   "metadata": {},
   "outputs": [
    {
     "data": {
      "image/png": "[encoded data removed]",
      "text/plain": [
       "<Figure size 640x480 with 1 Axes>"
      ]
     },
     "metadata": {},
     "output_type": "display_data"
    }
   ],
   "source": [
    "norman_res_new = norman_res_new.merge(norman_results[[\"model\", \"pearson_de_delta\"]], on=\"model\")\n",
    "\n",
    "sns.scatterplot(data=norman_res_new, x=\"pearson_de_delta\", y=\"pearson_de_delta_alternative\")\n",
    "plt.title(\"Norman\")\n",
    "plt.show()"
   ]
  },
  {
   "cell_type": "markdown",
   "metadata": {},
   "source": [
    "## Replogle"
   ]
  },
  {
   "cell_type": "code",
   "execution_count": 19,
   "metadata": {},
   "outputs": [
    {
     "name": "stderr",
     "output_type": "stream",
     "text": [
      "Local copy of pyg dataset is detected. Loading...\n",
      "Done!\n",
      "Local copy of split is detected. Loading...\n",
      "Simulation split test composition:\n",
      "combo_seen0:0\n",
      "combo_seen1:0\n",
      "combo_seen2:0\n",
      "unseen_single:273\n",
      "Done!\n"
     ]
    }
   ],
   "source": [
    "pert_data_replogle = PertData(\"../data/\")\n",
    "pert_data_replogle.load(data_path='../data/replogle_k562_essential/')\n",
    "pert_data_replogle.prepare_split(split=\"simulation\", seed=1)"
   ]
  },
  {
   "cell_type": "code",
   "execution_count": null,
   "metadata": {},
   "outputs": [],
   "source": [
    "replogle_res_new = gather_results(\n",
    "    de_df=replogle_de,\n",
    "    pert_data=pert_data_replogle,\n",
    "    bulk_model_dir=Path(\"./save/replogle\"),\n",
    "    sc_model_dir_map={\n",
    "        \"scgpt\": Path(\"./save/dev_perturb_replogle-Sep24-15-06\"),\n",
    "        \"scfoundation\": Path(sc_foundation_base / \"replogle_k562_essential/0.75/baseline_simulation_seed_1_hidden_512_epochs_10_batch_16_accmu_2_mode_v1_highres_0_lr_0.01/2025-02-17_16-45-12\"),\n",
    "    }    \n",
    ")"
   ]
  },
  {
   "cell_type": "code",
   "execution_count": null,
   "metadata": {},
   "outputs": [],
   "source": [
    "replogle_res_new = replogle_res_new.merge(replogle_results[[\"model\", \"pearson_de_delta\"]], on=\"model\")\n",
    "\n",
    "sns.scatterplot(data=replogle_res_new, x=\"pearson_de_delta\", y=\"pearson_de_delta_alternative\")\n",
    "plt.title(\"Replogle\")\n",
    "plt.show()\n"
   ]
  },
  {
   "cell_type": "markdown",
   "metadata": {},
   "source": [
    "## Replogle RPE1"
   ]
  },
  {
   "cell_type": "code",
   "execution_count": 21,
   "metadata": {},
   "outputs": [
    {
     "name": "stderr",
     "output_type": "stream",
     "text": [
      "Local copy of pyg dataset is detected. Loading...\n",
      "Done!\n",
      "Local copy of split is detected. Loading...\n",
      "Simulation split test composition:\n",
      "combo_seen0:0\n",
      "combo_seen1:0\n",
      "combo_seen2:0\n",
      "unseen_single:386\n",
      "Done!\n"
     ]
    }
   ],
   "source": [
    "pert_data_replogle_rpe = PertData(\"../data/\")\n",
    "pert_data_replogle_rpe.load(data_path='../data/replogle_rpe1_essential/')\n",
    "pert_data_replogle_rpe.prepare_split(split=\"simulation\", seed=1)"
   ]
  },
  {
   "cell_type": "code",
   "execution_count": 22,
   "metadata": {},
   "outputs": [],
   "source": [
    "replogle_rp1_res_new = gather_results(\n",
    "    de_df=replogle_rp1_de,\n",
    "    pert_data=pert_data_replogle_rpe,\n",
    "    bulk_model_dir=Path(\"./save/replogle_rpe1\"),\n",
    "    sc_model_dir_map={\n",
    "        \"scgpt\": Path(\"./save/dev_perturb_replogle_rpe1-Feb25-16-55\"),\n",
    "        \"scfoundation\": Path(sc_foundation_base / \"replogle_rpe1_essential_raw/0.75/baseline_simulation_seed_1_hidden_512_epochs_10_batch_16_accmu_2_mode_v1_highres_0_lr_0.01/2025-02-26_07-59-12\"),\n",
    "    }    \n",
    ")"
   ]
  },
  {
   "cell_type": "code",
   "execution_count": 23,
   "metadata": {},
   "outputs": [
    {
     "data": {
      "image/png": "[encoded data removed]",
      "text/plain": [
       "<Figure size 640x480 with 1 Axes>"
      ]
     },
     "metadata": {},
     "output_type": "display_data"
    }
   ],
   "source": [
    "replogle_rp1_res_new = replogle_rp1_res_new.merge(replogle_rp1_results[[\"model\", \"pearson_de_delta\"]], on=\"model\")\n",
    "\n",
    "sns.scatterplot(data=replogle_rp1_res_new, x=\"pearson_de_delta\", y=\"pearson_de_delta_alternative\")\n",
    "plt.title(\"Replogle RPE1\")\n",
    "plt.show()"
   ]
  },
  {
   "cell_type": "code",
   "execution_count": null,
   "metadata": {},
   "outputs": [],
   "source": []
  }
 ],
 "metadata": {
  "kernelspec": {
   "display_name": "scgpt_yml",
   "language": "python",
   "name": "scgpt_yml"
  },
  "language_info": {
   "codemirror_mode": {
    "name": "ipython",
    "version": 3
   },
   "file_extension": ".py",
   "mimetype": "text/x-python",
   "name": "python",
   "nbconvert_exporter": "python",
   "pygments_lexer": "ipython3",
   "version": "3.10.11"
  }
 },
 "nbformat": 4,
 "nbformat_minor": 2
}
