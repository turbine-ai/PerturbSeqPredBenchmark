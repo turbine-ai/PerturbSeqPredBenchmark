{
 "cells": [
  {
   "cell_type": "code",
   "execution_count": 1,
   "metadata": {},
   "outputs": [
    {
     "name": "stderr",
     "output_type": "stream",
     "text": [
      "/home/users/geroldcsendes/miniconda3/envs/scgpt_yml/lib/python3.10/site-packages/tqdm/auto.py:21: TqdmWarning: IProgress not found. Please update jupyter and ipywidgets. See https://ipywidgets.readthedocs.io/en/stable/user_install.html\n",
      "  from .autonotebook import tqdm as notebook_tqdm\n"
     ]
    }
   ],
   "source": [
    "from copy import deepcopy\n",
    "from pathlib import Path\n",
    "import pickle\n",
    "import json\n",
    "from typing import Literal\n",
    "\n",
    "from gears import PertData\n",
    "import seaborn as sns\n",
    "from sklearn.linear_model import ElasticNet\n",
    "import pandas as pd\n",
    "import numpy as np\n",
    "from scipy.stats import pearsonr\n",
    "from sklearn.ensemble import RandomForestRegressor\n",
    "from sklearn.decomposition import PCA\n",
    "import matplotlib.pyplot as plt"
   ]
  },
  {
   "cell_type": "code",
   "execution_count": 2,
   "metadata": {},
   "outputs": [
    {
     "data": {
      "image/png": "[encoded data removed]",
      "text/plain": [
       "<Figure size 500x100 with 1 Axes>"
      ]
     },
     "metadata": {},
     "output_type": "display_data"
    }
   ],
   "source": [
    "sns.set_style(\"whitegrid\")\n",
    "colors = ['#FF6666', '#33C7CC', '#0F0A26', '#425266', '#F7F5FF']\n",
    "sns.set_palette(sns.color_palette(colors))\n",
    "sns.palplot(sns.color_palette(colors))"
   ]
  },
  {
   "cell_type": "code",
   "execution_count": 3,
   "metadata": {},
   "outputs": [],
   "source": [
    "def _filt_self_from_de(pert_data, is_norman: bool):\n",
    "\n",
    "    DE_COL = \"rank_genes_groups_cov_all\"  # top_non_dropout_de_20\n",
    "\n",
    "    gene_name_to_ensg = dict(zip(pert_data.adata.var[\"gene_name\"], pert_data.adata.var.index))\n",
    "    rank_genes_groups_cov_all = deepcopy(pert_data.adata.uns[DE_COL])\n",
    "\n",
    "    updated_rank_genes_groups_cov_all = {}\n",
    "\n",
    "    for k, v in rank_genes_groups_cov_all.items():\n",
    "        condition = k.split(\"_\")[1]\n",
    "        condition_gene_name = condition.replace(\"ctrl+\", \"\").replace(\"+ctrl\", \"\")\n",
    "\n",
    "        if is_norman:\n",
    "            condition_ensg_name = gene_name_to_ensg.get(condition_gene_name, None)\n",
    "            updated_rank_genes_groups_cov_all[k] = v[v != condition_ensg_name]\n",
    "        else:\n",
    "            if \"+\" in condition_gene_name:\n",
    "                condition_gene_name = condition_gene_name.split(\"+\")\n",
    "                assert len(condition_gene_name) == 2\n",
    "                condition_ensg_name = [gene_name_to_ensg.get(g, None) for g in condition_gene_name]\n",
    "                mask = ~np.isin(v, condition_ensg_name)\n",
    "                updated_rank_genes_groups_cov_all[k] = v[mask]\n",
    "            else:\n",
    "                condition_ensg_name = gene_name_to_ensg.get(condition_gene_name, None)\n",
    "                updated_rank_genes_groups_cov_all[k] = v[v != condition_ensg_name]\n",
    "    \n",
    "    return updated_rank_genes_groups_cov_all\n",
    "\n",
    "\n",
    "def eval(pred: np.ndarray, data: dict, pert_data: PertData, is_norman: bool, key_pattern: str):\n",
    "\n",
    "    DE_COL = \"rank_genes_groups_cov_all\"  # top_non_dropout_de_20\n",
    "    de_dict =  pert_data.adata.uns[DE_COL]\n",
    "    de_dict_noself = _filt_self_from_de(pert_data, is_norman)\n",
    "\n",
    "    ctrl = data['ctrl_mean']\n",
    "    assert pred.shape[1] == ctrl.shape[0]\n",
    "\n",
    "    cols = data['test_y'].columns\n",
    "\n",
    "    pearson_raw = []\n",
    "    pearson_delta = []\n",
    "    pearson_delta_de = []\n",
    "    pearson_delta_de_no_knockout = []\n",
    "\n",
    "    for i in range(pred.shape[0]):\n",
    "        _pred = pred[i]\n",
    "        _target_df = data['test_y'].iloc[i]\n",
    "        _target = data['test_y'].iloc[i].values\n",
    "\n",
    "        pearson_raw.append(pearsonr(_pred, _target)[0])\n",
    "        pearson_delta.append(pearsonr(_pred - ctrl, _target - ctrl)[0])\n",
    "\n",
    "        de = de_dict[key_pattern % _target_df.name][:20]\n",
    "        de_pred_indices = np.array([idx for idx, i in enumerate(cols) if i in de])\n",
    "\n",
    "        de_no_self = de_dict_noself[key_pattern % _target_df.name][:20]\n",
    "        de_no_self_pred_indices = [idx for idx, i in enumerate(cols) if i in de_no_self]\n",
    "\n",
    "        pearson_delta_de.append(\n",
    "            pearsonr((_pred - ctrl)[de_pred_indices], (_target - ctrl)[de_pred_indices])[0]\n",
    "        )\n",
    "        pearson_delta_de_no_knockout.append(\n",
    "            pearsonr((_pred - ctrl)[de_no_self_pred_indices], (_target - ctrl)[de_no_self_pred_indices])[0]\n",
    "        )\n",
    "\n",
    "    return dict(\n",
    "        pearson=np.mean(pearson_raw),\n",
    "        pearson_delta=np.mean(pearson_delta),\n",
    "        pearson_de_delta=np.mean(pearson_delta_de),\n",
    "        pearson_delta_de_no_knockout=np.mean(pearson_delta_de_no_knockout))"
   ]
  },
  {
   "cell_type": "code",
   "execution_count": 4,
   "metadata": {},
   "outputs": [],
   "source": [
    "def _get_go_features(is_norman: bool, perturbation_list: list, go_pca: pd.DataFrame):\n",
    "\n",
    "    GO_NULL_STR = \"NULL\"\n",
    "    go_pca = go_pca.copy()\n",
    "    pert_list = [i.replace(\"ctrl+\", \"\").replace(\"+ctrl\", \"\") for i in perturbation_list]\n",
    "    if is_norman:\n",
    "        # insert NULL as a row to the go_pca with 0 values\n",
    "        go_pca.loc[GO_NULL_STR] = 0\n",
    "\n",
    "        pert1 = []\n",
    "        pert2 = []\n",
    "        for i in pert_list:\n",
    "            if '+' in i:\n",
    "                p1, p2 = i.split('+')\n",
    "                pert1.append(p1)\n",
    "                pert2.append(p2)\n",
    "            else:\n",
    "                pert1.append(i)\n",
    "                pert2.append('NULL')\n",
    "        \n",
    "        go_features = go_pca.loc[pert1].values - go_pca.loc[pert2].values\n",
    "\n",
    "    else:\n",
    "        go_features = go_pca.loc[pert_list]\n",
    "    return go_features\n",
    "\n",
    "def create_bulk_data(pert_data, go_pca_, is_norman: bool):\n",
    "\n",
    "    data_splits = deepcopy(pert_data.set2conditions)\n",
    "\n",
    "    train_samples = data_splits['train'] + data_splits['val']\n",
    "    train_samples.remove('ctrl')\n",
    "    test_samples = data_splits['test']\n",
    "\n",
    "    assert 'ctrl' not in test_samples, \"ctrl in test samples\"\n",
    "\n",
    "    data = pert_data.adata.to_df()\n",
    "    data['condition'] = pert_data.adata.obs['condition']\n",
    "    data = data.groupby('condition').mean()\n",
    "\n",
    "    train_x = _get_go_features(is_norman, train_samples, go_pca_)\n",
    "    train_y = data.loc[train_samples].copy()\n",
    "    test_x = _get_go_features(is_norman, test_samples, go_pca_)\n",
    "    test_y = data.loc[test_samples].copy()\n",
    "    ctrl_mean = data.loc['ctrl'].values\n",
    "\n",
    "    assert train_x.shape[0] == train_y.shape[0], \"Train shapes do not match\"\n",
    "    assert test_x.shape[0] == test_y.shape[0], \"Test shapes do not match\"\n",
    "    assert train_x.shape[1] == test_x.shape[1], \"Train and test features do not match\"\n",
    "    assert train_y.shape[1] == test_y.shape[1], \"Train and test targets do not match\"\n",
    "    assert ctrl_mean.shape[0] == train_y.shape[1] == test_y.shape[1], \"ctrl mean shape does not match\"\n",
    "    assert ctrl_mean.ndim == 1, \"ctrl mean is not 1D\"\n",
    "\n",
    "    print(\"Number of training samples: \", train_x.shape[0])\n",
    "    print(\"Number of test samples: \", test_x.shape[0])\n",
    "\n",
    "    return dict(\n",
    "        train_x=train_x,\n",
    "        train_y=train_y,\n",
    "        test_x=test_x,\n",
    "        test_y=test_y,\n",
    "        ctrl_mean=ctrl_mean,\n",
    "    )"
   ]
  },
  {
   "cell_type": "code",
   "execution_count": 5,
   "metadata": {},
   "outputs": [],
   "source": [
    "go = pd.read_csv(\"../data/go_v1.csv\", index_col=0)\n",
    "\n",
    "pca_256 = PCA(n_components=256, random_state=0)\n",
    "go_pca = pca_256.fit_transform(go)\n",
    "go_pca = pd.DataFrame(go_pca, index=go.index)"
   ]
  },
  {
   "cell_type": "markdown",
   "metadata": {},
   "source": [
    "## Adamson"
   ]
  },
  {
   "cell_type": "code",
   "execution_count": 6,
   "metadata": {},
   "outputs": [
    {
     "name": "stderr",
     "output_type": "stream",
     "text": [
      "Found local copy...\n",
      "Local copy of pyg dataset is detected. Loading...\n",
      "Done!\n",
      "Local copy of split is detected. Loading...\n",
      "Simulation split test composition:\n",
      "combo_seen0:0\n",
      "combo_seen1:0\n",
      "combo_seen2:0\n",
      "unseen_single:22\n",
      "Done!\n"
     ]
    }
   ],
   "source": [
    "pert_data_adamson = PertData(\"../data/\")\n",
    "pert_data_adamson.load(data_name='adamson')\n",
    "pert_data_adamson.prepare_split(split=\"simulation\", seed=1)"
   ]
  },
  {
   "cell_type": "code",
   "execution_count": 7,
   "metadata": {},
   "outputs": [
    {
     "name": "stdout",
     "output_type": "stream",
     "text": [
      "Number of training samples:  64\n",
      "Number of test samples:  22\n"
     ]
    }
   ],
   "source": [
    "adamson_data = create_bulk_data(\n",
    "    pert_data=pert_data_adamson,\n",
    "    go_pca_=go_pca,\n",
    "    is_norman=False,\n",
    ")"
   ]
  },
  {
   "cell_type": "code",
   "execution_count": 8,
   "metadata": {},
   "outputs": [
    {
     "name": "stderr",
     "output_type": "stream",
     "text": [
      "[Parallel(n_jobs=-1)]: Using backend ThreadingBackend with 24 concurrent workers.\n",
      "[Parallel(n_jobs=-1)]: Done   2 tasks      | elapsed:    0.4s\n",
      "[Parallel(n_jobs=-1)]: Done 152 tasks      | elapsed:    3.9s\n",
      "[Parallel(n_jobs=-1)]: Done 300 out of 300 | elapsed:    7.4s finished\n",
      "[Parallel(n_jobs=24)]: Using backend ThreadingBackend with 24 concurrent workers.\n",
      "[Parallel(n_jobs=24)]: Done   2 tasks      | elapsed:    0.0s\n",
      "[Parallel(n_jobs=24)]: Done 152 tasks      | elapsed:    0.0s\n",
      "[Parallel(n_jobs=24)]: Done 300 out of 300 | elapsed:    0.1s finished\n"
     ]
    }
   ],
   "source": [
    "rf = RandomForestRegressor(n_estimators=300, n_jobs=-1, verbose=True)\n",
    "rf.fit(adamson_data['train_x'], adamson_data['train_y'])\n",
    "adamson_pred = rf.predict(adamson_data['test_x'])"
   ]
  },
  {
   "cell_type": "code",
   "execution_count": 9,
   "metadata": {},
   "outputs": [
    {
     "data": {
      "text/plain": [
       "{'pearson': 0.993498983580796,\n",
       " 'pearson_delta': 0.7515739073706293,\n",
       " 'pearson_de_delta': 0.8050500102691256,\n",
       " 'pearson_delta_de_no_knockout': 0.8596386083958465}"
      ]
     },
     "execution_count": 9,
     "metadata": {},
     "output_type": "execute_result"
    }
   ],
   "source": [
    "adamson_res = eval(\n",
    "    pred=adamson_pred,\n",
    "    data=adamson_data,\n",
    "    pert_data=pert_data_adamson,\n",
    "    is_norman=False,\n",
    "    key_pattern=\"K562(?)_%s_1+1\",\n",
    ")\n",
    "adamson_res"
   ]
  },
  {
   "cell_type": "code",
   "execution_count": 10,
   "metadata": {},
   "outputs": [],
   "source": [
    "mean_pred = adamson_data[\"train_y\"].mean().values.reshape(1, -1)\n",
    "mean_pred = np.repeat(mean_pred, adamson_pred.shape[0], axis=0)\n",
    "\n",
    "adamson_res_mean = eval(\n",
    "    pred=mean_pred,\n",
    "    data=adamson_data,\n",
    "    pert_data=pert_data_adamson,\n",
    "    is_norman=False,\n",
    "    key_pattern=\"K562(?)_%s_1+1\",\n",
    ")"
   ]
  },
  {
   "cell_type": "code",
   "execution_count": 11,
   "metadata": {},
   "outputs": [
    {
     "data": {
      "text/plain": [
       "{'pearson': 0.9925119566712938,\n",
       " 'pearson_delta': 0.7083887968406701,\n",
       " 'pearson_de_delta': 0.7298748147733494,\n",
       " 'pearson_delta_de_no_knockout': 0.7847935499751615}"
      ]
     },
     "execution_count": 11,
     "metadata": {},
     "output_type": "execute_result"
    }
   ],
   "source": [
    "en = ElasticNet(alpha=1, l1_ratio=0.5)\n",
    "en.fit(adamson_data['train_x'], adamson_data['train_y'])\n",
    "adamson_pred_en = en.predict(adamson_data['test_x'])\n",
    "\n",
    "adamson_res_en = eval(\n",
    "    pred=adamson_pred_en,\n",
    "    data=adamson_data,\n",
    "    pert_data=pert_data_adamson,\n",
    "    key_pattern=\"K562(?)_%s_1+1\",\n",
    "    is_norman=False,\n",
    ")\n",
    "adamson_res_en"
   ]
  },
  {
   "cell_type": "markdown",
   "metadata": {},
   "source": [
    "## Norman"
   ]
  },
  {
   "cell_type": "code",
   "execution_count": 6,
   "metadata": {},
   "outputs": [
    {
     "name": "stderr",
     "output_type": "stream",
     "text": [
      "Local copy of pyg dataset is detected. Loading...\n",
      "Done!\n",
      "Local copy of split is detected. Loading...\n",
      "Simulation split test composition:\n",
      "combo_seen0:9\n",
      "combo_seen1:52\n",
      "combo_seen2:18\n",
      "unseen_single:37\n",
      "Done!\n"
     ]
    }
   ],
   "source": [
    "pert_data_norman = PertData(\"../data/\")\n",
    "pert_data_norman.load(data_path='../data/norman/')\n",
    "pert_data_norman.prepare_split(split=\"simulation\", seed=1)"
   ]
  },
  {
   "cell_type": "code",
   "execution_count": 7,
   "metadata": {},
   "outputs": [
    {
     "name": "stdout",
     "output_type": "stream",
     "text": [
      "Number of training samples:  167\n",
      "Number of test samples:  116\n"
     ]
    }
   ],
   "source": [
    "norman_data = create_bulk_data(\n",
    "    pert_data=pert_data_norman,\n",
    "    go_pca_=go_pca,\n",
    "    is_norman=True,\n",
    ")"
   ]
  },
  {
   "cell_type": "code",
   "execution_count": 8,
   "metadata": {},
   "outputs": [
    {
     "name": "stderr",
     "output_type": "stream",
     "text": [
      "[Parallel(n_jobs=-1)]: Using backend ThreadingBackend with 24 concurrent workers.\n",
      "[Parallel(n_jobs=-1)]: Done   2 tasks      | elapsed:    1.8s\n",
      "[Parallel(n_jobs=-1)]: Done 152 tasks      | elapsed:   13.7s\n",
      "[Parallel(n_jobs=-1)]: Done 300 out of 300 | elapsed:   25.8s finished\n",
      "[Parallel(n_jobs=24)]: Using backend ThreadingBackend with 24 concurrent workers.\n",
      "[Parallel(n_jobs=24)]: Done   2 tasks      | elapsed:    0.0s\n",
      "[Parallel(n_jobs=24)]: Done 152 tasks      | elapsed:    0.1s\n",
      "[Parallel(n_jobs=24)]: Done 300 out of 300 | elapsed:    0.1s finished\n"
     ]
    }
   ],
   "source": [
    "rf = RandomForestRegressor(n_estimators=300, n_jobs=-1, verbose=True)\n",
    "rf.fit(norman_data['train_x'], norman_data['train_y'])\n",
    "norman_pred = rf.predict(norman_data['test_x'])"
   ]
  },
  {
   "cell_type": "code",
   "execution_count": 9,
   "metadata": {},
   "outputs": [
    {
     "data": {
      "text/plain": [
       "{'pearson': 0.9879616413263339,\n",
       " 'pearson_delta': 0.5882614365283348,\n",
       " 'pearson_de_delta': 0.6213911572723474,\n",
       " 'pearson_delta_de_no_knockout': 0.6316996575905518}"
      ]
     },
     "execution_count": 9,
     "metadata": {},
     "output_type": "execute_result"
    }
   ],
   "source": [
    "norman_res = eval(\n",
    "    pred=norman_pred,\n",
    "    data=norman_data,\n",
    "    pert_data=pert_data_norman,\n",
    "    key_pattern=\"A549_%s_1+1\",\n",
    "    is_norman=True,\n",
    ")\n",
    "norman_res"
   ]
  },
  {
   "cell_type": "code",
   "execution_count": 10,
   "metadata": {},
   "outputs": [
    {
     "data": {
      "text/plain": [
       "{'pearson': 0.9864031903821636,\n",
       " 'pearson_delta': 0.5627775263133756,\n",
       " 'pearson_de_delta': 0.5793445751199804,\n",
       " 'pearson_delta_de_no_knockout': 0.6005943934530664}"
      ]
     },
     "execution_count": 10,
     "metadata": {},
     "output_type": "execute_result"
    }
   ],
   "source": [
    "en = ElasticNet(alpha=1, l1_ratio=0.5)\n",
    "en.fit(norman_data['train_x'], norman_data['train_y'])\n",
    "norman_pred_en = en.predict(norman_data['test_x'])\n",
    "\n",
    "norman_res_en = eval(\n",
    "    pred=norman_pred_en,\n",
    "    data=norman_data,\n",
    "    pert_data=pert_data_norman,\n",
    "    key_pattern=\"A549_%s_1+1\",\n",
    "    is_norman=True,\n",
    ")\n",
    "norman_res_en"
   ]
  },
  {
   "cell_type": "markdown",
   "metadata": {},
   "source": [
    "## Replogle"
   ]
  },
  {
   "cell_type": "code",
   "execution_count": 17,
   "metadata": {},
   "outputs": [
    {
     "name": "stderr",
     "output_type": "stream",
     "text": [
      "Local copy of pyg dataset is detected. Loading...\n",
      "Done!\n",
      "Local copy of split is detected. Loading...\n",
      "Simulation split test composition:\n",
      "combo_seen0:0\n",
      "combo_seen1:0\n",
      "combo_seen2:0\n",
      "unseen_single:273\n",
      "Done!\n"
     ]
    }
   ],
   "source": [
    "pert_data_replogle = PertData(\"../data/\")\n",
    "pert_data_replogle.load(data_path='../data/replogle_k562_essential/')\n",
    "pert_data_replogle.prepare_split(split=\"simulation\", seed=1)"
   ]
  },
  {
   "cell_type": "code",
   "execution_count": 18,
   "metadata": {},
   "outputs": [
    {
     "name": "stdout",
     "output_type": "stream",
     "text": [
      "Number of training samples:  819\n",
      "Number of test samples:  273\n"
     ]
    }
   ],
   "source": [
    "replogle_data = create_bulk_data(\n",
    "    pert_data=pert_data_replogle,\n",
    "    go_pca_=go_pca,\n",
    "    is_norman=False,\n",
    ")"
   ]
  },
  {
   "cell_type": "code",
   "execution_count": 19,
   "metadata": {},
   "outputs": [
    {
     "name": "stderr",
     "output_type": "stream",
     "text": [
      "[Parallel(n_jobs=-1)]: Using backend ThreadingBackend with 24 concurrent workers.\n",
      "[Parallel(n_jobs=-1)]: Done   2 tasks      | elapsed:   11.3s\n",
      "[Parallel(n_jobs=-1)]: Done 152 tasks      | elapsed:  1.5min\n",
      "[Parallel(n_jobs=-1)]: Done 300 out of 300 | elapsed:  2.9min finished\n",
      "[Parallel(n_jobs=24)]: Using backend ThreadingBackend with 24 concurrent workers.\n",
      "[Parallel(n_jobs=24)]: Done   2 tasks      | elapsed:    0.0s\n",
      "[Parallel(n_jobs=24)]: Done 152 tasks      | elapsed:    0.2s\n",
      "[Parallel(n_jobs=24)]: Done 300 out of 300 | elapsed:    0.3s finished\n"
     ]
    }
   ],
   "source": [
    "rf = RandomForestRegressor(n_estimators=300, n_jobs=-1, verbose=True)\n",
    "rf.fit(replogle_data['train_x'], replogle_data['train_y'])\n",
    "replogle_pred = rf.predict(replogle_data['test_x'])"
   ]
  },
  {
   "cell_type": "code",
   "execution_count": 20,
   "metadata": {},
   "outputs": [
    {
     "data": {
      "text/plain": [
       "{'pearson': 0.9895108907878827,\n",
       " 'pearson_delta': 0.4996188859054213,\n",
       " 'pearson_de_delta': 0.5969377546394078,\n",
       " 'pearson_delta_de_no_knockout': 0.6242286792814106}"
      ]
     },
     "execution_count": 20,
     "metadata": {},
     "output_type": "execute_result"
    }
   ],
   "source": [
    "replogle_res = eval(\n",
    "    pred=replogle_pred,\n",
    "    data=replogle_data,\n",
    "    pert_data=pert_data_replogle,\n",
    "    key_pattern=\"K562_%s_1+1\",\n",
    "    is_norman=False,\n",
    ")\n",
    "replogle_res"
   ]
  },
  {
   "cell_type": "code",
   "execution_count": 21,
   "metadata": {},
   "outputs": [
    {
     "data": {
      "text/plain": [
       "{'pearson': 0.9873861792853335,\n",
       " 'pearson_delta': 0.373266924493255,\n",
       " 'pearson_de_delta': 0.436235250801078,\n",
       " 'pearson_delta_de_no_knockout': 0.45858283010104833}"
      ]
     },
     "execution_count": 21,
     "metadata": {},
     "output_type": "execute_result"
    }
   ],
   "source": [
    "en = ElasticNet(alpha=1, l1_ratio=0.5)\n",
    "en.fit(replogle_data['train_x'], replogle_data['train_y'])\n",
    "replogle_pred_en = en.predict(replogle_data['test_x'])\n",
    "\n",
    "replogle_res_en = eval(\n",
    "    pred=replogle_pred_en,\n",
    "    data=replogle_data,\n",
    "    pert_data=pert_data_replogle,\n",
    "    key_pattern=\"K562_%s_1+1\",\n",
    "    is_norman=False,\n",
    ")\n",
    "replogle_res_en"
   ]
  },
  {
   "cell_type": "markdown",
   "metadata": {},
   "source": [
    "## Compare scGPT, meanPredictor, RF and EN on  metrics"
   ]
  },
  {
   "cell_type": "code",
   "execution_count": 22,
   "metadata": {},
   "outputs": [],
   "source": [
    "adamson_res_dir = Path(\"./save/dev_perturb_adamson-Sep26-20-36\")\n",
    "norman_res_dir = Path(\"./save/dev_perturb_norman-Sep24-13-29\")\n",
    "replogle_res_dir = Path(\"./save/dev_perturb_replogle-Sep24-15-06\")"
   ]
  },
  {
   "cell_type": "code",
   "execution_count": 23,
   "metadata": {},
   "outputs": [],
   "source": [
    "with open(adamson_res_dir / \"test_metrics.json\") as f:\n",
    "    adamson_scgpt = json.load(f)\n",
    "\n",
    "with open(adamson_res_dir / \"mean_metrics.json\") as f:\n",
    "    adamson_mean = json.load(f)\n",
    "\n",
    "with open(norman_res_dir / \"test_metrics.json\") as f:\n",
    "    norman_scpt = json.load(f)\n",
    "\n",
    "with open(norman_res_dir / \"mean_metrics.json\") as f:\n",
    "    norman_mean = json.load(f)\n",
    "\n",
    "with open(replogle_res_dir / \"test_metrics.json\") as f:\n",
    "    replogle_scgpt = json.load(f)\n",
    "\n",
    "with open(replogle_res_dir / \"mean_metrics.json\") as f:\n",
    "    replogle_mean = json.load(f)"
   ]
  },
  {
   "cell_type": "code",
   "execution_count": 47,
   "metadata": {},
   "outputs": [],
   "source": [
    "df = pd.DataFrame.from_dict(dict(\n",
    "    scgpt=adamson_scgpt,\n",
    "    mean=adamson_mean,\n",
    "    rf=adamson_res,\n",
    "    en=adamson_res_en,\n",
    "), orient='index')\n",
    "df = df.reset_index().rename(columns={\"index\": \"model\"})"
   ]
  },
  {
   "cell_type": "code",
   "execution_count": 48,
   "metadata": {},
   "outputs": [],
   "source": [
    "colors = ['#FF6666', '#33C7CC', '#0F0A26', '#425266', '#F7F5FF']\n"
   ]
  },
  {
   "cell_type": "code",
   "execution_count": 57,
   "metadata": {},
   "outputs": [],
   "source": [
    "def plot_results(df, ds):\n",
    "    fig, axs = plt.subplots(1, 4, figsize=(20, 5))\n",
    "\n",
    "    palette = {k:v for k, v in zip([\"scgpt\", \"mean\", \"rf\", \"en\"], ['#FF6666', '#33C7CC', '#0F0A26', '#425266'])}\n",
    "    sns.barplot(x='model', y='pearson', data=df, ax=axs[0], hue='model', palette=palette)\n",
    "    sns.barplot(x='model', y='pearson_delta', data=df, ax=axs[1], hue='model', palette=palette)\n",
    "    sns.barplot(x='model', y='pearson_de_delta', data=df, ax=axs[2], hue='model', palette=palette)\n",
    "    sns.barplot(x='model', y='pearson_delta_de_no_knockout', data=df, ax=axs[3], hue='model', palette=palette)\n",
    "\n",
    "    axs[0].set_title(f\"Pearson Results\")\n",
    "    axs[1].set_title(f\"Pearson Delta Results\")\n",
    "    axs[2].set_title(f\"Pearson Delta DE Results\")\n",
    "    axs[3].set_title(f\"Pearson Delta DE No Knockout Results\")\n",
    "\n",
    "    plt.tight_layout()\n",
    "    plt.show()"
   ]
  },
  {
   "cell_type": "code",
   "execution_count": 11,
   "metadata": {},
   "outputs": [
    {
     "ename": "NameError",
     "evalue": "name 'plot_results' is not defined",
     "output_type": "error",
     "traceback": [
      "\u001b[0;31m---------------------------------------------------------------------------\u001b[0m",
      "\u001b[0;31mNameError\u001b[0m                                 Traceback (most recent call last)",
      "Cell \u001b[0;32mIn[11], line 1\u001b[0m\n\u001b[0;32m----> 1\u001b[0m \u001b[43mplot_results\u001b[49m(df, \u001b[38;5;124m\"\u001b[39m\u001b[38;5;124mAdamson\u001b[39m\u001b[38;5;124m\"\u001b[39m)\n",
      "\u001b[0;31mNameError\u001b[0m: name 'plot_results' is not defined"
     ]
    }
   ],
   "source": [
    "plot_results(df, \"Adamson\")"
   ]
  },
  {
   "cell_type": "code",
   "execution_count": 59,
   "metadata": {},
   "outputs": [],
   "source": [
    "df = pd.DataFrame.from_dict(dict(\n",
    "    scgpt=norman_scpt,\n",
    "    mean=norman_mean,\n",
    "    rf=norman_res,\n",
    "    en=norman_res_en,\n",
    "), orient='index')\n",
    "df = df.reset_index().rename(columns={\"index\": \"model\"})"
   ]
  },
  {
   "cell_type": "code",
   "execution_count": 60,
   "metadata": {},
   "outputs": [
    {
     "data": {
      "image/png": "[encoded data removed]",
      "text/plain": [
       "<Figure size 2000x500 with 4 Axes>"
      ]
     },
     "metadata": {},
     "output_type": "display_data"
    }
   ],
   "source": [
    "plot_results(df, \"Norman\")"
   ]
  },
  {
   "cell_type": "code",
   "execution_count": 61,
   "metadata": {},
   "outputs": [],
   "source": [
    "df = pd.DataFrame.from_dict(dict(\n",
    "    scgpt=replogle_scgpt,\n",
    "    mean=replogle_mean,\n",
    "    rf=replogle_res,\n",
    "    en=replogle_res_en,\n",
    "), orient='index')\n",
    "df = df.reset_index().rename(columns={\"index\": \"model\"})\n"
   ]
  },
  {
   "cell_type": "code",
   "execution_count": 62,
   "metadata": {},
   "outputs": [
    {
     "data": {
      "image/png": "[encoded data removed]",
      "text/plain": [
       "<Figure size 2000x500 with 4 Axes>"
      ]
     },
     "metadata": {},
     "output_type": "display_data"
    }
   ],
   "source": [
    "plot_results(df, \"Replogle\")"
   ]
  },
  {
   "cell_type": "code",
   "execution_count": null,
   "metadata": {},
   "outputs": [],
   "source": []
  }
 ],
 "metadata": {
  "kernelspec": {
   "display_name": "scgpt_yml",
   "language": "python",
   "name": "scgpt_yml"
  },
  "language_info": {
   "codemirror_mode": {
    "name": "ipython",
    "version": 3
   },
   "file_extension": ".py",
   "mimetype": "text/x-python",
   "name": "python",
   "nbconvert_exporter": "python",
   "pygments_lexer": "ipython3",
   "version": "3.10.11"
  }
 },
 "nbformat": 4,
 "nbformat_minor": 2
}
