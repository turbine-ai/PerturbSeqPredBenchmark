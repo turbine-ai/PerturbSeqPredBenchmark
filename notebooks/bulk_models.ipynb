{
 "cells": [
  {
   "cell_type": "code",
   "execution_count": 1,
   "metadata": {},
   "outputs": [
    {
     "name": "stderr",
     "output_type": "stream",
     "text": [
      "/home/users/geroldcsendes/miniconda3/envs/scgpt_yml/lib/python3.10/site-packages/tqdm/auto.py:21: TqdmWarning: IProgress not found. Please update jupyter and ipywidgets. See https://ipywidgets.readthedocs.io/en/stable/user_install.html\n",
      "  from .autonotebook import tqdm as notebook_tqdm\n"
     ]
    }
   ],
   "source": [
    "from copy import deepcopy\n",
    "from pathlib import Path\n",
    "import pickle\n",
    "import json\n",
    "import sys\n",
    "from typing import Literal\n",
    "\n",
    "from gears import PertData\n",
    "import seaborn as sns\n",
    "from sklearn.linear_model import ElasticNet\n",
    "import pandas as pd\n",
    "import numpy as np\n",
    "from scipy.stats import pearsonr\n",
    "from sklearn.ensemble import RandomForestRegressor\n",
    "from sklearn.neighbors import KNeighborsRegressor\n",
    "from sklearn.decomposition import PCA\n",
    "import matplotlib.pyplot as plt\n",
    "\n",
    "sys.path.insert(0, \"../\")\n",
    "from scgpt.utils import compute_perturbation_metrics, filt_self_from_de"
   ]
  },
  {
   "cell_type": "code",
   "execution_count": 2,
   "metadata": {},
   "outputs": [],
   "source": [
    "with open(\"gene_name_map.json\") as f:\n",
    "    GENE_NAME_MAP = json.load(f)"
   ]
  },
  {
   "cell_type": "code",
   "execution_count": 3,
   "metadata": {},
   "outputs": [
    {
     "data": {
      "image/png": "[encoded data removed]",
      "text/plain": [
       "<Figure size 500x100 with 1 Axes>"
      ]
     },
     "metadata": {},
     "output_type": "display_data"
    }
   ],
   "source": [
    "sns.set_style(\"whitegrid\")\n",
    "colors = ['#FF6666', '#33C7CC', '#0F0A26', '#425266', '#F7F5FF']\n",
    "sns.set_palette(sns.color_palette(colors))\n",
    "sns.palplot(sns.color_palette(colors))"
   ]
  },
  {
   "cell_type": "code",
   "execution_count": 4,
   "metadata": {},
   "outputs": [],
   "source": [
    "def _get_go_features(is_norman: bool, perturbation_list: list, go_pca: pd.DataFrame):\n",
    "\n",
    "    GO_NULL_STR = \"NULL\"\n",
    "    go_pca = go_pca.copy()\n",
    "    pert_list = [i.replace(\"ctrl+\", \"\").replace(\"+ctrl\", \"\") for i in perturbation_list]\n",
    "    if is_norman:\n",
    "        # insert NULL as a row to the go_pca with 0 values\n",
    "        go_pca.loc[GO_NULL_STR] = 0\n",
    "\n",
    "        pert1 = []\n",
    "        pert2 = []\n",
    "        for i in pert_list:\n",
    "            if '+' in i:\n",
    "                p1, p2 = i.split('+')\n",
    "                pert1.append(p1)\n",
    "                pert2.append(p2)\n",
    "            else:\n",
    "                pert1.append(i)\n",
    "                pert2.append('NULL')\n",
    "        \n",
    "        go_features = go_pca.loc[pert1].values + go_pca.loc[pert2].values\n",
    "\n",
    "    else:\n",
    "\n",
    "        go_features = go_pca.loc[pert_list]\n",
    "    return go_features\n",
    "\n",
    "def create_bulk_data(\n",
    "    pert_data: PertData, go_pca_: pd.DataFrame, is_norman: bool):\n",
    "\n",
    "    data_splits = deepcopy(pert_data.set2conditions)\n",
    "\n",
    "    train_samples = data_splits['train']\n",
    "    val_samples = data_splits['val']\n",
    "    \n",
    "    train_samples.remove('ctrl')\n",
    "    if 'ctrl' in val_samples:\n",
    "        val_samples.remove('ctrl')\n",
    "    \n",
    "    test_samples = data_splits['test']\n",
    "\n",
    "    assert 'ctrl' not in test_samples, \"ctrl in test samples\"\n",
    "\n",
    "    data = pert_data.adata.to_df()\n",
    "    data['condition'] = pert_data.adata.obs['condition']\n",
    "    data = data.groupby('condition').mean()\n",
    "\n",
    "    train_x = _get_go_features(is_norman, train_samples, go_pca_)\n",
    "    train_y = data.loc[train_samples].copy()\n",
    "\n",
    "    val_x = _get_go_features(is_norman, val_samples, go_pca_)\n",
    "    val_y = data.loc[val_samples].copy()\n",
    "\n",
    "    test_x = _get_go_features(is_norman, test_samples, go_pca_)\n",
    "    test_y = data.loc[test_samples].copy()\n",
    "    ctrl_mean = data.loc['ctrl'].values\n",
    "\n",
    "    assert train_x.shape[0] == train_y.shape[0], \"Train shapes do not match\"\n",
    "    assert test_x.shape[0] == test_y.shape[0], \"Test shapes do not match\"\n",
    "    assert train_x.shape[1] == test_x.shape[1], \"Train and test features do not match\"\n",
    "    assert train_y.shape[1] == test_y.shape[1], \"Train and test targets do not match\"\n",
    "    assert ctrl_mean.shape[0] == train_y.shape[1] == test_y.shape[1], \"ctrl mean shape does not match\"\n",
    "    assert ctrl_mean.ndim == 1, \"ctrl mean is not 1D\"\n",
    "\n",
    "    print(\"Number of training samples: \", train_x.shape[0])\n",
    "    print(\"Number of test samples: \", test_x.shape[0])\n",
    "\n",
    "    return dict(\n",
    "        train_x=train_x,\n",
    "        train_y=train_y,\n",
    "        val_x=val_x,\n",
    "        val_y=val_y,\n",
    "        test_x=test_x,\n",
    "        test_y=test_y,\n",
    "        ctrl_mean=ctrl_mean,\n",
    "    )\n",
    "\n",
    "def hp_search(\n",
    "        model_class, hp_settings: list[dict], data, pert_data, key_pattern: str, is_norman: bool, out_dir: Path):\n",
    "    \n",
    "    _res = dict() \n",
    "    for _hp in hp_settings:\n",
    "        _model_hp_id = [f\"{k}={v}\" for k, v in _hp.items()]\n",
    "        _model_hp_id = \"_\".join(_model_hp_id)\n",
    "\n",
    "        _model = model_class(**_hp)\n",
    "\n",
    "        _model.fit(data['train_x'], data['train_y'])\n",
    "        _pred = _model.predict(data['val_x'])\n",
    "\n",
    "        valres = {\n",
    "            \"pert_cat\": data['val_y'].index,\n",
    "            \"pred\": _pred,\n",
    "            \"truth\": data['val_y'].values,\n",
    "        }\n",
    "        _eval = compute_perturbation_metrics(\n",
    "            results=valres,\n",
    "            ctrl_adata=pert_data.adata[pert_data.adata.obs[\"condition\"] == \"ctrl\"],\n",
    "        )\n",
    "        print(f\"HP: {_model_hp_id}\")\n",
    "        print(f\"Validation results: {_eval}\")\n",
    "        print(\"=\" * 20)\n",
    "        \n",
    "        _res[_model_hp_id] = dict(\n",
    "            model=_model,\n",
    "            eval=_eval,\n",
    "        )\n",
    "    # pick the best based on pearson_delta\n",
    "    best_n_est = max(_res, key=lambda x: _res[x]['eval']['pearson_delta'])\n",
    "\n",
    "    # inference on test\n",
    "    _model = _res[best_n_est]['model']\n",
    "    _pred = _model.predict(data['test_x'])\n",
    "    \n",
    "    testres = {\n",
    "        \"pert_cat\": data['test_y'].index,\n",
    "        \"pred\": _pred,\n",
    "        \"truth\": data['test_y'].values,\n",
    "    }\n",
    "    _eval = compute_perturbation_metrics(\n",
    "        results=testres,\n",
    "        ctrl_adata=pert_data.adata[pert_data.adata.obs[\"condition\"] == \"ctrl\"],\n",
    "    )\n",
    "    de_dict_noself = filt_self_from_de(pert_data, is_norman)\n",
    "    ctrl_data_noself = pert_data.adata[pert_data.adata.obs[\"condition\"] == \"ctrl\"].copy()\n",
    "    ctrl_data_noself.uns[\"rank_genes_groups_cov_all\"] = de_dict_noself\n",
    "    test_metrics_de20_noself = compute_perturbation_metrics(\n",
    "        testres, ctrl_data_noself\n",
    "    )[\"pearson_de_delta\"]\n",
    "\n",
    "    _eval[\"pearson_delta_de_no_knockout\"] = test_metrics_de20_noself\n",
    "\n",
    "    print(f\"Best n_estimator: {_model_hp_id}\")\n",
    "    print(f\"Test results: {_eval}\")\n",
    "\n",
    "    with open(out_dir / \"test_metrics.json\", \"w\") as f:\n",
    "        json.dump(_eval, f)\n",
    "\n",
    "\n",
    "    # persist best predictor\n",
    "    _pred_df = pd.DataFrame(_pred, index=data['test_y'].index, columns=data['test_y'].columns)\n",
    "    _pred_df.to_csv(out_dir / \"predictions.csv\")\n",
    "\n",
    "    bulk_res = {\n",
    "        \"pert_cat\": data['test_y'].index,\n",
    "        \"pred\": _pred,\n",
    "        \"truth\": data['test_y'].values,\n",
    "    }\n",
    "    np.savez(out_dir / \"test_res_best_model.npz\", **bulk_res)\n",
    "\n",
    "    return _eval\n",
    "\n",
    "def plot_results(df):\n",
    "    fig, axs = plt.subplots(1, 1, figsize=(5, 5))\n",
    "\n",
    "    palette = {k:v for k, v in zip([\"scgpt\", \"mean\", \"rf\", \"en\"], ['#FF6666', '#33C7CC', '#0F0A26', '#425266'])}\n",
    "    sns.barplot(x='model', y='pearson_delta', data=df, ax=axs, hue='model', palette=palette)\n",
    "\n",
    "    axs.set_title(f\"Pearson Delta Results\")\n",
    "\n",
    "    plt.tight_layout()\n",
    "    plt.show()\n",
    "\n",
    "\n",
    "def run_models_on_dataset(\n",
    "        _exp_ds_map: dict,\n",
    "        _pert_data: PertData,\n",
    "        _rs: int,\n",
    "        _ds_name: Literal[\"adamson\", \"norman\", \"replogle\", \"replogle_rpe1\"],\n",
    "        _key_pattern: str,\n",
    "        _res_out_dir_base: Path,\n",
    "\n",
    "):\n",
    "    _res_out_dir = _res_out_dir_base / _ds_name\n",
    "    for _exp, _ds in _exp_ds_map.items():\n",
    "        # random forest\n",
    "        _res_dir_model = _res_out_dir / \"RF\" / _exp\n",
    "        _res_dir_model.mkdir(parents=True, exist_ok=True)\n",
    "        _res_out = hp_search(\n",
    "            model_class=RandomForestRegressor,\n",
    "            hp_settings=[\n",
    "                dict(n_estimators=100, n_jobs=-1, random_state=_rs, verbose=True),\n",
    "                dict(n_estimators=300, n_jobs=-1, random_state=_rs, verbose=True),\n",
    "            ],\n",
    "            data=_ds,\n",
    "            pert_data=_pert_data,\n",
    "            key_pattern=_key_pattern,\n",
    "            is_norman=_ds_name == \"norman\",\n",
    "            out_dir=_res_dir_model,\n",
    "        )\n",
    "        # elastic net\n",
    "        _res_dir_model = _res_out_dir / \"EN\" / _exp\n",
    "        _res_dir_model.mkdir(parents=True, exist_ok=True)\n",
    "        _res_out = hp_search(\n",
    "            model_class=ElasticNet,\n",
    "            hp_settings=[\n",
    "                dict(alpha=0.1, l1_ratio=0.5, random_state=_rs),\n",
    "                dict(alpha=0.01, l1_ratio=0.5, random_state=_rs),\n",
    "            ],\n",
    "            data=_ds,\n",
    "            pert_data=_pert_data,\n",
    "            key_pattern=_key_pattern,\n",
    "            is_norman=_ds_name == \"norman\",\n",
    "            out_dir=_res_dir_model,\n",
    "        )\n",
    "        # knn regressor\n",
    "        _res_dir_model = _res_out_dir / \"KNN\" / _exp\n",
    "        _res_dir_model.mkdir(parents=True, exist_ok=True)\n",
    "        _res_out = hp_search(\n",
    "            model_class=KNeighborsRegressor,\n",
    "            hp_settings=[\n",
    "                dict(n_neighbors=1, n_jobs=-1),\n",
    "                dict(n_neighbors=2, n_jobs=-1),\n",
    "                dict(n_neighbors=5, n_jobs=-1),\n",
    "            ],\n",
    "            data=_ds,\n",
    "            pert_data=_pert_data,\n",
    "            key_pattern=_key_pattern,\n",
    "            is_norman=_ds_name == \"norman\",\n",
    "            out_dir=_res_dir_model,\n",
    "        )\n",
    "\n",
    "    # mean: does not depend on features\n",
    "    mean_pred = _ds[\"train_y\"].mean().values.reshape(1, -1)\n",
    "    mean_pred = np.repeat(mean_pred, _ds[\"test_y\"].shape[0], axis=0)\n",
    "\n",
    "    testres = {\n",
    "        \"pert_cat\": _ds['test_y'].index,\n",
    "        \"pred\": mean_pred,\n",
    "        \"truth\": _ds['test_y'].values,\n",
    "    }\n",
    "    res_mean = compute_perturbation_metrics(\n",
    "        results=testres,\n",
    "        ctrl_adata=_pert_data.adata[_pert_data.adata.obs[\"condition\"] == \"ctrl\"],\n",
    "    )\n",
    "    de_dict_noself = filt_self_from_de(_pert_data, _ds_name == \"norman\")\n",
    "    ctrl_data_noself = _pert_data.adata[_pert_data.adata.obs[\"condition\"] == \"ctrl\"].copy()\n",
    "    ctrl_data_noself.uns[\"rank_genes_groups_cov_all\"] = de_dict_noself\n",
    "    test_metrics_de20_noself = compute_perturbation_metrics(\n",
    "        testres, ctrl_data_noself\n",
    "    )[\"pearson_de_delta\"]\n",
    "\n",
    "    res_mean[\"pearson_delta_de_no_knockout\"] = test_metrics_de20_noself\n",
    "\n",
    "    _res_dir_model = _res_out_dir / \"mean\"\n",
    "    _res_dir_model.mkdir(parents=True, exist_ok=True)\n",
    "    with open(_res_dir_model / \"test_metrics.json\", \"w\") as f:\n",
    "        json.dump(res_mean, f)\n",
    "    \n",
    "    pred_df = pd.DataFrame(mean_pred, index=_ds[\"test_y\"].index, columns=_ds[\"test_y\"].columns)\n",
    "    pred_df.to_csv(_res_dir_model / \"predictions.csv\")\n",
    "\n",
    "    bulk_res = {\n",
    "        \"pert_cat\": _ds['test_y'].index,\n",
    "        \"pred\": mean_pred,\n",
    "        \"truth\": _ds['test_y'].values,\n",
    "    }\n",
    "    np.savez(_res_dir_model / \"test_res_best_model.npz\", **bulk_res)\n",
    "\n",
    "\n",
    "def load_bulk_model_resutlts( dataset: str, _res_dir: Path = Path(\"./save\")):\n",
    "    res_dict = {}\n",
    "    for model in [\"RF\", \"EN\", \"KNN\"]:\n",
    "        for feature in [\"go\", \"elmo\", \"foundation\", \"gpt\"]:\n",
    "            with open(_res_dir / dataset / model / feature / \"test_metrics.json\") as f:\n",
    "                res_dict[f\"{model}_{feature}\"] = json.load(f)\n",
    "    with open(_res_dir / dataset / \"mean\" / \"test_metrics.json\") as f:\n",
    "        res_dict[\"mean\"] = json.load(f)\n",
    "\n",
    "    return res_dict\n",
    "\n",
    "\n",
    "def df_pca_transform(df, n_components=256):\n",
    "    pca = PCA(n_components=n_components)\n",
    "    pca_trafo = pca.fit_transform(df)\n",
    "    pca_df = pd.DataFrame(pca_trafo, index=df.index)\n",
    "    return pca_df"
   ]
  },
  {
   "cell_type": "code",
   "execution_count": 5,
   "metadata": {},
   "outputs": [],
   "source": [
    "RANDOM_STATE = 42\n",
    "\n",
    "RES_DIR = Path(\"./save\")"
   ]
  },
  {
   "cell_type": "code",
   "execution_count": 6,
   "metadata": {},
   "outputs": [],
   "source": [
    "go = pd.read_csv(\"../data/go/go_raw_matched.csv\", index_col=0)\n",
    "go = df_pca_transform(go, n_components=256)\n",
    "\n",
    "sc_elmo = pd.read_parquet(\"../data/scElmo/ensem_emb_gpt3.5all_new.parquet\")\n",
    "sc_elmo = df_pca_transform(sc_elmo, n_components=256)\n",
    "\n",
    "sc_foundation = pd.read_parquet(\"../data/scFoundation_embeds/embeddings.parquet\")\n",
    "sc_foundation = df_pca_transform(sc_foundation, n_components=256)\n",
    "\n",
    "sc_gpt = pd.read_parquet(\"../data/scgpt_embeds/embeddings.parquet\")\n",
    "sc_gpt = df_pca_transform(sc_gpt, n_components=256)"
   ]
  },
  {
   "cell_type": "markdown",
   "metadata": {},
   "source": [
    "## Adamson"
   ]
  },
  {
   "cell_type": "code",
   "execution_count": 7,
   "metadata": {},
   "outputs": [
    {
     "name": "stderr",
     "output_type": "stream",
     "text": [
      "Found local copy...\n",
      "Local copy of pyg dataset is detected. Loading...\n",
      "Done!\n",
      "Local copy of split is detected. Loading...\n",
      "Simulation split test composition:\n",
      "combo_seen0:0\n",
      "combo_seen1:0\n",
      "combo_seen2:0\n",
      "unseen_single:22\n",
      "Done!\n"
     ]
    },
    {
     "name": "stdout",
     "output_type": "stream",
     "text": [
      "Number of training samples:  57\n",
      "Number of test samples:  22\n",
      "Number of training samples:  57\n",
      "Number of test samples:  22\n",
      "Number of training samples:  57\n",
      "Number of test samples:  22\n",
      "Number of training samples:  57\n",
      "Number of test samples:  22\n"
     ]
    }
   ],
   "source": [
    "pert_data_adamson = PertData(\"../data/\")\n",
    "pert_data_adamson.load(data_name='adamson')\n",
    "pert_data_adamson.prepare_split(split=\"simulation\", seed=1)\n",
    "\n",
    "# create dataset with go features\n",
    "adamson_data_go = create_bulk_data(\n",
    "    pert_data=pert_data_adamson,\n",
    "    go_pca_=go,\n",
    "    is_norman=False,\n",
    ")\n",
    "# create dataset with elmo features\n",
    "adamson_data_elmo = create_bulk_data(\n",
    "    pert_data=pert_data_adamson,\n",
    "    go_pca_=sc_elmo,\n",
    "    is_norman=False,\n",
    ")\n",
    "# create dataset with sc-foundation features\n",
    "adamson_data_foundation = create_bulk_data(\n",
    "    pert_data=pert_data_adamson,\n",
    "    go_pca_=sc_foundation,\n",
    "    is_norman=False,\n",
    ")\n",
    "# create dataset with sc-gpt features\n",
    "adamson_data_gpt = create_bulk_data(\n",
    "    pert_data=pert_data_adamson,\n",
    "    go_pca_=sc_gpt,\n",
    "    is_norman=False,\n",
    ")"
   ]
  },
  {
   "cell_type": "code",
   "execution_count": 8,
   "metadata": {},
   "outputs": [
    {
     "name": "stderr",
     "output_type": "stream",
     "text": [
      "[Parallel(n_jobs=-1)]: Using backend ThreadingBackend with 24 concurrent workers.\n",
      "[Parallel(n_jobs=-1)]: Done   2 tasks      | elapsed:    0.5s\n",
      "[Parallel(n_jobs=-1)]: Done 100 out of 100 | elapsed:    2.9s finished\n",
      "[Parallel(n_jobs=24)]: Using backend ThreadingBackend with 24 concurrent workers.\n",
      "[Parallel(n_jobs=24)]: Done   2 tasks      | elapsed:    0.0s\n",
      "[Parallel(n_jobs=24)]: Done 100 out of 100 | elapsed:    0.0s finished\n"
     ]
    },
    {
     "name": "stdout",
     "output_type": "stream",
     "text": [
      "HP: n_estimators=100_n_jobs=-1_random_state=42_verbose=True\n",
      "Validation results: {'pearson': 0.9949741238996015, 'pearson_de': 0.9668135773087855, 'pearson_delta': 0.8498202643685815, 'pearson_de_delta': 0.8753039970752129}\n",
      "====================\n"
     ]
    },
    {
     "name": "stderr",
     "output_type": "stream",
     "text": [
      "[Parallel(n_jobs=-1)]: Using backend ThreadingBackend with 24 concurrent workers.\n",
      "[Parallel(n_jobs=-1)]: Done   2 tasks      | elapsed:    0.5s\n",
      "[Parallel(n_jobs=-1)]: Done 152 tasks      | elapsed:    4.1s\n",
      "[Parallel(n_jobs=-1)]: Done 300 out of 300 | elapsed:    8.0s finished\n",
      "[Parallel(n_jobs=24)]: Using backend ThreadingBackend with 24 concurrent workers.\n",
      "[Parallel(n_jobs=24)]: Done   2 tasks      | elapsed:    0.0s\n",
      "[Parallel(n_jobs=24)]: Done 152 tasks      | elapsed:    0.0s\n",
      "[Parallel(n_jobs=24)]: Done 300 out of 300 | elapsed:    0.1s finished\n"
     ]
    },
    {
     "name": "stdout",
     "output_type": "stream",
     "text": [
      "HP: n_estimators=300_n_jobs=-1_random_state=42_verbose=True\n",
      "Validation results: {'pearson': 0.9950391296256623, 'pearson_de': 0.9673707013683047, 'pearson_delta': 0.8490234387856473, 'pearson_de_delta': 0.8739927796564669}\n",
      "====================\n"
     ]
    },
    {
     "name": "stderr",
     "output_type": "stream",
     "text": [
      "[Parallel(n_jobs=24)]: Using backend ThreadingBackend with 24 concurrent workers.\n",
      "[Parallel(n_jobs=24)]: Done   2 tasks      | elapsed:    0.0s\n",
      "[Parallel(n_jobs=24)]: Done 100 out of 100 | elapsed:    0.0s finished\n"
     ]
    },
    {
     "name": "stdout",
     "output_type": "stream",
     "text": [
      "Best n_estimator: n_estimators=300_n_jobs=-1_random_state=42_verbose=True\n",
      "Test results: {'pearson': 0.9925079678927294, 'pearson_de': 0.9712207452813888, 'pearson_delta': 0.7387122168386893, 'pearson_de_delta': 0.7416013300599444, 'pearson_delta_de_no_knockout': 0.7958225008676588}\n",
      "HP: alpha=0.1_l1_ratio=0.5_random_state=42\n",
      "Validation results: {'pearson': 0.993305434688856, 'pearson_de': 0.9595821684797686, 'pearson_delta': 0.8130623993629017, 'pearson_de_delta': 0.8591759542381874}\n",
      "====================\n",
      "HP: alpha=0.01_l1_ratio=0.5_random_state=42\n",
      "Validation results: {'pearson': 0.9946485533785504, 'pearson_de': 0.9737304033292201, 'pearson_delta': 0.8195291276680313, 'pearson_de_delta': 0.8713259181363517}\n",
      "====================\n",
      "Best n_estimator: alpha=0.01_l1_ratio=0.5_random_state=42\n",
      "Test results: {'pearson': 0.9924295728480903, 'pearson_de': 0.9719229187025998, 'pearson_delta': 0.7114664170024526, 'pearson_de_delta': 0.7509166405832332, 'pearson_delta_de_no_knockout': 0.805330772337769}\n",
      "HP: n_neighbors=1_n_jobs=-1\n",
      "Validation results: {'pearson': 0.9919153919096491, 'pearson_de': 0.9749767211261055, 'pearson_delta': 0.8119470288787748, 'pearson_de_delta': 0.8612796534738923}\n",
      "====================\n",
      "HP: n_neighbors=2_n_jobs=-1\n",
      "Validation results: {'pearson': 0.9939065027639252, 'pearson_de': 0.9713694718074228, 'pearson_delta': 0.821849408567705, 'pearson_de_delta': 0.8904522069459355}\n",
      "====================\n",
      "HP: n_neighbors=5_n_jobs=-1\n",
      "Validation results: {'pearson': 0.9955974288088228, 'pearson_de': 0.9782637660108711, 'pearson_delta': 0.8623568086703507, 'pearson_de_delta': 0.8903010866600068}\n",
      "====================\n",
      "Best n_estimator: n_neighbors=5_n_jobs=-1\n",
      "Test results: {'pearson': 0.9923034025518104, 'pearson_de': 0.9711187045577183, 'pearson_delta': 0.7127668771050739, 'pearson_de_delta': 0.745166033883255, 'pearson_delta_de_no_knockout': 0.8021221148082159}\n"
     ]
    },
    {
     "name": "stderr",
     "output_type": "stream",
     "text": [
      "[Parallel(n_jobs=-1)]: Using backend ThreadingBackend with 24 concurrent workers.\n",
      "[Parallel(n_jobs=-1)]: Done   2 tasks      | elapsed:    0.5s\n",
      "[Parallel(n_jobs=-1)]: Done 100 out of 100 | elapsed:    3.2s finished\n",
      "[Parallel(n_jobs=24)]: Using backend ThreadingBackend with 24 concurrent workers.\n",
      "[Parallel(n_jobs=24)]: Done   2 tasks      | elapsed:    0.0s\n",
      "[Parallel(n_jobs=24)]: Done 100 out of 100 | elapsed:    0.0s finished\n"
     ]
    },
    {
     "name": "stdout",
     "output_type": "stream",
     "text": [
      "HP: n_estimators=100_n_jobs=-1_random_state=42_verbose=True\n",
      "Validation results: {'pearson': 0.9937325287937719, 'pearson_de': 0.9512168821850976, 'pearson_delta': 0.8335332734422511, 'pearson_de_delta': 0.8542943076652685}\n",
      "====================\n"
     ]
    },
    {
     "name": "stderr",
     "output_type": "stream",
     "text": [
      "[Parallel(n_jobs=-1)]: Using backend ThreadingBackend with 24 concurrent workers.\n",
      "[Parallel(n_jobs=-1)]: Done   2 tasks      | elapsed:    0.5s\n",
      "[Parallel(n_jobs=-1)]: Done 152 tasks      | elapsed:    4.5s\n",
      "[Parallel(n_jobs=-1)]: Done 300 out of 300 | elapsed:    8.6s finished\n",
      "[Parallel(n_jobs=24)]: Using backend ThreadingBackend with 24 concurrent workers.\n",
      "[Parallel(n_jobs=24)]: Done   2 tasks      | elapsed:    0.0s\n",
      "[Parallel(n_jobs=24)]: Done 152 tasks      | elapsed:    0.0s\n",
      "[Parallel(n_jobs=24)]: Done 300 out of 300 | elapsed:    0.1s finished\n"
     ]
    },
    {
     "name": "stdout",
     "output_type": "stream",
     "text": [
      "HP: n_estimators=300_n_jobs=-1_random_state=42_verbose=True\n",
      "Validation results: {'pearson': 0.993630905735834, 'pearson_de': 0.9507886216717296, 'pearson_delta': 0.8323110284743259, 'pearson_de_delta': 0.858732681888852}\n",
      "====================\n"
     ]
    },
    {
     "name": "stderr",
     "output_type": "stream",
     "text": [
      "[Parallel(n_jobs=24)]: Using backend ThreadingBackend with 24 concurrent workers.\n",
      "[Parallel(n_jobs=24)]: Done   2 tasks      | elapsed:    0.0s\n",
      "[Parallel(n_jobs=24)]: Done 100 out of 100 | elapsed:    0.0s finished\n"
     ]
    },
    {
     "name": "stdout",
     "output_type": "stream",
     "text": [
      "Best n_estimator: n_estimators=300_n_jobs=-1_random_state=42_verbose=True\n",
      "Test results: {'pearson': 0.9922350615699602, 'pearson_de': 0.9683409316341376, 'pearson_delta': 0.7064329725407025, 'pearson_de_delta': 0.7259616490115844, 'pearson_delta_de_no_knockout': 0.7814561920519477}\n",
      "HP: alpha=0.1_l1_ratio=0.5_random_state=42\n",
      "Validation results: {'pearson': 0.9923862220798599, 'pearson_de': 0.943076539211044, 'pearson_delta': 0.783965688542646, 'pearson_de_delta': 0.8358720828852689}\n",
      "====================\n",
      "HP: alpha=0.01_l1_ratio=0.5_random_state=42\n",
      "Validation results: {'pearson': 0.992531824509008, 'pearson_de': 0.9456975325201835, 'pearson_delta': 0.7895113048308822, 'pearson_de_delta': 0.8460284033397011}\n",
      "====================\n",
      "Best n_estimator: alpha=0.01_l1_ratio=0.5_random_state=42\n",
      "Test results: {'pearson': 0.9925953166738446, 'pearson_de': 0.9690035485054341, 'pearson_delta': 0.7110958954794616, 'pearson_de_delta': 0.7307382554330565, 'pearson_delta_de_no_knockout': 0.7863447968765365}\n",
      "HP: n_neighbors=1_n_jobs=-1\n",
      "Validation results: {'pearson': 0.9911358861404322, 'pearson_de': 0.96731574843011, 'pearson_delta': 0.732723719012894, 'pearson_de_delta': 0.817295369762048}\n",
      "====================\n",
      "HP: n_neighbors=2_n_jobs=-1\n",
      "Validation results: {'pearson': 0.9932125763879204, 'pearson_de': 0.9746272951945555, 'pearson_delta': 0.7988010650972976, 'pearson_de_delta': 0.8629831529659506}\n",
      "====================\n",
      "HP: n_neighbors=5_n_jobs=-1\n",
      "Validation results: {'pearson': 0.992345329547292, 'pearson_de': 0.9478802525837702, 'pearson_delta': 0.77178424210344, 'pearson_de_delta': 0.8211132655015457}\n",
      "====================\n",
      "Best n_estimator: n_neighbors=5_n_jobs=-1\n",
      "Test results: {'pearson': 0.9895282377972184, 'pearson_de': 0.9644242637272048, 'pearson_delta': 0.6420484354970877, 'pearson_de_delta': 0.6513008154696432, 'pearson_delta_de_no_knockout': 0.7057614954327921}\n"
     ]
    },
    {
     "name": "stderr",
     "output_type": "stream",
     "text": [
      "[Parallel(n_jobs=-1)]: Using backend ThreadingBackend with 24 concurrent workers.\n",
      "[Parallel(n_jobs=-1)]: Done   2 tasks      | elapsed:    0.5s\n",
      "[Parallel(n_jobs=-1)]: Done 100 out of 100 | elapsed:    3.2s finished\n",
      "[Parallel(n_jobs=24)]: Using backend ThreadingBackend with 24 concurrent workers.\n",
      "[Parallel(n_jobs=24)]: Done   2 tasks      | elapsed:    0.0s\n",
      "[Parallel(n_jobs=24)]: Done 100 out of 100 | elapsed:    0.0s finished\n"
     ]
    },
    {
     "name": "stdout",
     "output_type": "stream",
     "text": [
      "HP: n_estimators=100_n_jobs=-1_random_state=42_verbose=True\n",
      "Validation results: {'pearson': 0.9926287268560816, 'pearson_de': 0.9456713835600824, 'pearson_delta': 0.7921670389251104, 'pearson_de_delta': 0.8480506704328585}\n",
      "====================\n"
     ]
    },
    {
     "name": "stderr",
     "output_type": "stream",
     "text": [
      "[Parallel(n_jobs=-1)]: Using backend ThreadingBackend with 24 concurrent workers.\n",
      "[Parallel(n_jobs=-1)]: Done   2 tasks      | elapsed:    1.1s\n",
      "[Parallel(n_jobs=-1)]: Done 152 tasks      | elapsed:    5.1s\n",
      "[Parallel(n_jobs=-1)]: Done 300 out of 300 | elapsed:    9.2s finished\n",
      "[Parallel(n_jobs=24)]: Using backend ThreadingBackend with 24 concurrent workers.\n",
      "[Parallel(n_jobs=24)]: Done   2 tasks      | elapsed:    0.0s\n",
      "[Parallel(n_jobs=24)]: Done 152 tasks      | elapsed:    0.0s\n",
      "[Parallel(n_jobs=24)]: Done 300 out of 300 | elapsed:    0.1s finished\n"
     ]
    },
    {
     "name": "stdout",
     "output_type": "stream",
     "text": [
      "HP: n_estimators=300_n_jobs=-1_random_state=42_verbose=True\n",
      "Validation results: {'pearson': 0.9928982256415179, 'pearson_de': 0.9485244715313551, 'pearson_delta': 0.8014397777931459, 'pearson_de_delta': 0.8566203400309659}\n",
      "====================\n"
     ]
    },
    {
     "name": "stderr",
     "output_type": "stream",
     "text": [
      "[Parallel(n_jobs=24)]: Using backend ThreadingBackend with 24 concurrent workers.\n",
      "[Parallel(n_jobs=24)]: Done   2 tasks      | elapsed:    0.0s\n",
      "[Parallel(n_jobs=24)]: Done 152 tasks      | elapsed:    0.0s\n",
      "[Parallel(n_jobs=24)]: Done 300 out of 300 | elapsed:    0.1s finished\n"
     ]
    },
    {
     "name": "stdout",
     "output_type": "stream",
     "text": [
      "Best n_estimator: n_estimators=300_n_jobs=-1_random_state=42_verbose=True\n",
      "Test results: {'pearson': 0.9927924399035273, 'pearson_de': 0.9704231895254903, 'pearson_delta': 0.7197963102448559, 'pearson_de_delta': 0.7296384711460768, 'pearson_delta_de_no_knockout': 0.7852424235943279}\n",
      "HP: alpha=0.1_l1_ratio=0.5_random_state=42\n",
      "Validation results: {'pearson': 0.9923657687853041, 'pearson_de': 0.9484761633856513, 'pearson_delta': 0.7718299140256021, 'pearson_de_delta': 0.8370151312580804}\n",
      "====================\n",
      "HP: alpha=0.01_l1_ratio=0.5_random_state=42\n",
      "Validation results: {'pearson': 0.9902326062522852, 'pearson_de': 0.9478115610498078, 'pearson_delta': 0.6921154404111153, 'pearson_de_delta': 0.8059917841766752}\n",
      "====================\n",
      "Best n_estimator: alpha=0.01_l1_ratio=0.5_random_state=42\n",
      "Test results: {'pearson': 0.9921851236725142, 'pearson_de': 0.9662792101971498, 'pearson_delta': 0.6940337521744198, 'pearson_de_delta': 0.7136615362831807, 'pearson_delta_de_no_knockout': 0.7693347701404792}\n",
      "HP: n_neighbors=1_n_jobs=-1\n",
      "Validation results: {'pearson': 0.9817440088188484, 'pearson_de': 0.9499920574044803, 'pearson_delta': 0.6124456441827698, 'pearson_de_delta': 0.7406938292524501}\n",
      "====================\n",
      "HP: n_neighbors=2_n_jobs=-1\n",
      "Validation results: {'pearson': 0.9855256857808679, 'pearson_de': 0.920795661905491, 'pearson_delta': 0.5042474379732964, 'pearson_de_delta': 0.5606258867957357}\n",
      "====================\n",
      "HP: n_neighbors=5_n_jobs=-1\n",
      "Validation results: {'pearson': 0.9897096804879838, 'pearson_de': 0.9485719024478223, 'pearson_delta': 0.7092283830971053, 'pearson_de_delta': 0.8168510297778084}\n",
      "====================\n",
      "Best n_estimator: n_neighbors=5_n_jobs=-1\n",
      "Test results: {'pearson': 0.9902855765665535, 'pearson_de': 0.9599920504494176, 'pearson_delta': 0.6286810216924601, 'pearson_de_delta': 0.6982618483977955, 'pearson_delta_de_no_knockout': 0.746815923885234}\n"
     ]
    },
    {
     "name": "stderr",
     "output_type": "stream",
     "text": [
      "[Parallel(n_jobs=-1)]: Using backend ThreadingBackend with 24 concurrent workers.\n",
      "[Parallel(n_jobs=-1)]: Done   2 tasks      | elapsed:    0.8s\n",
      "[Parallel(n_jobs=-1)]: Done 100 out of 100 | elapsed:    3.2s finished\n",
      "[Parallel(n_jobs=24)]: Using backend ThreadingBackend with 24 concurrent workers.\n",
      "[Parallel(n_jobs=24)]: Done   2 tasks      | elapsed:    0.0s\n",
      "[Parallel(n_jobs=24)]: Done 100 out of 100 | elapsed:    0.0s finished\n"
     ]
    },
    {
     "name": "stdout",
     "output_type": "stream",
     "text": [
      "HP: n_estimators=100_n_jobs=-1_random_state=42_verbose=True\n",
      "Validation results: {'pearson': 0.9928868119300035, 'pearson_de': 0.9466315941729283, 'pearson_delta': 0.7995023457530973, 'pearson_de_delta': 0.8421043168245381}\n",
      "====================\n"
     ]
    },
    {
     "name": "stderr",
     "output_type": "stream",
     "text": [
      "[Parallel(n_jobs=-1)]: Using backend ThreadingBackend with 24 concurrent workers.\n",
      "[Parallel(n_jobs=-1)]: Done   2 tasks      | elapsed:    0.6s\n",
      "[Parallel(n_jobs=-1)]: Done 152 tasks      | elapsed:    4.5s\n",
      "[Parallel(n_jobs=-1)]: Done 300 out of 300 | elapsed:    8.6s finished\n",
      "[Parallel(n_jobs=24)]: Using backend ThreadingBackend with 24 concurrent workers.\n",
      "[Parallel(n_jobs=24)]: Done   2 tasks      | elapsed:    0.0s\n",
      "[Parallel(n_jobs=24)]: Done 152 tasks      | elapsed:    0.0s\n",
      "[Parallel(n_jobs=24)]: Done 300 out of 300 | elapsed:    0.1s finished\n"
     ]
    },
    {
     "name": "stdout",
     "output_type": "stream",
     "text": [
      "HP: n_estimators=300_n_jobs=-1_random_state=42_verbose=True\n",
      "Validation results: {'pearson': 0.9930629670381826, 'pearson_de': 0.947233709238936, 'pearson_delta': 0.8068301555307127, 'pearson_de_delta': 0.8465399485070045}\n",
      "====================\n"
     ]
    },
    {
     "name": "stderr",
     "output_type": "stream",
     "text": [
      "[Parallel(n_jobs=24)]: Using backend ThreadingBackend with 24 concurrent workers.\n",
      "[Parallel(n_jobs=24)]: Done   2 tasks      | elapsed:    0.0s\n",
      "[Parallel(n_jobs=24)]: Done 152 tasks      | elapsed:    0.0s\n",
      "[Parallel(n_jobs=24)]: Done 300 out of 300 | elapsed:    0.1s finished\n"
     ]
    },
    {
     "name": "stdout",
     "output_type": "stream",
     "text": [
      "Best n_estimator: n_estimators=300_n_jobs=-1_random_state=42_verbose=True\n",
      "Test results: {'pearson': 0.9929120897756438, 'pearson_de': 0.9701725716012329, 'pearson_delta': 0.7273026669206311, 'pearson_de_delta': 0.7347287452365049, 'pearson_delta_de_no_knockout': 0.7897912583374844}\n",
      "HP: alpha=0.1_l1_ratio=0.5_random_state=42\n",
      "Validation results: {'pearson': 0.9923862713573958, 'pearson_de': 0.9430765215240952, 'pearson_delta': 0.7839656959364553, 'pearson_de_delta': 0.8358721051728415}\n",
      "====================\n",
      "HP: alpha=0.01_l1_ratio=0.5_random_state=42\n",
      "Validation results: {'pearson': 0.9927456325513191, 'pearson_de': 0.9449517981838004, 'pearson_delta': 0.7962853409411472, 'pearson_de_delta': 0.829109629715666}\n",
      "====================\n",
      "Best n_estimator: alpha=0.01_l1_ratio=0.5_random_state=42\n",
      "Test results: {'pearson': 0.9927916177700072, 'pearson_de': 0.9715012161479474, 'pearson_delta': 0.7183770450857933, 'pearson_de_delta': 0.73798748392156, 'pearson_delta_de_no_knockout': 0.7932673440535196}\n",
      "HP: n_neighbors=1_n_jobs=-1\n",
      "Validation results: {'pearson': 0.9931990195640551, 'pearson_de': 0.9658314378427478, 'pearson_delta': 0.803978993842026, 'pearson_de_delta': 0.8399690057288224}\n",
      "====================\n",
      "HP: n_neighbors=2_n_jobs=-1\n",
      "Validation results: {'pearson': 0.9938723282831269, 'pearson_de': 0.9581410108322156, 'pearson_delta': 0.8211862587235169, 'pearson_de_delta': 0.8205533207896484}\n",
      "====================\n",
      "HP: n_neighbors=5_n_jobs=-1\n",
      "Validation results: {'pearson': 0.9953368518300552, 'pearson_de': 0.9627236519473692, 'pearson_delta': 0.8646811517741926, 'pearson_de_delta': 0.8662527734064237}\n",
      "====================\n",
      "Best n_estimator: n_neighbors=5_n_jobs=-1\n",
      "Test results: {'pearson': 0.9935628585735536, 'pearson_de': 0.9755217056156198, 'pearson_delta': 0.7526385655107606, 'pearson_de_delta': 0.777665497865123, 'pearson_delta_de_no_knockout': 0.8339384061236242}\n"
     ]
    }
   ],
   "source": [
    "dataset_exp_name_map = {\n",
    "    \"go\": adamson_data_go,\n",
    "    \"elmo\": adamson_data_elmo,\n",
    "    \"foundation\": adamson_data_foundation,\n",
    "    \"gpt\": adamson_data_gpt,\n",
    "}\n",
    "run_models_on_dataset(\n",
    "    _exp_ds_map=dataset_exp_name_map,\n",
    "    _pert_data=pert_data_adamson,\n",
    "    _rs=RANDOM_STATE,\n",
    "    _ds_name=\"adamson\",\n",
    "    _key_pattern=\"K562(?)_%s_1+1\",\n",
    "    _res_out_dir_base=RES_DIR\n",
    ")"
   ]
  },
  {
   "cell_type": "markdown",
   "metadata": {},
   "source": [
    "## Norman"
   ]
  },
  {
   "cell_type": "code",
   "execution_count": 9,
   "metadata": {},
   "outputs": [
    {
     "name": "stderr",
     "output_type": "stream",
     "text": [
      "Local copy of pyg dataset is detected. Loading...\n",
      "Done!\n",
      "Local copy of split is detected. Loading...\n",
      "Simulation split test composition:\n",
      "combo_seen0:9\n",
      "combo_seen1:52\n",
      "combo_seen2:18\n",
      "unseen_single:37\n",
      "Done!\n"
     ]
    },
    {
     "name": "stdout",
     "output_type": "stream",
     "text": [
      "Number of training samples:  137\n",
      "Number of test samples:  116\n",
      "Number of training samples:  137\n",
      "Number of test samples:  116\n",
      "Number of training samples:  137\n",
      "Number of test samples:  116\n",
      "Number of training samples:  137\n",
      "Number of test samples:  116\n"
     ]
    }
   ],
   "source": [
    "pert_data_norman = PertData(\"../data/\")\n",
    "pert_data_norman.load(data_path='../data/norman/')\n",
    "pert_data_norman.prepare_split(split=\"simulation\", seed=1)\n",
    "\n",
    "# create dataset with go features\n",
    "norman_data_go = create_bulk_data(\n",
    "    pert_data=pert_data_norman,\n",
    "    go_pca_=go,\n",
    "    is_norman=True,\n",
    ")\n",
    "# create dataset with elmo features\n",
    "norman_data_elmo = create_bulk_data(\n",
    "    pert_data=pert_data_norman,\n",
    "    go_pca_=sc_elmo,\n",
    "    is_norman=True,\n",
    ")\n",
    "# create dataset with sc-foundation features\n",
    "norman_data_foundation = create_bulk_data(\n",
    "    pert_data=pert_data_norman,\n",
    "    go_pca_=sc_foundation,\n",
    "    is_norman=True,\n",
    ")\n",
    "# create dataset with sc-gpt features\n",
    "norman_data_gpt = create_bulk_data(\n",
    "    pert_data=pert_data_norman,\n",
    "    go_pca_=sc_gpt,\n",
    "    is_norman=True,\n",
    ")"
   ]
  },
  {
   "cell_type": "code",
   "execution_count": 10,
   "metadata": {},
   "outputs": [
    {
     "name": "stderr",
     "output_type": "stream",
     "text": [
      "[Parallel(n_jobs=-1)]: Using backend ThreadingBackend with 24 concurrent workers.\n",
      "[Parallel(n_jobs=-1)]: Done   2 tasks      | elapsed:    1.2s\n",
      "[Parallel(n_jobs=-1)]: Done 100 out of 100 | elapsed:    7.1s finished\n",
      "[Parallel(n_jobs=24)]: Using backend ThreadingBackend with 24 concurrent workers.\n",
      "[Parallel(n_jobs=24)]: Done   2 tasks      | elapsed:    0.0s\n",
      "[Parallel(n_jobs=24)]: Done 100 out of 100 | elapsed:    0.0s finished\n"
     ]
    },
    {
     "name": "stdout",
     "output_type": "stream",
     "text": [
      "HP: n_estimators=100_n_jobs=-1_random_state=42_verbose=True\n",
      "Validation results: {'pearson': 0.9907300129888947, 'pearson_de': 0.9093725239513524, 'pearson_delta': 0.581854148061458, 'pearson_de_delta': 0.5564129275738104}\n",
      "====================\n"
     ]
    },
    {
     "name": "stderr",
     "output_type": "stream",
     "text": [
      "[Parallel(n_jobs=-1)]: Using backend ThreadingBackend with 24 concurrent workers.\n",
      "[Parallel(n_jobs=-1)]: Done   2 tasks      | elapsed:    1.2s\n",
      "[Parallel(n_jobs=-1)]: Done 152 tasks      | elapsed:    9.9s\n",
      "[Parallel(n_jobs=-1)]: Done 300 out of 300 | elapsed:   18.6s finished\n",
      "[Parallel(n_jobs=24)]: Using backend ThreadingBackend with 24 concurrent workers.\n",
      "[Parallel(n_jobs=24)]: Done   2 tasks      | elapsed:    0.0s\n",
      "[Parallel(n_jobs=24)]: Done 152 tasks      | elapsed:    0.0s\n",
      "[Parallel(n_jobs=24)]: Done 300 out of 300 | elapsed:    0.1s finished\n"
     ]
    },
    {
     "name": "stdout",
     "output_type": "stream",
     "text": [
      "HP: n_estimators=300_n_jobs=-1_random_state=42_verbose=True\n",
      "Validation results: {'pearson': 0.9908592471435057, 'pearson_de': 0.9091586310013384, 'pearson_delta': 0.5928197000011839, 'pearson_de_delta': 0.5503332595284692}\n",
      "====================\n"
     ]
    },
    {
     "name": "stderr",
     "output_type": "stream",
     "text": [
      "[Parallel(n_jobs=24)]: Using backend ThreadingBackend with 24 concurrent workers.\n",
      "[Parallel(n_jobs=24)]: Done   2 tasks      | elapsed:    0.0s\n",
      "[Parallel(n_jobs=24)]: Done 152 tasks      | elapsed:    0.1s\n",
      "[Parallel(n_jobs=24)]: Done 300 out of 300 | elapsed:    0.2s finished\n"
     ]
    },
    {
     "name": "stdout",
     "output_type": "stream",
     "text": [
      "Best n_estimator: n_estimators=300_n_jobs=-1_random_state=42_verbose=True\n",
      "Test results: {'pearson': 0.9879458667679706, 'pearson_de': 0.9163823551898155, 'pearson_delta': 0.5861242762364512, 'pearson_de_delta': 0.6685963966633203, 'pearson_delta_de_no_knockout': 0.7024348930195929}\n",
      "HP: alpha=0.1_l1_ratio=0.5_random_state=42\n",
      "Validation results: {'pearson': 0.9898415048118656, 'pearson_de': 0.9082651300976949, 'pearson_delta': 0.5710033649380114, 'pearson_de_delta': 0.5812393317760159}\n",
      "====================\n",
      "HP: alpha=0.01_l1_ratio=0.5_random_state=42\n",
      "Validation results: {'pearson': 0.9907748994538346, 'pearson_de': 0.9188855505829149, 'pearson_delta': 0.5891179999291846, 'pearson_de_delta': 0.6115708533854258}\n",
      "====================\n",
      "Best n_estimator: alpha=0.01_l1_ratio=0.5_random_state=42\n",
      "Test results: {'pearson': 0.9861393023103822, 'pearson_de': 0.9170089827480149, 'pearson_delta': 0.5349405999882448, 'pearson_de_delta': 0.6197437830496821, 'pearson_delta_de_no_knockout': 0.6364612956572165}\n",
      "HP: n_neighbors=1_n_jobs=-1\n",
      "Validation results: {'pearson': 0.9888283067050058, 'pearson_de': 0.9248867715382874, 'pearson_delta': 0.5235252570769661, 'pearson_de_delta': 0.5870869602752573}\n",
      "====================\n",
      "HP: n_neighbors=2_n_jobs=-1\n",
      "Validation results: {'pearson': 0.9906719775126764, 'pearson_de': 0.9403854691066452, 'pearson_delta': 0.5786120282704791, 'pearson_de_delta': 0.6092366692771148}\n",
      "====================\n",
      "HP: n_neighbors=5_n_jobs=-1\n",
      "Validation results: {'pearson': 0.9912879903180547, 'pearson_de': 0.9073924375903195, 'pearson_delta': 0.5788434883137537, 'pearson_de_delta': 0.4653873697405539}\n",
      "====================\n",
      "Best n_estimator: n_neighbors=5_n_jobs=-1\n",
      "Test results: {'pearson': 0.988643956750922, 'pearson_de': 0.9305845657621697, 'pearson_delta': 0.6177820952242361, 'pearson_de_delta': 0.6805403765756542, 'pearson_delta_de_no_knockout': 0.7166586553639193}\n"
     ]
    },
    {
     "name": "stderr",
     "output_type": "stream",
     "text": [
      "[Parallel(n_jobs=-1)]: Using backend ThreadingBackend with 24 concurrent workers.\n",
      "[Parallel(n_jobs=-1)]: Done   2 tasks      | elapsed:    1.3s\n",
      "[Parallel(n_jobs=-1)]: Done 100 out of 100 | elapsed:    7.0s finished\n",
      "[Parallel(n_jobs=24)]: Using backend ThreadingBackend with 24 concurrent workers.\n",
      "[Parallel(n_jobs=24)]: Done   2 tasks      | elapsed:    0.0s\n",
      "[Parallel(n_jobs=24)]: Done 100 out of 100 | elapsed:    0.0s finished\n"
     ]
    },
    {
     "name": "stdout",
     "output_type": "stream",
     "text": [
      "HP: n_estimators=100_n_jobs=-1_random_state=42_verbose=True\n",
      "Validation results: {'pearson': 0.9914671878114116, 'pearson_de': 0.9038827861303136, 'pearson_delta': 0.5683231845198412, 'pearson_de_delta': 0.4155581627859266}\n",
      "====================\n"
     ]
    },
    {
     "name": "stderr",
     "output_type": "stream",
     "text": [
      "[Parallel(n_jobs=-1)]: Using backend ThreadingBackend with 24 concurrent workers.\n",
      "[Parallel(n_jobs=-1)]: Done   2 tasks      | elapsed:    1.3s\n",
      "[Parallel(n_jobs=-1)]: Done 152 tasks      | elapsed:    9.8s\n",
      "[Parallel(n_jobs=-1)]: Done 300 out of 300 | elapsed:   18.7s finished\n",
      "[Parallel(n_jobs=24)]: Using backend ThreadingBackend with 24 concurrent workers.\n",
      "[Parallel(n_jobs=24)]: Done   2 tasks      | elapsed:    0.0s\n",
      "[Parallel(n_jobs=24)]: Done 152 tasks      | elapsed:    0.0s\n",
      "[Parallel(n_jobs=24)]: Done 300 out of 300 | elapsed:    0.1s finished\n"
     ]
    },
    {
     "name": "stdout",
     "output_type": "stream",
     "text": [
      "HP: n_estimators=300_n_jobs=-1_random_state=42_verbose=True\n",
      "Validation results: {'pearson': 0.9915845976183558, 'pearson_de': 0.9050289997146215, 'pearson_delta': 0.580924971626625, 'pearson_de_delta': 0.43122155503556675}\n",
      "====================\n"
     ]
    },
    {
     "name": "stderr",
     "output_type": "stream",
     "text": [
      "[Parallel(n_jobs=24)]: Using backend ThreadingBackend with 24 concurrent workers.\n",
      "[Parallel(n_jobs=24)]: Done   2 tasks      | elapsed:    0.0s\n",
      "[Parallel(n_jobs=24)]: Done 152 tasks      | elapsed:    0.1s\n",
      "[Parallel(n_jobs=24)]: Done 300 out of 300 | elapsed:    0.1s finished\n"
     ]
    },
    {
     "name": "stdout",
     "output_type": "stream",
     "text": [
      "Best n_estimator: n_estimators=300_n_jobs=-1_random_state=42_verbose=True\n",
      "Test results: {'pearson': 0.9896745359490259, 'pearson_de': 0.9281549322943322, 'pearson_delta': 0.6628066748864864, 'pearson_de_delta': 0.7504359312816574, 'pearson_delta_de_no_knockout': 0.7925707774375097}\n",
      "HP: alpha=0.1_l1_ratio=0.5_random_state=42\n",
      "Validation results: {'pearson': 0.9892772952913077, 'pearson_de': 0.8870774481123955, 'pearson_delta': 0.5223280847550533, 'pearson_de_delta': 0.3831170403642274}\n",
      "====================\n",
      "HP: alpha=0.01_l1_ratio=0.5_random_state=42\n",
      "Validation results: {'pearson': 0.9897475497995121, 'pearson_de': 0.8960076600392807, 'pearson_delta': 0.5423581632107832, 'pearson_de_delta': 0.4305229841463011}\n",
      "====================\n",
      "Best n_estimator: alpha=0.01_l1_ratio=0.5_random_state=42\n",
      "Test results: {'pearson': 0.9868456994133522, 'pearson_de': 0.9025290583386963, 'pearson_delta': 0.5797340278608535, 'pearson_de_delta': 0.6784399688098666, 'pearson_delta_de_no_knockout': 0.7188514926298277}\n",
      "HP: n_neighbors=1_n_jobs=-1\n",
      "Validation results: {'pearson': 0.9864417279644911, 'pearson_de': 0.9341866150807618, 'pearson_delta': 0.5488255376570971, 'pearson_de_delta': 0.5808336669068749}\n",
      "====================\n",
      "HP: n_neighbors=2_n_jobs=-1\n",
      "Validation results: {'pearson': 0.9862608185224613, 'pearson_de': 0.9361502919237895, 'pearson_delta': 0.5734596989404762, 'pearson_de_delta': 0.5860059955892305}\n",
      "====================\n",
      "HP: n_neighbors=5_n_jobs=-1\n",
      "Validation results: {'pearson': 0.9905707892420772, 'pearson_de': 0.9394673312262143, 'pearson_delta': 0.5969904151161576, 'pearson_de_delta': 0.5701623249752974}\n",
      "====================\n",
      "Best n_estimator: n_neighbors=5_n_jobs=-1\n",
      "Test results: {'pearson': 0.9887758393577422, 'pearson_de': 0.9345112836502507, 'pearson_delta': 0.6382346114031523, 'pearson_de_delta': 0.7295394428034612, 'pearson_delta_de_no_knockout': 0.7683632428030885}\n"
     ]
    },
    {
     "name": "stderr",
     "output_type": "stream",
     "text": [
      "[Parallel(n_jobs=-1)]: Using backend ThreadingBackend with 24 concurrent workers.\n",
      "[Parallel(n_jobs=-1)]: Done   2 tasks      | elapsed:    1.3s\n",
      "[Parallel(n_jobs=-1)]: Done 100 out of 100 | elapsed:    7.5s finished\n",
      "[Parallel(n_jobs=24)]: Using backend ThreadingBackend with 24 concurrent workers.\n",
      "[Parallel(n_jobs=24)]: Done   2 tasks      | elapsed:    0.0s\n",
      "[Parallel(n_jobs=24)]: Done 100 out of 100 | elapsed:    0.0s finished\n"
     ]
    },
    {
     "name": "stdout",
     "output_type": "stream",
     "text": [
      "HP: n_estimators=100_n_jobs=-1_random_state=42_verbose=True\n",
      "Validation results: {'pearson': 0.991052847152608, 'pearson_de': 0.909632600462315, 'pearson_delta': 0.5612656187694249, 'pearson_de_delta': 0.4364456729258528}\n",
      "====================\n"
     ]
    },
    {
     "name": "stderr",
     "output_type": "stream",
     "text": [
      "[Parallel(n_jobs=-1)]: Using backend ThreadingBackend with 24 concurrent workers.\n",
      "[Parallel(n_jobs=-1)]: Done   2 tasks      | elapsed:    1.3s\n",
      "[Parallel(n_jobs=-1)]: Done 152 tasks      | elapsed:   10.6s\n",
      "[Parallel(n_jobs=-1)]: Done 300 out of 300 | elapsed:   20.4s finished\n",
      "[Parallel(n_jobs=24)]: Using backend ThreadingBackend with 24 concurrent workers.\n",
      "[Parallel(n_jobs=24)]: Done   2 tasks      | elapsed:    0.0s\n",
      "[Parallel(n_jobs=24)]: Done 152 tasks      | elapsed:    0.0s\n",
      "[Parallel(n_jobs=24)]: Done 300 out of 300 | elapsed:    0.1s finished\n"
     ]
    },
    {
     "name": "stdout",
     "output_type": "stream",
     "text": [
      "HP: n_estimators=300_n_jobs=-1_random_state=42_verbose=True\n",
      "Validation results: {'pearson': 0.9910418959348078, 'pearson_de': 0.9103529659784897, 'pearson_delta': 0.5683004928914416, 'pearson_de_delta': 0.44149615778368984}\n",
      "====================\n"
     ]
    },
    {
     "name": "stderr",
     "output_type": "stream",
     "text": [
      "[Parallel(n_jobs=24)]: Using backend ThreadingBackend with 24 concurrent workers.\n",
      "[Parallel(n_jobs=24)]: Done   2 tasks      | elapsed:    0.0s\n",
      "[Parallel(n_jobs=24)]: Done 152 tasks      | elapsed:    0.1s\n",
      "[Parallel(n_jobs=24)]: Done 300 out of 300 | elapsed:    0.1s finished\n"
     ]
    },
    {
     "name": "stdout",
     "output_type": "stream",
     "text": [
      "Best n_estimator: n_estimators=300_n_jobs=-1_random_state=42_verbose=True\n",
      "Test results: {'pearson': 0.9882508732779346, 'pearson_de': 0.9174120312310649, 'pearson_delta': 0.6230306350588867, 'pearson_de_delta': 0.7033740261285972, 'pearson_delta_de_no_knockout': 0.7450830028554707}\n",
      "HP: alpha=0.1_l1_ratio=0.5_random_state=42\n",
      "Validation results: {'pearson': 0.9905468583214536, 'pearson_de': 0.9101893354307566, 'pearson_delta': 0.5257254222211194, 'pearson_de_delta': 0.42146121516129953}\n",
      "====================\n",
      "HP: alpha=0.01_l1_ratio=0.5_random_state=42\n",
      "Validation results: {'pearson': 0.9904088710609404, 'pearson_de': 0.9128003858323995, 'pearson_delta': 0.44843666404191185, 'pearson_de_delta': 0.31916906597586187}\n",
      "====================\n",
      "Best n_estimator: alpha=0.01_l1_ratio=0.5_random_state=42\n",
      "Test results: {'pearson': 0.9883391170250546, 'pearson_de': 0.9298874503330614, 'pearson_delta': 0.6003381410776888, 'pearson_de_delta': 0.6846727866426413, 'pearson_delta_de_no_knockout': 0.7231538137437961}\n",
      "HP: n_neighbors=1_n_jobs=-1\n",
      "Validation results: {'pearson': 0.9841602046695701, 'pearson_de': 0.9124479722132837, 'pearson_delta': 0.474631169872153, 'pearson_de_delta': 0.41696842914908794}\n",
      "====================\n",
      "HP: n_neighbors=2_n_jobs=-1\n",
      "Validation results: {'pearson': 0.9838496954962428, 'pearson_de': 0.9226320076343121, 'pearson_delta': 0.5161814641041734, 'pearson_de_delta': 0.4757547844213714}\n",
      "====================\n",
      "HP: n_neighbors=5_n_jobs=-1\n",
      "Validation results: {'pearson': 0.9899424407324736, 'pearson_de': 0.931845363112108, 'pearson_delta': 0.5493360159133867, 'pearson_de_delta': 0.49374961435929543}\n",
      "====================\n",
      "Best n_estimator: n_neighbors=5_n_jobs=-1\n",
      "Test results: {'pearson': 0.9880322742299278, 'pearson_de': 0.9308749260199418, 'pearson_delta': 0.576182642121469, 'pearson_de_delta': 0.6287985369085943, 'pearson_delta_de_no_knockout': 0.657615554766482}\n"
     ]
    },
    {
     "name": "stderr",
     "output_type": "stream",
     "text": [
      "[Parallel(n_jobs=-1)]: Using backend ThreadingBackend with 24 concurrent workers.\n",
      "[Parallel(n_jobs=-1)]: Done   2 tasks      | elapsed:    1.3s\n",
      "[Parallel(n_jobs=-1)]: Done 100 out of 100 | elapsed:    7.3s finished\n",
      "[Parallel(n_jobs=24)]: Using backend ThreadingBackend with 24 concurrent workers.\n",
      "[Parallel(n_jobs=24)]: Done   2 tasks      | elapsed:    0.0s\n",
      "[Parallel(n_jobs=24)]: Done 100 out of 100 | elapsed:    0.0s finished\n"
     ]
    },
    {
     "name": "stdout",
     "output_type": "stream",
     "text": [
      "HP: n_estimators=100_n_jobs=-1_random_state=42_verbose=True\n",
      "Validation results: {'pearson': 0.9904901535659929, 'pearson_de': 0.9068389414754473, 'pearson_delta': 0.5616346728812283, 'pearson_de_delta': 0.4351575789527015}\n",
      "====================\n"
     ]
    },
    {
     "name": "stderr",
     "output_type": "stream",
     "text": [
      "[Parallel(n_jobs=-1)]: Using backend ThreadingBackend with 24 concurrent workers.\n",
      "[Parallel(n_jobs=-1)]: Done   2 tasks      | elapsed:    1.3s\n",
      "[Parallel(n_jobs=-1)]: Done 152 tasks      | elapsed:   10.3s\n",
      "[Parallel(n_jobs=-1)]: Done 300 out of 300 | elapsed:   20.0s finished\n",
      "[Parallel(n_jobs=24)]: Using backend ThreadingBackend with 24 concurrent workers.\n",
      "[Parallel(n_jobs=24)]: Done   2 tasks      | elapsed:    0.0s\n",
      "[Parallel(n_jobs=24)]: Done 152 tasks      | elapsed:    0.0s\n",
      "[Parallel(n_jobs=24)]: Done 300 out of 300 | elapsed:    0.1s finished\n"
     ]
    },
    {
     "name": "stdout",
     "output_type": "stream",
     "text": [
      "HP: n_estimators=300_n_jobs=-1_random_state=42_verbose=True\n",
      "Validation results: {'pearson': 0.9905476652386211, 'pearson_de': 0.9085105888437298, 'pearson_delta': 0.576081886039665, 'pearson_de_delta': 0.4485142060199189}\n",
      "====================\n"
     ]
    },
    {
     "name": "stderr",
     "output_type": "stream",
     "text": [
      "[Parallel(n_jobs=24)]: Using backend ThreadingBackend with 24 concurrent workers.\n",
      "[Parallel(n_jobs=24)]: Done   2 tasks      | elapsed:    0.0s\n",
      "[Parallel(n_jobs=24)]: Done 152 tasks      | elapsed:    0.1s\n",
      "[Parallel(n_jobs=24)]: Done 300 out of 300 | elapsed:    0.1s finished\n"
     ]
    },
    {
     "name": "stdout",
     "output_type": "stream",
     "text": [
      "Best n_estimator: n_estimators=300_n_jobs=-1_random_state=42_verbose=True\n",
      "Test results: {'pearson': 0.9877117210169063, 'pearson_de': 0.9144971362489948, 'pearson_delta': 0.58306342570831, 'pearson_de_delta': 0.6465863388218239, 'pearson_delta_de_no_knockout': 0.6847901641045055}\n",
      "HP: alpha=0.1_l1_ratio=0.5_random_state=42\n",
      "Validation results: {'pearson': 0.9892782851548291, 'pearson_de': 0.8871177734359325, 'pearson_delta': 0.5224498110840466, 'pearson_de_delta': 0.3835067453742962}\n",
      "====================\n",
      "HP: alpha=0.01_l1_ratio=0.5_random_state=42\n",
      "Validation results: {'pearson': 0.990887465959473, 'pearson_de': 0.9177138295472219, 'pearson_delta': 0.5755522959023854, 'pearson_de_delta': 0.5460260233485414}\n",
      "====================\n",
      "Best n_estimator: alpha=0.01_l1_ratio=0.5_random_state=42\n",
      "Test results: {'pearson': 0.9882771711443017, 'pearson_de': 0.9243213810973269, 'pearson_delta': 0.6143374166103105, 'pearson_de_delta': 0.680624349364247, 'pearson_delta_de_no_knockout': 0.7202166336756611}\n",
      "HP: n_neighbors=1_n_jobs=-1\n",
      "Validation results: {'pearson': 0.9888770941372093, 'pearson_de': 0.9484302320115916, 'pearson_delta': 0.5296689802533979, 'pearson_de_delta': 0.600643114079285}\n",
      "====================\n",
      "HP: n_neighbors=2_n_jobs=-1\n",
      "Validation results: {'pearson': 0.9896111462835427, 'pearson_de': 0.9411970008298121, 'pearson_delta': 0.5178942162596015, 'pearson_de_delta': 0.4771959199701702}\n",
      "====================\n",
      "HP: n_neighbors=5_n_jobs=-1\n",
      "Validation results: {'pearson': 0.9907396710882591, 'pearson_de': 0.9277051363128168, 'pearson_delta': 0.5726258452888437, 'pearson_de_delta': 0.5141517109973549}\n",
      "====================\n",
      "Best n_estimator: n_neighbors=5_n_jobs=-1\n",
      "Test results: {'pearson': 0.9891760120836722, 'pearson_de': 0.9351387837542917, 'pearson_delta': 0.6030357543455799, 'pearson_de_delta': 0.6425594985810137, 'pearson_delta_de_no_knockout': 0.6814677670621814}\n"
     ]
    }
   ],
   "source": [
    "dataset_exp_name_map = {\n",
    "    \"go\": norman_data_go,\n",
    "    \"elmo\": norman_data_elmo,\n",
    "    \"foundation\": norman_data_foundation,\n",
    "    \"gpt\": norman_data_gpt,\n",
    "}\n",
    "run_models_on_dataset(\n",
    "    _exp_ds_map=dataset_exp_name_map,\n",
    "    _pert_data=pert_data_norman,\n",
    "    _rs=RANDOM_STATE,\n",
    "    _ds_name=\"norman\",\n",
    "    _key_pattern=\"A549_%s_1+1\",\n",
    "    _res_out_dir_base=RES_DIR\n",
    ")"
   ]
  },
  {
   "cell_type": "markdown",
   "metadata": {},
   "source": [
    "## Replogle"
   ]
  },
  {
   "cell_type": "code",
   "execution_count": 11,
   "metadata": {},
   "outputs": [
    {
     "name": "stderr",
     "output_type": "stream",
     "text": [
      "Local copy of pyg dataset is detected. Loading...\n",
      "Done!\n",
      "Local copy of split is detected. Loading...\n",
      "Simulation split test composition:\n",
      "combo_seen0:0\n",
      "combo_seen1:0\n",
      "combo_seen2:0\n",
      "unseen_single:273\n",
      "Done!\n"
     ]
    },
    {
     "name": "stdout",
     "output_type": "stream",
     "text": [
      "Number of training samples:  737\n",
      "Number of test samples:  273\n",
      "Number of training samples:  737\n",
      "Number of test samples:  273\n",
      "Number of training samples:  737\n",
      "Number of test samples:  273\n",
      "Number of training samples:  737\n",
      "Number of test samples:  273\n"
     ]
    }
   ],
   "source": [
    "pert_data_replogle = PertData(\"../data/\")\n",
    "pert_data_replogle.load(data_path='../data/replogle_k562_essential/')\n",
    "pert_data_replogle.prepare_split(split=\"simulation\", seed=1)\n",
    "\n",
    "# create dataset with go features\n",
    "replogle_data_go = create_bulk_data(\n",
    "    pert_data=pert_data_replogle,\n",
    "    go_pca_=go,\n",
    "    is_norman=False,\n",
    ")\n",
    "# create dataset with elmo features\n",
    "replogle_data_elmo = create_bulk_data(\n",
    "    pert_data=pert_data_replogle,\n",
    "    go_pca_=sc_elmo,\n",
    "    is_norman=False,\n",
    ")\n",
    "# create dataset with sc-foundation features\n",
    "replogle_data_foundation = create_bulk_data(\n",
    "    pert_data=pert_data_replogle,\n",
    "    go_pca_=sc_foundation,\n",
    "    is_norman=False,\n",
    ")\n",
    "# create dataset with sc-gpt features\n",
    "replogle_data_gpt = create_bulk_data(\n",
    "    pert_data=pert_data_replogle,\n",
    "    go_pca_=sc_gpt,\n",
    "    is_norman=False,\n",
    ")"
   ]
  },
  {
   "cell_type": "code",
   "execution_count": 12,
   "metadata": {},
   "outputs": [
    {
     "name": "stderr",
     "output_type": "stream",
     "text": [
      "[Parallel(n_jobs=-1)]: Using backend ThreadingBackend with 24 concurrent workers.\n",
      "[Parallel(n_jobs=-1)]: Done   2 tasks      | elapsed:   10.9s\n",
      "[Parallel(n_jobs=-1)]: Done 100 out of 100 | elapsed:  1.0min finished\n",
      "[Parallel(n_jobs=24)]: Using backend ThreadingBackend with 24 concurrent workers.\n",
      "[Parallel(n_jobs=24)]: Done   2 tasks      | elapsed:    0.0s\n",
      "[Parallel(n_jobs=24)]: Done 100 out of 100 | elapsed:    0.0s finished\n"
     ]
    },
    {
     "name": "stdout",
     "output_type": "stream",
     "text": [
      "HP: n_estimators=100_n_jobs=-1_random_state=42_verbose=True\n",
      "Validation results: {'pearson': 0.9903066989654672, 'pearson_de': 0.9621875620612692, 'pearson_delta': 0.5406362220837335, 'pearson_de_delta': 0.6417573532253653}\n",
      "====================\n"
     ]
    },
    {
     "name": "stderr",
     "output_type": "stream",
     "text": [
      "[Parallel(n_jobs=-1)]: Using backend ThreadingBackend with 24 concurrent workers.\n",
      "[Parallel(n_jobs=-1)]: Done   2 tasks      | elapsed:   11.3s\n",
      "[Parallel(n_jobs=-1)]: Done 152 tasks      | elapsed:  1.5min\n",
      "[Parallel(n_jobs=-1)]: Done 300 out of 300 | elapsed:  2.9min finished\n",
      "[Parallel(n_jobs=24)]: Using backend ThreadingBackend with 24 concurrent workers.\n",
      "[Parallel(n_jobs=24)]: Done   2 tasks      | elapsed:    0.0s\n",
      "[Parallel(n_jobs=24)]: Done 152 tasks      | elapsed:    0.1s\n",
      "[Parallel(n_jobs=24)]: Done 300 out of 300 | elapsed:    0.1s finished\n"
     ]
    },
    {
     "name": "stdout",
     "output_type": "stream",
     "text": [
      "HP: n_estimators=300_n_jobs=-1_random_state=42_verbose=True\n",
      "Validation results: {'pearson': 0.9903304054410526, 'pearson_de': 0.9618538213640229, 'pearson_delta': 0.5407085134626689, 'pearson_de_delta': 0.6409874430404268}\n",
      "====================\n"
     ]
    },
    {
     "name": "stderr",
     "output_type": "stream",
     "text": [
      "[Parallel(n_jobs=24)]: Using backend ThreadingBackend with 24 concurrent workers.\n",
      "[Parallel(n_jobs=24)]: Done   2 tasks      | elapsed:    0.0s\n",
      "[Parallel(n_jobs=24)]: Done 152 tasks      | elapsed:    0.2s\n",
      "[Parallel(n_jobs=24)]: Done 300 out of 300 | elapsed:    0.3s finished\n"
     ]
    },
    {
     "name": "stdout",
     "output_type": "stream",
     "text": [
      "Best n_estimator: n_estimators=300_n_jobs=-1_random_state=42_verbose=True\n",
      "Test results: {'pearson': 0.9892726558498182, 'pearson_de': 0.9662803709637077, 'pearson_delta': 0.479999553186296, 'pearson_de_delta': 0.5972835273625097, 'pearson_delta_de_no_knockout': 0.6228623334013108}\n",
      "HP: alpha=0.1_l1_ratio=0.5_random_state=42\n",
      "Validation results: {'pearson': 0.9871620115990396, 'pearson_de': 0.9460702031094715, 'pearson_delta': 0.3976764308388322, 'pearson_de_delta': 0.49202485968468423}\n",
      "====================\n",
      "HP: alpha=0.01_l1_ratio=0.5_random_state=42\n",
      "Validation results: {'pearson': 0.9883693912630028, 'pearson_de': 0.9533383486010667, 'pearson_delta': 0.4750507566122577, 'pearson_de_delta': 0.5922481107390853}\n",
      "====================\n",
      "Best n_estimator: alpha=0.01_l1_ratio=0.5_random_state=42\n",
      "Test results: {'pearson': 0.9882797463995293, 'pearson_de': 0.9596533810431194, 'pearson_delta': 0.43007762622580553, 'pearson_de_delta': 0.5325568476370779, 'pearson_delta_de_no_knockout': 0.557922678251125}\n",
      "HP: n_neighbors=1_n_jobs=-1\n",
      "Validation results: {'pearson': 0.9837534819702364, 'pearson_de': 0.9565762736288751, 'pearson_delta': 0.3902450494911868, 'pearson_de_delta': 0.5031942963422191}\n",
      "====================\n",
      "HP: n_neighbors=2_n_jobs=-1\n",
      "Validation results: {'pearson': 0.9874374576422665, 'pearson_de': 0.9616567823857959, 'pearson_delta': 0.444226667374687, 'pearson_de_delta': 0.548023810353571}\n",
      "====================\n",
      "HP: n_neighbors=5_n_jobs=-1\n",
      "Validation results: {'pearson': 0.9894086919269516, 'pearson_de': 0.9626717427347673, 'pearson_delta': 0.49044359040930524, 'pearson_de_delta': 0.5877553590701644}\n",
      "====================\n",
      "Best n_estimator: n_neighbors=5_n_jobs=-1\n",
      "Test results: {'pearson': 0.9882636811921871, 'pearson_de': 0.9656638555744357, 'pearson_delta': 0.4352376194806066, 'pearson_de_delta': 0.5504365484279108, 'pearson_delta_de_no_knockout': 0.5770852063989156}\n"
     ]
    },
    {
     "name": "stderr",
     "output_type": "stream",
     "text": [
      "[Parallel(n_jobs=-1)]: Using backend ThreadingBackend with 24 concurrent workers.\n",
      "[Parallel(n_jobs=-1)]: Done   2 tasks      | elapsed:   18.3s\n",
      "[Parallel(n_jobs=-1)]: Done 100 out of 100 | elapsed:  1.8min finished\n",
      "[Parallel(n_jobs=24)]: Using backend ThreadingBackend with 24 concurrent workers.\n",
      "[Parallel(n_jobs=24)]: Done   2 tasks      | elapsed:    0.0s\n",
      "[Parallel(n_jobs=24)]: Done 100 out of 100 | elapsed:    0.1s finished\n"
     ]
    },
    {
     "name": "stdout",
     "output_type": "stream",
     "text": [
      "HP: n_estimators=100_n_jobs=-1_random_state=42_verbose=True\n",
      "Validation results: {'pearson': 0.9903177785694992, 'pearson_de': 0.9591358544006118, 'pearson_delta': 0.5205734028245667, 'pearson_de_delta': 0.6317185678822805}\n",
      "====================\n"
     ]
    },
    {
     "name": "stderr",
     "output_type": "stream",
     "text": [
      "[Parallel(n_jobs=-1)]: Using backend ThreadingBackend with 24 concurrent workers.\n",
      "[Parallel(n_jobs=-1)]: Done   2 tasks      | elapsed:   18.0s\n",
      "[Parallel(n_jobs=-1)]: Done 152 tasks      | elapsed:  2.7min\n",
      "[Parallel(n_jobs=-1)]: Done 300 out of 300 | elapsed:  5.2min finished\n",
      "[Parallel(n_jobs=24)]: Using backend ThreadingBackend with 24 concurrent workers.\n",
      "[Parallel(n_jobs=24)]: Done   2 tasks      | elapsed:    0.0s\n",
      "[Parallel(n_jobs=24)]: Done 152 tasks      | elapsed:    0.1s\n",
      "[Parallel(n_jobs=24)]: Done 300 out of 300 | elapsed:    0.1s finished\n"
     ]
    },
    {
     "name": "stdout",
     "output_type": "stream",
     "text": [
      "HP: n_estimators=300_n_jobs=-1_random_state=42_verbose=True\n",
      "Validation results: {'pearson': 0.9904708353583432, 'pearson_de': 0.9595886708491032, 'pearson_delta': 0.5306968503011019, 'pearson_de_delta': 0.6469648014022338}\n",
      "====================\n"
     ]
    },
    {
     "name": "stderr",
     "output_type": "stream",
     "text": [
      "[Parallel(n_jobs=24)]: Using backend ThreadingBackend with 24 concurrent workers.\n",
      "[Parallel(n_jobs=24)]: Done   2 tasks      | elapsed:    0.0s\n",
      "[Parallel(n_jobs=24)]: Done 152 tasks      | elapsed:    0.2s\n",
      "[Parallel(n_jobs=24)]: Done 300 out of 300 | elapsed:    0.4s finished\n"
     ]
    },
    {
     "name": "stdout",
     "output_type": "stream",
     "text": [
      "Best n_estimator: n_estimators=300_n_jobs=-1_random_state=42_verbose=True\n",
      "Test results: {'pearson': 0.9891970432688749, 'pearson_de': 0.9626992234017786, 'pearson_delta': 0.4711136669573744, 'pearson_de_delta': 0.598283390692472, 'pearson_delta_de_no_knockout': 0.6300582682222525}\n",
      "HP: alpha=0.1_l1_ratio=0.5_random_state=42\n",
      "Validation results: {'pearson': 0.9871537928265313, 'pearson_de': 0.9460013523495867, 'pearson_delta': 0.39690194846177335, 'pearson_de_delta': 0.4896876503461482}\n",
      "====================\n",
      "HP: alpha=0.01_l1_ratio=0.5_random_state=42\n",
      "Validation results: {'pearson': 0.9872082690222748, 'pearson_de': 0.9466199923797629, 'pearson_delta': 0.40025717329868554, 'pearson_de_delta': 0.49891527232663796}\n",
      "====================\n",
      "Best n_estimator: alpha=0.01_l1_ratio=0.5_random_state=42\n",
      "Test results: {'pearson': 0.9874087982668893, 'pearson_de': 0.9546217470584093, 'pearson_delta': 0.374737152920444, 'pearson_de_delta': 0.4688723950177812, 'pearson_delta_de_no_knockout': 0.4925661892707989}\n",
      "HP: n_neighbors=1_n_jobs=-1\n",
      "Validation results: {'pearson': 0.982152344930529, 'pearson_de': 0.9584013130536541, 'pearson_delta': 0.39335939511875523, 'pearson_de_delta': 0.5415733172491121}\n",
      "====================\n",
      "HP: n_neighbors=2_n_jobs=-1\n",
      "Validation results: {'pearson': 0.9875179926375003, 'pearson_de': 0.9611635314300034, 'pearson_delta': 0.46599095056618617, 'pearson_de_delta': 0.5837044808885528}\n",
      "====================\n",
      "HP: n_neighbors=5_n_jobs=-1\n",
      "Validation results: {'pearson': 0.990252284131005, 'pearson_de': 0.9638552913833368, 'pearson_delta': 0.5138239745084764, 'pearson_de_delta': 0.6214177698023383}\n",
      "====================\n",
      "Best n_estimator: n_neighbors=5_n_jobs=-1\n",
      "Test results: {'pearson': 0.9887357987286132, 'pearson_de': 0.9675383720423871, 'pearson_delta': 0.45254800606159296, 'pearson_de_delta': 0.577418481216176, 'pearson_delta_de_no_knockout': 0.6086120617318311}\n"
     ]
    },
    {
     "name": "stderr",
     "output_type": "stream",
     "text": [
      "[Parallel(n_jobs=-1)]: Using backend ThreadingBackend with 24 concurrent workers.\n",
      "[Parallel(n_jobs=-1)]: Done   2 tasks      | elapsed:   26.7s\n",
      "[Parallel(n_jobs=-1)]: Done 100 out of 100 | elapsed:  2.7min finished\n",
      "[Parallel(n_jobs=24)]: Using backend ThreadingBackend with 24 concurrent workers.\n",
      "[Parallel(n_jobs=24)]: Done   2 tasks      | elapsed:    0.0s\n",
      "[Parallel(n_jobs=24)]: Done 100 out of 100 | elapsed:    0.0s finished\n"
     ]
    },
    {
     "name": "stdout",
     "output_type": "stream",
     "text": [
      "HP: n_estimators=100_n_jobs=-1_random_state=42_verbose=True\n",
      "Validation results: {'pearson': 0.9868267474541575, 'pearson_de': 0.9455710642662408, 'pearson_delta': 0.3802810973017497, 'pearson_de_delta': 0.4549818408616506}\n",
      "====================\n"
     ]
    },
    {
     "name": "stderr",
     "output_type": "stream",
     "text": [
      "[Parallel(n_jobs=-1)]: Using backend ThreadingBackend with 24 concurrent workers.\n",
      "[Parallel(n_jobs=-1)]: Done   2 tasks      | elapsed:   25.4s\n",
      "[Parallel(n_jobs=-1)]: Done 152 tasks      | elapsed:  3.9min\n",
      "[Parallel(n_jobs=-1)]: Done 300 out of 300 | elapsed:  7.5min finished\n",
      "[Parallel(n_jobs=24)]: Using backend ThreadingBackend with 24 concurrent workers.\n",
      "[Parallel(n_jobs=24)]: Done   2 tasks      | elapsed:    0.0s\n",
      "[Parallel(n_jobs=24)]: Done 152 tasks      | elapsed:    0.1s\n",
      "[Parallel(n_jobs=24)]: Done 300 out of 300 | elapsed:    0.1s finished\n"
     ]
    },
    {
     "name": "stdout",
     "output_type": "stream",
     "text": [
      "HP: n_estimators=300_n_jobs=-1_random_state=42_verbose=True\n",
      "Validation results: {'pearson': 0.9869723890009223, 'pearson_de': 0.9462780143248031, 'pearson_delta': 0.3877593653416216, 'pearson_de_delta': 0.47801531840081773}\n",
      "====================\n"
     ]
    },
    {
     "name": "stderr",
     "output_type": "stream",
     "text": [
      "[Parallel(n_jobs=24)]: Using backend ThreadingBackend with 24 concurrent workers.\n",
      "[Parallel(n_jobs=24)]: Done   2 tasks      | elapsed:    0.0s\n",
      "[Parallel(n_jobs=24)]: Done 152 tasks      | elapsed:    0.2s\n",
      "[Parallel(n_jobs=24)]: Done 300 out of 300 | elapsed:    0.4s finished\n"
     ]
    },
    {
     "name": "stdout",
     "output_type": "stream",
     "text": [
      "Best n_estimator: n_estimators=300_n_jobs=-1_random_state=42_verbose=True\n",
      "Test results: {'pearson': 0.9870955160769124, 'pearson_de': 0.9549309704180025, 'pearson_delta': 0.35871189885471216, 'pearson_de_delta': 0.44682081724636763, 'pearson_delta_de_no_knockout': 0.46952631154446356}\n",
      "HP: alpha=0.1_l1_ratio=0.5_random_state=42\n",
      "Validation results: {'pearson': 0.9871526851594414, 'pearson_de': 0.9459884968032211, 'pearson_delta': 0.396817901373788, 'pearson_de_delta': 0.48873519199189597}\n",
      "====================\n",
      "HP: alpha=0.01_l1_ratio=0.5_random_state=42\n",
      "Validation results: {'pearson': 0.9864375357969972, 'pearson_de': 0.9451486032156464, 'pearson_delta': 0.35534652983302073, 'pearson_de_delta': 0.39200935641728496}\n",
      "====================\n",
      "Best n_estimator: alpha=0.01_l1_ratio=0.5_random_state=42\n",
      "Test results: {'pearson': 0.9873847242540097, 'pearson_de': 0.9542278465263843, 'pearson_delta': 0.3730178695368747, 'pearson_de_delta': 0.46081206371165984, 'pearson_delta_de_no_knockout': 0.4844923754953605}\n",
      "HP: n_neighbors=1_n_jobs=-1\n",
      "Validation results: {'pearson': 0.9819504544215212, 'pearson_de': 0.9410777715795805, 'pearson_delta': 0.15573244266878664, 'pearson_de_delta': 0.26993122730027896}\n",
      "====================\n",
      "HP: n_neighbors=2_n_jobs=-1\n",
      "Validation results: {'pearson': 0.9828889139538642, 'pearson_de': 0.9408570722565448, 'pearson_delta': 0.21238054626686104, 'pearson_de_delta': 0.3075635821358193}\n",
      "====================\n",
      "HP: n_neighbors=5_n_jobs=-1\n",
      "Validation results: {'pearson': 0.9853253432678138, 'pearson_de': 0.9451663504151886, 'pearson_delta': 0.2947570573104061, 'pearson_de_delta': 0.4098495387159539}\n",
      "====================\n",
      "Best n_estimator: n_neighbors=5_n_jobs=-1\n",
      "Test results: {'pearson': 0.9851438956282029, 'pearson_de': 0.9504909838680091, 'pearson_delta': 0.2652168311987147, 'pearson_de_delta': 0.32808493941517075, 'pearson_delta_de_no_knockout': 0.3441644544750744}\n"
     ]
    },
    {
     "name": "stderr",
     "output_type": "stream",
     "text": [
      "[Parallel(n_jobs=-1)]: Using backend ThreadingBackend with 24 concurrent workers.\n",
      "[Parallel(n_jobs=-1)]: Done   2 tasks      | elapsed:   20.9s\n",
      "[Parallel(n_jobs=-1)]: Done 100 out of 100 | elapsed:  2.0min finished\n",
      "[Parallel(n_jobs=24)]: Using backend ThreadingBackend with 24 concurrent workers.\n",
      "[Parallel(n_jobs=24)]: Done   2 tasks      | elapsed:    0.0s\n",
      "[Parallel(n_jobs=24)]: Done 100 out of 100 | elapsed:    0.0s finished\n"
     ]
    },
    {
     "name": "stdout",
     "output_type": "stream",
     "text": [
      "HP: n_estimators=100_n_jobs=-1_random_state=42_verbose=True\n",
      "Validation results: {'pearson': 0.9883934347138956, 'pearson_de': 0.9516860595033548, 'pearson_delta': 0.4511698485908137, 'pearson_de_delta': 0.5699190162941159}\n",
      "====================\n"
     ]
    },
    {
     "name": "stderr",
     "output_type": "stream",
     "text": [
      "[Parallel(n_jobs=-1)]: Using backend ThreadingBackend with 24 concurrent workers.\n",
      "[Parallel(n_jobs=-1)]: Done   2 tasks      | elapsed:   21.0s\n",
      "[Parallel(n_jobs=-1)]: Done 152 tasks      | elapsed:  2.9min\n",
      "[Parallel(n_jobs=-1)]: Done 300 out of 300 | elapsed:  5.8min finished\n",
      "[Parallel(n_jobs=24)]: Using backend ThreadingBackend with 24 concurrent workers.\n",
      "[Parallel(n_jobs=24)]: Done   2 tasks      | elapsed:    0.0s\n",
      "[Parallel(n_jobs=24)]: Done 152 tasks      | elapsed:    0.1s\n",
      "[Parallel(n_jobs=24)]: Done 300 out of 300 | elapsed:    0.1s finished\n"
     ]
    },
    {
     "name": "stdout",
     "output_type": "stream",
     "text": [
      "HP: n_estimators=300_n_jobs=-1_random_state=42_verbose=True\n",
      "Validation results: {'pearson': 0.9885271566997793, 'pearson_de': 0.9517396267250914, 'pearson_delta': 0.45987434858441545, 'pearson_de_delta': 0.5699170502588911}\n",
      "====================\n"
     ]
    },
    {
     "name": "stderr",
     "output_type": "stream",
     "text": [
      "[Parallel(n_jobs=24)]: Using backend ThreadingBackend with 24 concurrent workers.\n",
      "[Parallel(n_jobs=24)]: Done   2 tasks      | elapsed:    0.0s\n",
      "[Parallel(n_jobs=24)]: Done 152 tasks      | elapsed:    0.2s\n",
      "[Parallel(n_jobs=24)]: Done 300 out of 300 | elapsed:    0.3s finished\n"
     ]
    },
    {
     "name": "stdout",
     "output_type": "stream",
     "text": [
      "Best n_estimator: n_estimators=300_n_jobs=-1_random_state=42_verbose=True\n",
      "Test results: {'pearson': 0.988232470372507, 'pearson_de': 0.9580228887982439, 'pearson_delta': 0.4208674849812743, 'pearson_de_delta': 0.5197095320532141, 'pearson_delta_de_no_knockout': 0.5449781955471159}\n",
      "HP: alpha=0.1_l1_ratio=0.5_random_state=42\n",
      "Validation results: {'pearson': 0.987153728491926, 'pearson_de': 0.9460013565190084, 'pearson_delta': 0.396901960778897, 'pearson_de_delta': 0.48968762041405645}\n",
      "====================\n",
      "HP: alpha=0.01_l1_ratio=0.5_random_state=42\n",
      "Validation results: {'pearson': 0.9872944610417614, 'pearson_de': 0.9480529733241757, 'pearson_delta': 0.4040594163440116, 'pearson_de_delta': 0.5070783592921521}\n",
      "====================\n",
      "Best n_estimator: alpha=0.01_l1_ratio=0.5_random_state=42\n",
      "Test results: {'pearson': 0.9874448176301601, 'pearson_de': 0.9551055722164916, 'pearson_delta': 0.37567437004722826, 'pearson_de_delta': 0.47232056819902773, 'pearson_delta_de_no_knockout': 0.4976471234736266}\n",
      "HP: n_neighbors=1_n_jobs=-1\n",
      "Validation results: {'pearson': 0.9806436783939214, 'pearson_de': 0.9482684004240962, 'pearson_delta': 0.3135072327471862, 'pearson_de_delta': 0.4019439898887108}\n",
      "====================\n",
      "HP: n_neighbors=2_n_jobs=-1\n",
      "Validation results: {'pearson': 0.9847348675225943, 'pearson_de': 0.9543927069745897, 'pearson_delta': 0.35439024676792513, 'pearson_de_delta': 0.47698467928536525}\n",
      "====================\n",
      "HP: n_neighbors=5_n_jobs=-1\n",
      "Validation results: {'pearson': 0.9873828526011643, 'pearson_de': 0.9555692108586126, 'pearson_delta': 0.41247244972657926, 'pearson_de_delta': 0.5382009474683342}\n",
      "====================\n",
      "Best n_estimator: n_neighbors=5_n_jobs=-1\n",
      "Test results: {'pearson': 0.9871762011393125, 'pearson_de': 0.9591598381858559, 'pearson_delta': 0.3736867668943593, 'pearson_de_delta': 0.47640689608102255, 'pearson_delta_de_no_knockout': 0.5026197810342238}\n"
     ]
    }
   ],
   "source": [
    "dataset_exp_name_map = {\n",
    "    \"go\": replogle_data_go,\n",
    "    \"elmo\": replogle_data_elmo,\n",
    "    \"foundation\": replogle_data_foundation,\n",
    "    \"gpt\": replogle_data_gpt,\n",
    "}\n",
    "run_models_on_dataset(\n",
    "    _exp_ds_map=dataset_exp_name_map,\n",
    "    _pert_data=pert_data_replogle,\n",
    "    _rs=RANDOM_STATE,\n",
    "    _ds_name=\"replogle\",\n",
    "    _key_pattern=\"K562_%s_1+1\",\n",
    "    _res_out_dir_base=RES_DIR\n",
    ")"
   ]
  },
  {
   "cell_type": "markdown",
   "metadata": {},
   "source": [
    "## Replogle 2"
   ]
  },
  {
   "cell_type": "code",
   "execution_count": 13,
   "metadata": {},
   "outputs": [
    {
     "name": "stderr",
     "output_type": "stream",
     "text": [
      "Local copy of pyg dataset is detected. Loading...\n",
      "Done!\n",
      "Local copy of split is detected. Loading...\n",
      "Simulation split test composition:\n",
      "combo_seen0:0\n",
      "combo_seen1:0\n",
      "combo_seen2:0\n",
      "unseen_single:386\n",
      "Done!\n"
     ]
    }
   ],
   "source": [
    "pert_data_replogle = PertData(\"../data/\")\n",
    "pert_data_replogle.load(data_path='../data/replogle_rpe1_essential/')\n",
    "pert_data_replogle.prepare_split(split=\"simulation\", seed=1)"
   ]
  },
  {
   "cell_type": "code",
   "execution_count": 14,
   "metadata": {},
   "outputs": [
    {
     "name": "stdout",
     "output_type": "stream",
     "text": [
      "Number of training samples:  1041\n",
      "Number of test samples:  386\n",
      "Number of training samples:  1041\n",
      "Number of test samples:  386\n",
      "Number of training samples:  1041\n",
      "Number of test samples:  386\n",
      "Number of training samples:  1041\n",
      "Number of test samples:  386\n"
     ]
    }
   ],
   "source": [
    "# create dataset with go features\n",
    "replogle_data_go = create_bulk_data(\n",
    "    pert_data=pert_data_replogle,\n",
    "    go_pca_=go,\n",
    "    is_norman=False,\n",
    ")\n",
    "# create dataset with elmo features\n",
    "replogle_data_elmo = create_bulk_data(\n",
    "    pert_data=pert_data_replogle,\n",
    "    go_pca_=sc_elmo,\n",
    "    is_norman=False,\n",
    ")\n",
    "# create dataset with sc-foundation features\n",
    "replogle_data_foundation = create_bulk_data(\n",
    "    pert_data=pert_data_replogle,\n",
    "    go_pca_=sc_foundation,\n",
    "    is_norman=False,\n",
    ")\n",
    "# create dataset with sc-gpt features\n",
    "replogle_data_gpt = create_bulk_data(\n",
    "    pert_data=pert_data_replogle,\n",
    "    go_pca_=sc_gpt,\n",
    "    is_norman=False,\n",
    ")"
   ]
  },
  {
   "cell_type": "code",
   "execution_count": 15,
   "metadata": {},
   "outputs": [
    {
     "name": "stderr",
     "output_type": "stream",
     "text": [
      "[Parallel(n_jobs=-1)]: Using backend ThreadingBackend with 24 concurrent workers.\n",
      "[Parallel(n_jobs=-1)]: Done   2 tasks      | elapsed:   15.4s\n",
      "[Parallel(n_jobs=-1)]: Done 100 out of 100 | elapsed:  1.3min finished\n",
      "[Parallel(n_jobs=24)]: Using backend ThreadingBackend with 24 concurrent workers.\n",
      "[Parallel(n_jobs=24)]: Done   2 tasks      | elapsed:    0.0s\n",
      "[Parallel(n_jobs=24)]: Done 100 out of 100 | elapsed:    0.1s finished\n"
     ]
    },
    {
     "name": "stdout",
     "output_type": "stream",
     "text": [
      "HP: n_estimators=100_n_jobs=-1_random_state=42_verbose=True\n",
      "Validation results: {'pearson': 0.9788425308105929, 'pearson_de': 0.9103254214313254, 'pearson_delta': 0.669236332752099, 'pearson_de_delta': 0.6943309308798563}\n",
      "====================\n"
     ]
    },
    {
     "name": "stderr",
     "output_type": "stream",
     "text": [
      "[Parallel(n_jobs=-1)]: Using backend ThreadingBackend with 24 concurrent workers.\n",
      "[Parallel(n_jobs=-1)]: Done   2 tasks      | elapsed:   15.5s\n",
      "[Parallel(n_jobs=-1)]: Done 152 tasks      | elapsed:  1.9min\n",
      "[Parallel(n_jobs=-1)]: Done 300 out of 300 | elapsed:  3.6min finished\n",
      "[Parallel(n_jobs=24)]: Using backend ThreadingBackend with 24 concurrent workers.\n",
      "[Parallel(n_jobs=24)]: Done   2 tasks      | elapsed:    0.0s\n",
      "[Parallel(n_jobs=24)]: Done 152 tasks      | elapsed:    0.1s\n",
      "[Parallel(n_jobs=24)]: Done 300 out of 300 | elapsed:    0.2s finished\n"
     ]
    },
    {
     "name": "stdout",
     "output_type": "stream",
     "text": [
      "HP: n_estimators=300_n_jobs=-1_random_state=42_verbose=True\n",
      "Validation results: {'pearson': 0.9790017947915937, 'pearson_de': 0.9089306974357527, 'pearson_delta': 0.6702404430152209, 'pearson_de_delta': 0.6929257949096809}\n",
      "====================\n"
     ]
    },
    {
     "name": "stderr",
     "output_type": "stream",
     "text": [
      "[Parallel(n_jobs=24)]: Using backend ThreadingBackend with 24 concurrent workers.\n",
      "[Parallel(n_jobs=24)]: Done   2 tasks      | elapsed:    0.0s\n",
      "[Parallel(n_jobs=24)]: Done 152 tasks      | elapsed:    0.3s\n",
      "[Parallel(n_jobs=24)]: Done 300 out of 300 | elapsed:    0.5s finished\n"
     ]
    },
    {
     "name": "stdout",
     "output_type": "stream",
     "text": [
      "Best n_estimator: n_estimators=300_n_jobs=-1_random_state=42_verbose=True\n",
      "Test results: {'pearson': 0.9793072774166623, 'pearson_de': 0.9148141844085748, 'pearson_delta': 0.6477198948333346, 'pearson_de_delta': 0.6704866334812896, 'pearson_delta_de_no_knockout': 0.6728240251116927}\n",
      "HP: alpha=0.1_l1_ratio=0.5_random_state=42\n",
      "Validation results: {'pearson': 0.9755651512683143, 'pearson_de': 0.9153337455144962, 'pearson_delta': 0.6544449857176702, 'pearson_de_delta': 0.6954979657631015}\n",
      "====================\n",
      "HP: alpha=0.01_l1_ratio=0.5_random_state=42\n",
      "Validation results: {'pearson': 0.9771028672986033, 'pearson_de': 0.9158949602816965, 'pearson_delta': 0.6625644702130491, 'pearson_de_delta': 0.7091480425282054}\n",
      "====================\n",
      "Best n_estimator: alpha=0.01_l1_ratio=0.5_random_state=42\n",
      "Test results: {'pearson': 0.9775297327502603, 'pearson_de': 0.9191239338324306, 'pearson_delta': 0.638299634670846, 'pearson_de_delta': 0.6687978807526015, 'pearson_delta_de_no_knockout': 0.6732868639688383}\n",
      "HP: n_neighbors=1_n_jobs=-1\n",
      "Validation results: {'pearson': 0.9683512376716242, 'pearson_de': 0.856070958373423, 'pearson_delta': 0.5058162630535572, 'pearson_de_delta': 0.5081358097180664}\n",
      "====================\n",
      "HP: n_neighbors=2_n_jobs=-1\n",
      "Validation results: {'pearson': 0.9751950996255817, 'pearson_de': 0.8800581324931965, 'pearson_delta': 0.60157551628557, 'pearson_de_delta': 0.6367110495675383}\n",
      "====================\n",
      "HP: n_neighbors=5_n_jobs=-1\n",
      "Validation results: {'pearson': 0.9787363941821474, 'pearson_de': 0.8981807530841452, 'pearson_delta': 0.6560736197545345, 'pearson_de_delta': 0.6840687973906153}\n",
      "====================\n",
      "Best n_estimator: n_neighbors=5_n_jobs=-1\n",
      "Test results: {'pearson': 0.9773584095622948, 'pearson_de': 0.9094250860928063, 'pearson_delta': 0.623692962832927, 'pearson_de_delta': 0.6597580300787297, 'pearson_delta_de_no_knockout': 0.6641422108073595}\n"
     ]
    },
    {
     "name": "stderr",
     "output_type": "stream",
     "text": [
      "[Parallel(n_jobs=-1)]: Using backend ThreadingBackend with 24 concurrent workers.\n",
      "[Parallel(n_jobs=-1)]: Done   2 tasks      | elapsed:   19.0s\n",
      "[Parallel(n_jobs=-1)]: Done 100 out of 100 | elapsed:  1.7min finished\n",
      "[Parallel(n_jobs=24)]: Using backend ThreadingBackend with 24 concurrent workers.\n",
      "[Parallel(n_jobs=24)]: Done   2 tasks      | elapsed:    0.0s\n",
      "[Parallel(n_jobs=24)]: Done 100 out of 100 | elapsed:    0.1s finished\n"
     ]
    },
    {
     "name": "stdout",
     "output_type": "stream",
     "text": [
      "HP: n_estimators=100_n_jobs=-1_random_state=42_verbose=True\n",
      "Validation results: {'pearson': 0.9793435292834318, 'pearson_de': 0.9150804995826237, 'pearson_delta': 0.6764572800331878, 'pearson_de_delta': 0.7135331644457507}\n",
      "====================\n"
     ]
    },
    {
     "name": "stderr",
     "output_type": "stream",
     "text": [
      "[Parallel(n_jobs=-1)]: Using backend ThreadingBackend with 24 concurrent workers.\n",
      "[Parallel(n_jobs=-1)]: Done   2 tasks      | elapsed:   19.4s\n",
      "[Parallel(n_jobs=-1)]: Done 152 tasks      | elapsed:  2.6min\n",
      "[Parallel(n_jobs=-1)]: Done 300 out of 300 | elapsed:  4.8min finished\n",
      "[Parallel(n_jobs=24)]: Using backend ThreadingBackend with 24 concurrent workers.\n",
      "[Parallel(n_jobs=24)]: Done   2 tasks      | elapsed:    0.0s\n",
      "[Parallel(n_jobs=24)]: Done 152 tasks      | elapsed:    0.1s\n",
      "[Parallel(n_jobs=24)]: Done 300 out of 300 | elapsed:    0.2s finished\n"
     ]
    },
    {
     "name": "stdout",
     "output_type": "stream",
     "text": [
      "HP: n_estimators=300_n_jobs=-1_random_state=42_verbose=True\n",
      "Validation results: {'pearson': 0.9795093456611625, 'pearson_de': 0.9153427469767734, 'pearson_delta': 0.6795079551035548, 'pearson_de_delta': 0.7188390185387087}\n",
      "====================\n"
     ]
    },
    {
     "name": "stderr",
     "output_type": "stream",
     "text": [
      "[Parallel(n_jobs=24)]: Using backend ThreadingBackend with 24 concurrent workers.\n",
      "[Parallel(n_jobs=24)]: Done   2 tasks      | elapsed:    0.0s\n",
      "[Parallel(n_jobs=24)]: Done 152 tasks      | elapsed:    0.3s\n",
      "[Parallel(n_jobs=24)]: Done 300 out of 300 | elapsed:    0.5s finished\n"
     ]
    },
    {
     "name": "stdout",
     "output_type": "stream",
     "text": [
      "Best n_estimator: n_estimators=300_n_jobs=-1_random_state=42_verbose=True\n",
      "Test results: {'pearson': 0.9797341150502922, 'pearson_de': 0.9193795181718392, 'pearson_delta': 0.6506088447549611, 'pearson_de_delta': 0.6661476578751043, 'pearson_delta_de_no_knockout': 0.6674978802107984}\n",
      "HP: alpha=0.1_l1_ratio=0.5_random_state=42\n",
      "Validation results: {'pearson': 0.975547813632719, 'pearson_de': 0.9153386708784197, 'pearson_delta': 0.6544359028262854, 'pearson_de_delta': 0.6955213544680158}\n",
      "====================\n",
      "HP: alpha=0.01_l1_ratio=0.5_random_state=42\n",
      "Validation results: {'pearson': 0.9756897593368878, 'pearson_de': 0.9148010368243972, 'pearson_delta': 0.6544852141042191, 'pearson_de_delta': 0.6956298441499513}\n",
      "====================\n",
      "Best n_estimator: alpha=0.01_l1_ratio=0.5_random_state=42\n",
      "Test results: {'pearson': 0.9762230941675611, 'pearson_de': 0.9198902862811738, 'pearson_delta': 0.6284089024994534, 'pearson_de_delta': 0.6395792456039544, 'pearson_delta_de_no_knockout': 0.63953472060963}\n",
      "HP: n_neighbors=1_n_jobs=-1\n",
      "Validation results: {'pearson': 0.9709864140933689, 'pearson_de': 0.873377230841719, 'pearson_delta': 0.5464045828956322, 'pearson_de_delta': 0.5683186686608495}\n",
      "====================\n",
      "HP: n_neighbors=2_n_jobs=-1\n",
      "Validation results: {'pearson': 0.9770357926874614, 'pearson_de': 0.8977723524813216, 'pearson_delta': 0.589837593441421, 'pearson_de_delta': 0.6089312706529787}\n",
      "====================\n",
      "HP: n_neighbors=5_n_jobs=-1\n",
      "Validation results: {'pearson': 0.9796386278595155, 'pearson_de': 0.90879989459149, 'pearson_delta': 0.6459880186832132, 'pearson_de_delta': 0.6837940243462478}\n",
      "====================\n",
      "Best n_estimator: n_neighbors=5_n_jobs=-1\n",
      "Test results: {'pearson': 0.9793413920800091, 'pearson_de': 0.9111728768471414, 'pearson_delta': 0.6202225645281252, 'pearson_de_delta': 0.638919397134224, 'pearson_delta_de_no_knockout': 0.6456300236218953}\n"
     ]
    },
    {
     "name": "stderr",
     "output_type": "stream",
     "text": [
      "[Parallel(n_jobs=-1)]: Using backend ThreadingBackend with 24 concurrent workers.\n",
      "[Parallel(n_jobs=-1)]: Done   2 tasks      | elapsed:   21.6s\n",
      "[Parallel(n_jobs=-1)]: Done 100 out of 100 | elapsed:  2.0min finished\n",
      "[Parallel(n_jobs=24)]: Using backend ThreadingBackend with 24 concurrent workers.\n",
      "[Parallel(n_jobs=24)]: Done   2 tasks      | elapsed:    0.0s\n",
      "[Parallel(n_jobs=24)]: Done 100 out of 100 | elapsed:    0.1s finished\n"
     ]
    },
    {
     "name": "stdout",
     "output_type": "stream",
     "text": [
      "HP: n_estimators=100_n_jobs=-1_random_state=42_verbose=True\n",
      "Validation results: {'pearson': 0.9751208086548013, 'pearson_de': 0.913431765845415, 'pearson_delta': 0.6477009576324457, 'pearson_de_delta': 0.689564812224902}\n",
      "====================\n"
     ]
    },
    {
     "name": "stderr",
     "output_type": "stream",
     "text": [
      "[Parallel(n_jobs=-1)]: Using backend ThreadingBackend with 24 concurrent workers.\n",
      "[Parallel(n_jobs=-1)]: Done   2 tasks      | elapsed:   21.9s\n",
      "[Parallel(n_jobs=-1)]: Done 152 tasks      | elapsed:  2.9min\n",
      "[Parallel(n_jobs=-1)]: Done 300 out of 300 | elapsed:  5.6min finished\n",
      "[Parallel(n_jobs=24)]: Using backend ThreadingBackend with 24 concurrent workers.\n",
      "[Parallel(n_jobs=24)]: Done   2 tasks      | elapsed:    0.0s\n",
      "[Parallel(n_jobs=24)]: Done 152 tasks      | elapsed:    0.1s\n",
      "[Parallel(n_jobs=24)]: Done 300 out of 300 | elapsed:    0.2s finished\n"
     ]
    },
    {
     "name": "stdout",
     "output_type": "stream",
     "text": [
      "HP: n_estimators=300_n_jobs=-1_random_state=42_verbose=True\n",
      "Validation results: {'pearson': 0.9752331386360127, 'pearson_de': 0.9134013731356434, 'pearson_delta': 0.6497798480670334, 'pearson_de_delta': 0.6899034036613827}\n",
      "====================\n"
     ]
    },
    {
     "name": "stderr",
     "output_type": "stream",
     "text": [
      "[Parallel(n_jobs=24)]: Using backend ThreadingBackend with 24 concurrent workers.\n",
      "[Parallel(n_jobs=24)]: Done   2 tasks      | elapsed:    0.0s\n",
      "[Parallel(n_jobs=24)]: Done 152 tasks      | elapsed:    0.3s\n",
      "[Parallel(n_jobs=24)]: Done 300 out of 300 | elapsed:    0.5s finished\n"
     ]
    },
    {
     "name": "stdout",
     "output_type": "stream",
     "text": [
      "Best n_estimator: n_estimators=300_n_jobs=-1_random_state=42_verbose=True\n",
      "Test results: {'pearson': 0.9758602979554477, 'pearson_de': 0.9190005110405992, 'pearson_delta': 0.6265724523456161, 'pearson_de_delta': 0.6377933026261031, 'pearson_delta_de_no_knockout': 0.6384142717439534}\n",
      "HP: alpha=0.1_l1_ratio=0.5_random_state=42\n",
      "Validation results: {'pearson': 0.9755407770382053, 'pearson_de': 0.9153677278054818, 'pearson_delta': 0.6544353630597732, 'pearson_de_delta': 0.6953961515417264}\n",
      "====================\n",
      "HP: alpha=0.01_l1_ratio=0.5_random_state=42\n",
      "Validation results: {'pearson': 0.9737792413167389, 'pearson_de': 0.9133376482196768, 'pearson_delta': 0.6320839025432625, 'pearson_de_delta': 0.6718749305797121}\n",
      "====================\n",
      "Best n_estimator: alpha=0.01_l1_ratio=0.5_random_state=42\n",
      "Test results: {'pearson': 0.9760919830365724, 'pearson_de': 0.9200045369745643, 'pearson_delta': 0.6283684741015542, 'pearson_de_delta': 0.6399548248421454, 'pearson_delta_de_no_knockout': 0.6397372228008437}\n",
      "HP: n_neighbors=1_n_jobs=-1\n",
      "Validation results: {'pearson': 0.9550943517880939, 'pearson_de': 0.8802617213263029, 'pearson_delta': 0.45557675246442314, 'pearson_de_delta': 0.5758307753310609}\n",
      "====================\n",
      "HP: n_neighbors=2_n_jobs=-1\n",
      "Validation results: {'pearson': 0.9683345566354676, 'pearson_de': 0.8906044162364911, 'pearson_delta': 0.5389435879851605, 'pearson_de_delta': 0.6086996320521101}\n",
      "====================\n",
      "HP: n_neighbors=5_n_jobs=-1\n",
      "Validation results: {'pearson': 0.9713429069978043, 'pearson_de': 0.8943184969532738, 'pearson_delta': 0.5982947814002048, 'pearson_de_delta': 0.6584330725527361}\n",
      "====================\n",
      "Best n_estimator: n_neighbors=5_n_jobs=-1\n",
      "Test results: {'pearson': 0.9720636370951896, 'pearson_de': 0.9106538127952871, 'pearson_delta': 0.5775042330149808, 'pearson_de_delta': 0.6004960670914508, 'pearson_delta_de_no_knockout': 0.6035871278499476}\n"
     ]
    },
    {
     "name": "stderr",
     "output_type": "stream",
     "text": [
      "[Parallel(n_jobs=-1)]: Using backend ThreadingBackend with 24 concurrent workers.\n",
      "[Parallel(n_jobs=-1)]: Done   2 tasks      | elapsed:   19.8s\n",
      "[Parallel(n_jobs=-1)]: Done 100 out of 100 | elapsed:  1.7min finished\n",
      "[Parallel(n_jobs=24)]: Using backend ThreadingBackend with 24 concurrent workers.\n",
      "[Parallel(n_jobs=24)]: Done   2 tasks      | elapsed:    0.0s\n",
      "[Parallel(n_jobs=24)]: Done 100 out of 100 | elapsed:    0.1s finished\n"
     ]
    },
    {
     "name": "stdout",
     "output_type": "stream",
     "text": [
      "HP: n_estimators=100_n_jobs=-1_random_state=42_verbose=True\n",
      "Validation results: {'pearson': 0.9767720758121963, 'pearson_de': 0.9074075823289346, 'pearson_delta': 0.6547299844465504, 'pearson_de_delta': 0.6967063155963751}\n",
      "====================\n"
     ]
    },
    {
     "name": "stderr",
     "output_type": "stream",
     "text": [
      "[Parallel(n_jobs=-1)]: Using backend ThreadingBackend with 24 concurrent workers.\n",
      "[Parallel(n_jobs=-1)]: Done   2 tasks      | elapsed:   19.9s\n",
      "[Parallel(n_jobs=-1)]: Done 152 tasks      | elapsed:  2.5min\n",
      "[Parallel(n_jobs=-1)]: Done 300 out of 300 | elapsed:  4.8min finished\n",
      "[Parallel(n_jobs=24)]: Using backend ThreadingBackend with 24 concurrent workers.\n",
      "[Parallel(n_jobs=24)]: Done   2 tasks      | elapsed:    0.0s\n",
      "[Parallel(n_jobs=24)]: Done 152 tasks      | elapsed:    0.1s\n",
      "[Parallel(n_jobs=24)]: Done 300 out of 300 | elapsed:    0.2s finished\n"
     ]
    },
    {
     "name": "stdout",
     "output_type": "stream",
     "text": [
      "HP: n_estimators=300_n_jobs=-1_random_state=42_verbose=True\n",
      "Validation results: {'pearson': 0.9771239430169507, 'pearson_de': 0.9089368772321755, 'pearson_delta': 0.6590282039561862, 'pearson_de_delta': 0.7007163404027721}\n",
      "====================\n"
     ]
    },
    {
     "name": "stderr",
     "output_type": "stream",
     "text": [
      "[Parallel(n_jobs=24)]: Using backend ThreadingBackend with 24 concurrent workers.\n",
      "[Parallel(n_jobs=24)]: Done   2 tasks      | elapsed:    0.0s\n",
      "[Parallel(n_jobs=24)]: Done 152 tasks      | elapsed:    0.3s\n",
      "[Parallel(n_jobs=24)]: Done 300 out of 300 | elapsed:    0.5s finished\n"
     ]
    },
    {
     "name": "stdout",
     "output_type": "stream",
     "text": [
      "Best n_estimator: n_estimators=300_n_jobs=-1_random_state=42_verbose=True\n",
      "Test results: {'pearson': 0.9776718421657047, 'pearson_de': 0.9179808858988625, 'pearson_delta': 0.6347121724913973, 'pearson_de_delta': 0.6459753316491142, 'pearson_delta_de_no_knockout': 0.6472375783735214}\n",
      "HP: alpha=0.1_l1_ratio=0.5_random_state=42\n",
      "Validation results: {'pearson': 0.975547837036686, 'pearson_de': 0.9153386690759904, 'pearson_delta': 0.6544358944952535, 'pearson_de_delta': 0.6955213793978275}\n",
      "====================\n",
      "HP: alpha=0.01_l1_ratio=0.5_random_state=42\n",
      "Validation results: {'pearson': 0.9758554530731507, 'pearson_de': 0.9153051737868542, 'pearson_delta': 0.654936489601567, 'pearson_de_delta': 0.6967374038518083}\n",
      "====================\n",
      "Best n_estimator: alpha=0.01_l1_ratio=0.5_random_state=42\n",
      "Test results: {'pearson': 0.9763798698298878, 'pearson_de': 0.9197862389883515, 'pearson_delta': 0.6287763860571862, 'pearson_de_delta': 0.6410858715264002, 'pearson_delta_de_no_knockout': 0.6407976257019364}\n",
      "HP: n_neighbors=1_n_jobs=-1\n",
      "Validation results: {'pearson': 0.9597227546074764, 'pearson_de': 0.8793353887497246, 'pearson_delta': 0.44034258658732883, 'pearson_de_delta': 0.4409229822191167}\n",
      "====================\n",
      "HP: n_neighbors=2_n_jobs=-1\n",
      "Validation results: {'pearson': 0.9684930216000668, 'pearson_de': 0.8995145704315755, 'pearson_delta': 0.5142369544543273, 'pearson_de_delta': 0.5025493392653884}\n",
      "====================\n",
      "HP: n_neighbors=5_n_jobs=-1\n",
      "Validation results: {'pearson': 0.973997778515891, 'pearson_de': 0.9110440370174696, 'pearson_delta': 0.6112468113087389, 'pearson_de_delta': 0.6465760570563835}\n",
      "====================\n",
      "Best n_estimator: n_neighbors=5_n_jobs=-1\n",
      "Test results: {'pearson': 0.9753009812796678, 'pearson_de': 0.9111376810375095, 'pearson_delta': 0.5805484916250662, 'pearson_de_delta': 0.5898501963031632, 'pearson_delta_de_no_knockout': 0.597900756212984}\n"
     ]
    }
   ],
   "source": [
    "dataset_exp_name_map = {\n",
    "    \"go\": replogle_data_go,\n",
    "    \"elmo\": replogle_data_elmo,\n",
    "    \"foundation\": replogle_data_foundation,\n",
    "    \"gpt\": replogle_data_gpt,\n",
    "}\n",
    "run_models_on_dataset(\n",
    "    _exp_ds_map=dataset_exp_name_map,\n",
    "    _pert_data=pert_data_replogle,\n",
    "    _rs=RANDOM_STATE,\n",
    "    _ds_name=\"replogle_rpe1\",\n",
    "    _key_pattern=\"rpe1_%s_1+1\",\n",
    "    _res_out_dir_base=RES_DIR\n",
    ")"
   ]
  },
  {
   "cell_type": "markdown",
   "metadata": {},
   "source": [
    "## Compare sc-models with bulk models"
   ]
  },
  {
   "cell_type": "code",
   "execution_count": 5,
   "metadata": {},
   "outputs": [],
   "source": [
    "# load scgpt results\n",
    "with open(\"./save/dev_perturb_adamson-Sep26-20-36/test_metrics.json\") as f:\n",
    "    adamson_scgpt = json.load(f)\n",
    "\n",
    "with open(\"./save/dev_perturb_norman-Sep24-13-29/test_metrics.json\") as f:\n",
    "    norman_scpt = json.load(f)\n",
    "\n",
    "with open(\"./save/dev_perturb_replogle-Sep24-15-06/test_metrics.json\") as f:\n",
    "    replogle_scgpt = json.load(f)\n",
    "\n",
    "with open(\"./save/dev_perturb_replogle_rpe1-Feb25-16-55/test_metrics.json\") as f:\n",
    "    replogle_rpe1_scgpt = json.load(f)\n",
    "\n",
    "# load scfoundation results\n",
    "sc_foundation_base = Path(\"../scFoundation/GEARS/results/\")\n",
    "with open(sc_foundation_base / \"adamson/0.75/baseline_simulation_seed_1_hidden_512_epochs_10_batch_32_accmu_1_mode_v1_highres_0_lr_0.0005/2025-02-12_10-47-01/test_metrics.json\") as f:\n",
    "    adamson_scfoundation = json.load(f)\n",
    "\n",
    "with open(sc_foundation_base / \"norman/0.75/baseline_simulation_seed_1_hidden_512_epochs_10_batch_32_accmu_1_mode_v1_highres_0_lr_0.01/2025-02-12_00-47-27/test_metrics.json\") as f:\n",
    "    norman_scfoundation = json.load(f)\n",
    "\n",
    "with open(sc_foundation_base / \"replogle_k562_essential/0.75/baseline_simulation_seed_1_hidden_512_epochs_10_batch_16_accmu_2_mode_v1_highres_0_lr_0.01/2025-02-17_16-45-12/test_metrics.json\") as f:\n",
    "    replogle_scfoundation = json.load(f) \n",
    "\n",
    "with open(sc_foundation_base / \"replogle_rpe1_essential_raw/0.75/baseline_simulation_seed_1_hidden_512_epochs_10_batch_16_accmu_2_mode_v1_highres_0_lr_0.01/2025-02-26_07-59-12/test_metrics.json\") as f:\n",
    "    replogle_rp1 = json.load(f) \n"
   ]
  },
  {
   "cell_type": "code",
   "execution_count": 6,
   "metadata": {},
   "outputs": [],
   "source": [
    "adamson_results = load_bulk_model_resutlts(\"adamson\")\n",
    "adamson_results[\"scgpt\"] = adamson_scgpt\n",
    "adamson_results[\"scfoundation\"] = adamson_scfoundation\n",
    "\n",
    "norman_results = load_bulk_model_resutlts(\"norman\")\n",
    "norman_results[\"scgpt\"] = norman_scpt\n",
    "norman_results[\"scfoundation\"] = norman_scfoundation\n",
    "\n",
    "replogle_results = load_bulk_model_resutlts(\"replogle\")\n",
    "replogle_results[\"scgpt\"] = replogle_scgpt\n",
    "replogle_results[\"scfoundation\"] = replogle_scfoundation\n",
    "\n",
    "replogle_rp1_results = load_bulk_model_resutlts(\"replogle_rpe1\")\n",
    "replogle_rp1_results[\"scgpt\"] = replogle_rpe1_scgpt\n",
    "replogle_rp1_results[\"scfoundation\"] = replogle_rp1"
   ]
  },
  {
   "cell_type": "markdown",
   "metadata": {},
   "source": [
    "## Adamson"
   ]
  },
  {
   "cell_type": "code",
   "execution_count": 7,
   "metadata": {},
   "outputs": [],
   "source": [
    "adamson_results = (\n",
    "    pd.DataFrame\n",
    "    .from_dict(adamson_results, orient='index')\n",
    "    .reset_index()\n",
    "    .rename(columns={\"index\": \"model\"})\n",
    ")"
   ]
  },
  {
   "cell_type": "code",
   "execution_count": 8,
   "metadata": {},
   "outputs": [
    {
     "data": {
      "image/png": "[encoded data removed]",
      "text/plain": [
       "<Figure size 500x500 with 1 Axes>"
      ]
     },
     "metadata": {},
     "output_type": "display_data"
    }
   ],
   "source": [
    "fig, axs = plt.subplots(1, 1, figsize=(5, 5))\n",
    "sns.barplot(x='model', y='pearson_delta', data=adamson_results, color='lightblue', ax=axs)\n",
    "axs.set_title(\"Adamson Dataset\")\n",
    "\n",
    "# rotate x labels by 90\n",
    "for tick in axs.get_xticklabels():\n",
    "    tick.set_rotation(90)"
   ]
  },
  {
   "cell_type": "code",
   "execution_count": null,
   "metadata": {},
   "outputs": [],
   "source": [
    "sc_model_name_mapping = {\n",
    "    \"RF_elmo\": \"RF_scElmo\",\n",
    "    \"RF_foundation\": \"RF_scFoundation\",\n",
    "    \"RF_gpt\": \"RF_scGPT\",\n",
    "    \"scgpt\": \"scGPT\",\n",
    "    \"scfoundation\": \"scFoundation\",\n",
    "}\n",
    "adamson_results[\"model\"] = adamson_results[\"model\"].replace(sc_model_name_mapping)\n",
    "\n",
    "first_models = [\"scGPT\", \"scFoundation\", \"mean\", \"RF_go\"]\n",
    "second_models = [\"RF_go\", \"RF_scElmo\", \"RF_scFoundation\", \"RF_scGPT\"]\n",
    "\n",
    "myfirst = adamson_results[adamson_results['model'].isin(first_models)]\n",
    "mysecond = adamson_results[adamson_results['model'].isin(second_models)]\n",
    "mysecond['model'] = mysecond[\"model\"]"
   ]
  },
  {
   "cell_type": "code",
   "execution_count": null,
   "metadata": {},
   "outputs": [],
   "source": [
    "sns.set_style(\"whitegrid\")\n",
    "colors = ['#FF6666', '#33C7CC', '#0F0A26', '#425266', '#F7F5FF']\n",
    "sns.set_palette(sns.color_palette(colors))\n",
    "sns.palplot(sns.color_palette(colors))"
   ]
  },
  {
   "cell_type": "code",
   "execution_count": 17,
   "metadata": {},
   "outputs": [
    {
     "data": {
      "text/plain": [
       "Text(0.5, 1.0, 'Adamson')"
      ]
     },
     "execution_count": 17,
     "metadata": {},
     "output_type": "execute_result"
    },
    {
     "data": {
      "image/png": "[encoded data removed]",
      "text/plain": [
       "<Figure size 640x480 with 1 Axes>"
      ]
     },
     "metadata": {},
     "output_type": "display_data"
    }
   ],
   "source": [
    "sns.barplot(x='model', y='pearson_delta', data=myfirst, order=first_models, color=\"#33C7CC\")\n",
    "plt.title(\"Adamson\")"
   ]
  },
  {
   "cell_type": "code",
   "execution_count": 20,
   "metadata": {},
   "outputs": [
    {
     "data": {
      "text/plain": [
       "Text(0.5, 1.0, 'Adamson')"
      ]
     },
     "execution_count": 20,
     "metadata": {},
     "output_type": "execute_result"
    },
    {
     "data": {
      "image/png": "[encoded data removed]",
      "text/plain": [
       "<Figure size 640x480 with 1 Axes>"
      ]
     },
     "metadata": {},
     "output_type": "display_data"
    }
   ],
   "source": [
    "sns.barplot(x='model', y='pearson_delta', data=mysecond, order=second_models, color=\"#33C7CC\")\n",
    "plt.title(\"Adamson\")"
   ]
  },
  {
   "cell_type": "code",
   "execution_count": null,
   "metadata": {},
   "outputs": [],
   "source": []
  },
  {
   "cell_type": "markdown",
   "metadata": {},
   "source": [
    "## Norman"
   ]
  },
  {
   "cell_type": "code",
   "execution_count": 10,
   "metadata": {},
   "outputs": [
    {
     "data": {
      "image/png": "[encoded data removed]",
      "text/plain": [
       "<Figure size 500x500 with 1 Axes>"
      ]
     },
     "metadata": {},
     "output_type": "display_data"
    }
   ],
   "source": [
    "norman_results = pd.DataFrame.from_dict(norman_results, orient='index').reset_index().rename(columns={\"index\": \"model\"})\n",
    "fig, axs = plt.subplots(1, 1, figsize=(5, 5))\n",
    "sns.barplot(x='model', y='pearson_delta', data=norman_results, color='lightblue', ax=axs)\n",
    "axs.set_title(\"Norman Dataset\")\n",
    "\n",
    "# rotate x labels by 90\n",
    "for tick in axs.get_xticklabels():\n",
    "    tick.set_rotation(90)"
   ]
  },
  {
   "cell_type": "markdown",
   "metadata": {},
   "source": [
    "## Replogle"
   ]
  },
  {
   "cell_type": "code",
   "execution_count": 11,
   "metadata": {},
   "outputs": [
    {
     "data": {
      "image/png": "[encoded data removed]",
      "text/plain": [
       "<Figure size 500x500 with 1 Axes>"
      ]
     },
     "metadata": {},
     "output_type": "display_data"
    }
   ],
   "source": [
    "replogle_results = pd.DataFrame.from_dict(replogle_results, orient='index').reset_index().rename(columns={\"index\": \"model\"})\n",
    "fig, axs = plt.subplots(1, 1, figsize=(5, 5))\n",
    "sns.barplot(x='model', y='pearson_delta', data=replogle_results, color='lightblue', ax=axs)\n",
    "axs.set_title(\"Replogle Dataset\")\n",
    "\n",
    "# rotate x labels by 90\n",
    "for tick in axs.get_xticklabels():\n",
    "    tick.set_rotation(90)"
   ]
  },
  {
   "cell_type": "markdown",
   "metadata": {},
   "source": [
    "## Replogle RP1"
   ]
  },
  {
   "cell_type": "code",
   "execution_count": 12,
   "metadata": {},
   "outputs": [
    {
     "data": {
      "image/png": "[encoded data removed]",
      "text/plain": [
       "<Figure size 500x500 with 1 Axes>"
      ]
     },
     "metadata": {},
     "output_type": "display_data"
    }
   ],
   "source": [
    "replogle_rp1_results = pd.DataFrame.from_dict(replogle_rp1_results, orient='index').reset_index().rename(columns={\"index\": \"model\"})\n",
    "fig, axs = plt.subplots(1, 1, figsize=(5, 5))\n",
    "sns.barplot(x='model', y='pearson_delta', data=replogle_rp1_results, color='lightblue', ax=axs)\n",
    "axs.set_title(\"Replogle RPE1 Dataset\")\n",
    "\n",
    "# rotate x labels by 90\n",
    "for tick in axs.get_xticklabels():\n",
    "    tick.set_rotation(90)"
   ]
  },
  {
   "cell_type": "markdown",
   "metadata": {},
   "source": [
    "## Supplementary"
   ]
  },
  {
   "cell_type": "code",
   "execution_count": 13,
   "metadata": {},
   "outputs": [],
   "source": [
    "figure_dir = Path(\"../figures/models\")\n",
    "adamson_results.to_csv(figure_dir / \"adamson_results.csv\", index=False)\n",
    "norman_results.to_csv(figure_dir / \"norman_results.csv\", index=False)\n",
    "replogle_results.to_csv(figure_dir / \"replogle_k562_results.csv\", index=False)\n",
    "replogle_rp1_results.to_csv(figure_dir / \"replogle_rpe1_results.csv\", index=False)"
   ]
  },
  {
   "cell_type": "code",
   "execution_count": null,
   "metadata": {},
   "outputs": [],
   "source": []
  },
  {
   "cell_type": "code",
   "execution_count": null,
   "metadata": {},
   "outputs": [],
   "source": []
  }
 ],
 "metadata": {
  "kernelspec": {
   "display_name": "scgpt_yml",
   "language": "python",
   "name": "scgpt_yml"
  },
  "language_info": {
   "codemirror_mode": {
    "name": "ipython",
    "version": 3
   },
   "file_extension": ".py",
   "mimetype": "text/x-python",
   "name": "python",
   "nbconvert_exporter": "python",
   "pygments_lexer": "ipython3",
   "version": "3.10.11"
  }
 },
 "nbformat": 4,
 "nbformat_minor": 2
}
