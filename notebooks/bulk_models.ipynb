{
 "cells": [
  {
   "cell_type": "code",
   "execution_count": 2,
   "metadata": {},
   "outputs": [
    {
     "name": "stderr",
     "output_type": "stream",
     "text": [
      "/home/users/geroldcsendes/miniconda3/envs/scgpt_yml/lib/python3.10/site-packages/tqdm/auto.py:21: TqdmWarning: IProgress not found. Please update jupyter and ipywidgets. See https://ipywidgets.readthedocs.io/en/stable/user_install.html\n",
      "  from .autonotebook import tqdm as notebook_tqdm\n"
     ]
    }
   ],
   "source": [
    "from copy import deepcopy\n",
    "from pathlib import Path\n",
    "import pickle\n",
    "import json\n",
    "from typing import Literal\n",
    "\n",
    "from gears import PertData\n",
    "import seaborn as sns\n",
    "from sklearn.linear_model import ElasticNet\n",
    "import pandas as pd\n",
    "import numpy as np\n",
    "from scipy.stats import pearsonr\n",
    "from sklearn.ensemble import RandomForestRegressor\n",
    "from sklearn.decomposition import PCA\n",
    "import matplotlib.pyplot as plt"
   ]
  },
  {
   "cell_type": "code",
   "execution_count": 3,
   "metadata": {},
   "outputs": [],
   "source": [
    "with open(\"gene_name_map.json\") as f:\n",
    "    GENE_NAME_MAP = json.load(f)"
   ]
  },
  {
   "cell_type": "code",
   "execution_count": 4,
   "metadata": {},
   "outputs": [
    {
     "data": {
      "image/png": "[encoded data removed]",
      "text/plain": [
       "<Figure size 500x100 with 1 Axes>"
      ]
     },
     "metadata": {},
     "output_type": "display_data"
    }
   ],
   "source": [
    "sns.set_style(\"whitegrid\")\n",
    "colors = ['#FF6666', '#33C7CC', '#0F0A26', '#425266', '#F7F5FF']\n",
    "sns.set_palette(sns.color_palette(colors))\n",
    "sns.palplot(sns.color_palette(colors))"
   ]
  },
  {
   "cell_type": "code",
   "execution_count": 5,
   "metadata": {},
   "outputs": [],
   "source": [
    "def _filt_self_from_de(pert_data, is_norman: bool):\n",
    "\n",
    "    DE_COL = \"rank_genes_groups_cov_all\"  # top_non_dropout_de_20\n",
    "\n",
    "    gene_name_to_ensg = dict(zip(pert_data.adata.var[\"gene_name\"], pert_data.adata.var.index))\n",
    "    rank_genes_groups_cov_all = deepcopy(pert_data.adata.uns[DE_COL])\n",
    "\n",
    "    updated_rank_genes_groups_cov_all = {}\n",
    "\n",
    "    for k, v in rank_genes_groups_cov_all.items():\n",
    "        condition = k.split(\"_\")[1]\n",
    "        condition_gene_name = condition.replace(\"ctrl+\", \"\").replace(\"+ctrl\", \"\")\n",
    "\n",
    "        if is_norman:\n",
    "            condition_ensg_name = gene_name_to_ensg.get(condition_gene_name, None)\n",
    "            updated_rank_genes_groups_cov_all[k] = v[v != condition_ensg_name]\n",
    "        else:\n",
    "            if \"+\" in condition_gene_name:\n",
    "                condition_gene_name = condition_gene_name.split(\"+\")\n",
    "                assert len(condition_gene_name) == 2\n",
    "                condition_ensg_name = [gene_name_to_ensg.get(g, None) for g in condition_gene_name]\n",
    "                mask = ~np.isin(v, condition_ensg_name)\n",
    "                updated_rank_genes_groups_cov_all[k] = v[mask]\n",
    "            else:\n",
    "                condition_ensg_name = gene_name_to_ensg.get(condition_gene_name, None)\n",
    "                updated_rank_genes_groups_cov_all[k] = v[v != condition_ensg_name]\n",
    "    \n",
    "    return updated_rank_genes_groups_cov_all\n",
    "\n",
    "\n",
    "def eval(\n",
    "        pred: np.ndarray, data: dict, pert_data: PertData, is_norman: bool, key_pattern: str,\n",
    "        test: bool = True):\n",
    "\n",
    "    col = 'test_y' if test else 'val_y'\n",
    "\n",
    "    DE_COL = \"rank_genes_groups_cov_all\"  # top_non_dropout_de_20\n",
    "    de_dict =  pert_data.adata.uns[DE_COL]\n",
    "    de_dict_noself = _filt_self_from_de(pert_data, is_norman)\n",
    "\n",
    "    ctrl = data['ctrl_mean']\n",
    "    assert pred.shape[1] == ctrl.shape[0]\n",
    "\n",
    "    cols = data[col].columns\n",
    "\n",
    "    pearson_raw = []\n",
    "    pearson_delta = []\n",
    "    pearson_delta_de = []\n",
    "    pearson_delta_de_no_knockout = []\n",
    "\n",
    "    for i in range(pred.shape[0]):\n",
    "        _pred = pred[i]\n",
    "        _target_df = data[col].iloc[i]\n",
    "        _target = data[col].iloc[i].values\n",
    "\n",
    "        pearson_raw.append(pearsonr(_pred, _target)[0])\n",
    "        pearson_delta.append(pearsonr(_pred - ctrl, _target - ctrl)[0])\n",
    "\n",
    "        de = de_dict[key_pattern % _target_df.name][:20]\n",
    "        de_pred_indices = np.array([idx for idx, i in enumerate(cols) if i in de])\n",
    "\n",
    "        de_no_self = de_dict_noself[key_pattern % _target_df.name][:20]\n",
    "        de_no_self_pred_indices = [idx for idx, i in enumerate(cols) if i in de_no_self]\n",
    "\n",
    "        pearson_delta_de.append(\n",
    "            pearsonr((_pred - ctrl)[de_pred_indices], (_target - ctrl)[de_pred_indices])[0]\n",
    "        )\n",
    "        pearson_delta_de_no_knockout.append(\n",
    "            pearsonr((_pred - ctrl)[de_no_self_pred_indices], (_target - ctrl)[de_no_self_pred_indices])[0]\n",
    "        )\n",
    "\n",
    "    return dict(\n",
    "        pearson=np.mean(pearson_raw),\n",
    "        pearson_delta=np.mean(pearson_delta),\n",
    "        pearson_de_delta=np.mean(pearson_delta_de),\n",
    "        pearson_delta_de_no_knockout=np.mean(pearson_delta_de_no_knockout))"
   ]
  },
  {
   "cell_type": "code",
   "execution_count": 6,
   "metadata": {},
   "outputs": [],
   "source": [
    "def _get_go_features(is_norman: bool, perturbation_list: list, go_pca: pd.DataFrame):\n",
    "\n",
    "    GO_NULL_STR = \"NULL\"\n",
    "    go_pca = go_pca.copy()\n",
    "    pert_list = [i.replace(\"ctrl+\", \"\").replace(\"+ctrl\", \"\") for i in perturbation_list]\n",
    "    if is_norman:\n",
    "        # insert NULL as a row to the go_pca with 0 values\n",
    "        go_pca.loc[GO_NULL_STR] = 0\n",
    "\n",
    "        pert1 = []\n",
    "        pert2 = []\n",
    "        for i in pert_list:\n",
    "            if '+' in i:\n",
    "                p1, p2 = i.split('+')\n",
    "                pert1.append(p1)\n",
    "                pert2.append(p2)\n",
    "            else:\n",
    "                pert1.append(i)\n",
    "                pert2.append('NULL')\n",
    "        \n",
    "        go_features = go_pca.loc[pert1].values + go_pca.loc[pert2].values\n",
    "\n",
    "    else:\n",
    "\n",
    "        go_features = go_pca.loc[pert_list]\n",
    "    return go_features\n",
    "\n",
    "def create_bulk_data(\n",
    "    pert_data: PertData, go_pca_: pd.DataFrame, is_norman: bool):\n",
    "\n",
    "    data_splits = deepcopy(pert_data.set2conditions)\n",
    "\n",
    "    train_samples = data_splits['train']\n",
    "    val_samples = data_splits['val']\n",
    "    \n",
    "    train_samples.remove('ctrl')\n",
    "    if 'ctrl' in val_samples:\n",
    "        val_samples.remove('ctrl')\n",
    "    \n",
    "    test_samples = data_splits['test']\n",
    "\n",
    "    assert 'ctrl' not in test_samples, \"ctrl in test samples\"\n",
    "\n",
    "    data = pert_data.adata.to_df()\n",
    "    data['condition'] = pert_data.adata.obs['condition']\n",
    "    data = data.groupby('condition').mean()\n",
    "\n",
    "    train_x = _get_go_features(is_norman, train_samples, go_pca_)\n",
    "    train_y = data.loc[train_samples].copy()\n",
    "\n",
    "    val_x = _get_go_features(is_norman, val_samples, go_pca_)\n",
    "    val_y = data.loc[val_samples].copy()\n",
    "\n",
    "    test_x = _get_go_features(is_norman, test_samples, go_pca_)\n",
    "    test_y = data.loc[test_samples].copy()\n",
    "    ctrl_mean = data.loc['ctrl'].values\n",
    "\n",
    "    assert train_x.shape[0] == train_y.shape[0], \"Train shapes do not match\"\n",
    "    assert test_x.shape[0] == test_y.shape[0], \"Test shapes do not match\"\n",
    "    assert train_x.shape[1] == test_x.shape[1], \"Train and test features do not match\"\n",
    "    assert train_y.shape[1] == test_y.shape[1], \"Train and test targets do not match\"\n",
    "    assert ctrl_mean.shape[0] == train_y.shape[1] == test_y.shape[1], \"ctrl mean shape does not match\"\n",
    "    assert ctrl_mean.ndim == 1, \"ctrl mean is not 1D\"\n",
    "\n",
    "    print(\"Number of training samples: \", train_x.shape[0])\n",
    "    print(\"Number of test samples: \", test_x.shape[0])\n",
    "\n",
    "    return dict(\n",
    "        train_x=train_x,\n",
    "        train_y=train_y,\n",
    "        val_x=val_x,\n",
    "        val_y=val_y,\n",
    "        test_x=test_x,\n",
    "        test_y=test_y,\n",
    "        ctrl_mean=ctrl_mean,\n",
    "    )\n",
    "\n",
    "def hp_search(\n",
    "        model_class, hp_settings: list[dict], data, pert_data, key_pattern: str, is_norman: bool):\n",
    "    \n",
    "    _res = dict() \n",
    "    for _hp in hp_settings:\n",
    "        _model_hp_id = [f\"{k}={v}\" for k, v in _hp.items()]\n",
    "        _model_hp_id = \"_\".join(_model_hp_id)\n",
    "\n",
    "        _model = model_class(**_hp)\n",
    "\n",
    "        _model.fit(data['train_x'], data['train_y'])\n",
    "        _pred = _model.predict(data['val_x'])\n",
    "        _eval = eval(_pred, data, pert_data, is_norman, key_pattern, test=False)\n",
    "        print(f\"HP: {_model_hp_id}\")\n",
    "        print(f\"Validation results: {_eval}\")\n",
    "        print(\"=\" * 20)\n",
    "        \n",
    "        _res[_model_hp_id] = dict(\n",
    "            model=_model,\n",
    "            eval=_eval,\n",
    "        )\n",
    "    # pick the best based on pearson_delta\n",
    "    best_n_est = max(_res, key=lambda x: _res[x]['eval']['pearson_delta'])\n",
    "\n",
    "    # inference on test\n",
    "    _model = _res[best_n_est]['model']\n",
    "    _pred = _model.predict(data['test_x'])\n",
    "    _eval = eval(_pred, data, pert_data, is_norman, key_pattern, test=True)\n",
    "    print(f\"Best n_estimator: {_model_hp_id}\")\n",
    "    print(f\"Test results: {_eval}\")\n",
    "\n",
    "    return _eval\n",
    "\n",
    "def plot_results(df):\n",
    "    fig, axs = plt.subplots(1, 1, figsize=(5, 5))\n",
    "\n",
    "    palette = {k:v for k, v in zip([\"scgpt\", \"mean\", \"rf\", \"en\"], ['#FF6666', '#33C7CC', '#0F0A26', '#425266'])}\n",
    "    sns.barplot(x='model', y='pearson_delta', data=df, ax=axs, hue='model', palette=palette)\n",
    "\n",
    "    axs.set_title(f\"Pearson Delta Results\")\n",
    "\n",
    "    plt.tight_layout()\n",
    "    plt.show()"
   ]
  },
  {
   "cell_type": "code",
   "execution_count": 7,
   "metadata": {},
   "outputs": [],
   "source": [
    "RANDOM_STATE = 42\n",
    "\n",
    "RES_DIR = Path(\"./save\")"
   ]
  },
  {
   "cell_type": "code",
   "execution_count": 8,
   "metadata": {},
   "outputs": [],
   "source": [
    "go = pd.read_csv(\"../data/go.csv\", index_col=0)\n",
    "\n",
    "pca_256 = PCA(n_components=256, random_state=0)\n",
    "go_pca = pca_256.fit_transform(go)\n",
    "go_pca = pd.DataFrame(go_pca, index=go.index)\n",
    "\n",
    "del go"
   ]
  },
  {
   "cell_type": "code",
   "execution_count": 9,
   "metadata": {},
   "outputs": [],
   "source": [
    "sc_elmo = pd.read_parquet(\"../data/scElmo/ensem_emb_gpt3.5all_new.parquet\")\n",
    "\n",
    "pca_256 = PCA(n_components=256, random_state=0)\n",
    "sc_elmo_pca = pca_256.fit_transform(sc_elmo)\n",
    "sc_elmo = pd.DataFrame(sc_elmo_pca, index=sc_elmo.index)"
   ]
  },
  {
   "cell_type": "markdown",
   "metadata": {},
   "source": [
    "## Adamson"
   ]
  },
  {
   "cell_type": "code",
   "execution_count": 11,
   "metadata": {},
   "outputs": [
    {
     "name": "stderr",
     "output_type": "stream",
     "text": [
      "Found local copy...\n",
      "Local copy of pyg dataset is detected. Loading...\n",
      "Done!\n",
      "Local copy of split is detected. Loading...\n",
      "Simulation split test composition:\n",
      "combo_seen0:0\n",
      "combo_seen1:0\n",
      "combo_seen2:0\n",
      "unseen_single:22\n",
      "Done!\n"
     ]
    }
   ],
   "source": [
    "pert_data_adamson = PertData(\"../data/\")\n",
    "pert_data_adamson.load(data_name='adamson')\n",
    "pert_data_adamson.prepare_split(split=\"simulation\", seed=1)"
   ]
  },
  {
   "cell_type": "code",
   "execution_count": 12,
   "metadata": {},
   "outputs": [
    {
     "name": "stdout",
     "output_type": "stream",
     "text": [
      "Number of training samples:  57\n",
      "Number of test samples:  22\n",
      "Number of training samples:  57\n",
      "Number of test samples:  22\n"
     ]
    }
   ],
   "source": [
    "# create dataset with go features\n",
    "adamson_data_go = create_bulk_data(\n",
    "    pert_data=pert_data_adamson,\n",
    "    go_pca_=go_pca,\n",
    "    is_norman=False,\n",
    ")\n",
    "# create dataset with elmo features\n",
    "adamson_data_elmo = create_bulk_data(\n",
    "    pert_data=pert_data_adamson,\n",
    "    go_pca_=sc_elmo,\n",
    "    is_norman=False,\n",
    ")"
   ]
  },
  {
   "cell_type": "code",
   "execution_count": null,
   "metadata": {},
   "outputs": [
    {
     "name": "stderr",
     "output_type": "stream",
     "text": [
      "[Parallel(n_jobs=-1)]: Using backend ThreadingBackend with 24 concurrent workers.\n",
      "[Parallel(n_jobs=-1)]: Done   2 tasks      | elapsed:    0.4s\n",
      "[Parallel(n_jobs=-1)]: Done 100 out of 100 | elapsed:    2.6s finished\n",
      "[Parallel(n_jobs=24)]: Using backend ThreadingBackend with 24 concurrent workers.\n",
      "[Parallel(n_jobs=24)]: Done   2 tasks      | elapsed:    0.0s\n",
      "[Parallel(n_jobs=24)]: Done 100 out of 100 | elapsed:    0.0s finished\n"
     ]
    },
    {
     "name": "stdout",
     "output_type": "stream",
     "text": [
      "HP: n_estimators=100_n_jobs=-1_random_state=42_verbose=True\n",
      "Validation results: {'pearson': 0.9944378857339876, 'pearson_delta': 0.8334261238136326, 'pearson_de_delta': 0.865858528458463, 'pearson_delta_de_no_knockout': 0.8954096662922167}\n",
      "====================\n"
     ]
    },
    {
     "name": "stderr",
     "output_type": "stream",
     "text": [
      "[Parallel(n_jobs=-1)]: Using backend ThreadingBackend with 24 concurrent workers.\n",
      "[Parallel(n_jobs=-1)]: Done   2 tasks      | elapsed:    0.4s\n",
      "[Parallel(n_jobs=-1)]: Done 152 tasks      | elapsed:    3.7s\n",
      "[Parallel(n_jobs=-1)]: Done 300 out of 300 | elapsed:    7.2s finished\n",
      "[Parallel(n_jobs=24)]: Using backend ThreadingBackend with 24 concurrent workers.\n",
      "[Parallel(n_jobs=24)]: Done   2 tasks      | elapsed:    0.0s\n",
      "[Parallel(n_jobs=24)]: Done 152 tasks      | elapsed:    0.0s\n",
      "[Parallel(n_jobs=24)]: Done 300 out of 300 | elapsed:    0.0s finished\n"
     ]
    },
    {
     "name": "stdout",
     "output_type": "stream",
     "text": [
      "HP: n_estimators=300_n_jobs=-1_random_state=42_verbose=True\n",
      "Validation results: {'pearson': 0.9947977416190935, 'pearson_delta': 0.842441007798656, 'pearson_de_delta': 0.8632428009971277, 'pearson_delta_de_no_knockout': 0.8942195550427611}\n",
      "====================\n"
     ]
    },
    {
     "name": "stderr",
     "output_type": "stream",
     "text": [
      "[Parallel(n_jobs=24)]: Using backend ThreadingBackend with 24 concurrent workers.\n",
      "[Parallel(n_jobs=24)]: Done   2 tasks      | elapsed:    0.0s\n",
      "[Parallel(n_jobs=24)]: Done 152 tasks      | elapsed:    0.0s\n",
      "[Parallel(n_jobs=24)]: Done 300 out of 300 | elapsed:    0.1s finished\n"
     ]
    },
    {
     "name": "stdout",
     "output_type": "stream",
     "text": [
      "Best n_estimator: n_estimators=300_n_jobs=-1_random_state=42_verbose=True\n",
      "Test results: {'pearson': 0.9935447306240099, 'pearson_delta': 0.7542608646451074, 'pearson_de_delta': 0.79910061506207, 'pearson_delta_de_no_knockout': 0.8536776036190709}\n",
      "HP: alpha=0.1_l1_ratio=0.5_random_state=42\n",
      "Validation results: {'pearson': 0.9926346912213333, 'pearson_delta': 0.7922963373939697, 'pearson_de_delta': 0.8437857357785452, 'pearson_delta_de_no_knockout': 0.8727960386793834}\n",
      "====================\n",
      "HP: alpha=0.01_l1_ratio=0.5_random_state=42\n",
      "Validation results: {'pearson': 0.9936575698313573, 'pearson_delta': 0.809190751826306, 'pearson_de_delta': 0.8482125371400533, 'pearson_delta_de_no_knockout': 0.8925988575907888}\n",
      "====================\n",
      "Best n_estimator: alpha=0.01_l1_ratio=0.5_random_state=42\n",
      "Test results: {'pearson': 0.9915868413441128, 'pearson_delta': 0.7049282866675781, 'pearson_de_delta': 0.7410069049462897, 'pearson_delta_de_no_knockout': 0.7971921662607403}\n"
     ]
    },
    {
     "name": "stderr",
     "output_type": "stream",
     "text": [
      "[Parallel(n_jobs=-1)]: Using backend ThreadingBackend with 24 concurrent workers.\n",
      "[Parallel(n_jobs=-1)]: Done   2 tasks      | elapsed:    0.5s\n",
      "[Parallel(n_jobs=-1)]: Done 100 out of 100 | elapsed:    3.3s finished\n",
      "[Parallel(n_jobs=24)]: Using backend ThreadingBackend with 24 concurrent workers.\n",
      "[Parallel(n_jobs=24)]: Done   2 tasks      | elapsed:    0.0s\n",
      "[Parallel(n_jobs=24)]: Done 100 out of 100 | elapsed:    0.0s finished\n"
     ]
    },
    {
     "name": "stdout",
     "output_type": "stream",
     "text": [
      "HP: n_estimators=100_n_jobs=-1_random_state=42_verbose=True\n",
      "Validation results: {'pearson': 0.9934182434496768, 'pearson_delta': 0.8214497193336154, 'pearson_de_delta': 0.8472624428302831, 'pearson_delta_de_no_knockout': 0.8766944318685175}\n",
      "====================\n"
     ]
    },
    {
     "name": "stderr",
     "output_type": "stream",
     "text": [
      "[Parallel(n_jobs=-1)]: Using backend ThreadingBackend with 24 concurrent workers.\n",
      "[Parallel(n_jobs=-1)]: Done   2 tasks      | elapsed:    0.5s\n",
      "[Parallel(n_jobs=-1)]: Done 152 tasks      | elapsed:    4.6s\n",
      "[Parallel(n_jobs=-1)]: Done 300 out of 300 | elapsed:    8.8s finished\n",
      "[Parallel(n_jobs=24)]: Using backend ThreadingBackend with 24 concurrent workers.\n",
      "[Parallel(n_jobs=24)]: Done   2 tasks      | elapsed:    0.0s\n",
      "[Parallel(n_jobs=24)]: Done 152 tasks      | elapsed:    0.0s\n",
      "[Parallel(n_jobs=24)]: Done 300 out of 300 | elapsed:    0.1s finished\n"
     ]
    },
    {
     "name": "stdout",
     "output_type": "stream",
     "text": [
      "HP: n_estimators=300_n_jobs=-1_random_state=42_verbose=True\n",
      "Validation results: {'pearson': 0.9935017996265989, 'pearson_delta': 0.8275758054430125, 'pearson_de_delta': 0.8520319228613509, 'pearson_delta_de_no_knockout': 0.8804630820135021}\n",
      "====================\n"
     ]
    },
    {
     "name": "stderr",
     "output_type": "stream",
     "text": [
      "[Parallel(n_jobs=24)]: Using backend ThreadingBackend with 24 concurrent workers.\n",
      "[Parallel(n_jobs=24)]: Done   2 tasks      | elapsed:    0.0s\n",
      "[Parallel(n_jobs=24)]: Done 152 tasks      | elapsed:    0.0s\n",
      "[Parallel(n_jobs=24)]: Done 300 out of 300 | elapsed:    0.1s finished\n"
     ]
    },
    {
     "name": "stdout",
     "output_type": "stream",
     "text": [
      "Best n_estimator: n_estimators=300_n_jobs=-1_random_state=42_verbose=True\n",
      "Test results: {'pearson': 0.9929968711806285, 'pearson_delta': 0.7256201400214363, 'pearson_de_delta': 0.7377906097350244, 'pearson_delta_de_no_knockout': 0.7924061115720691}\n",
      "HP: alpha=0.1_l1_ratio=0.5_random_state=42\n",
      "Validation results: {'pearson': 0.9923862220798599, 'pearson_delta': 0.783966137625877, 'pearson_de_delta': 0.8358729337890388, 'pearson_delta_de_no_knockout': 0.8619799699990102}\n",
      "====================\n",
      "HP: alpha=0.01_l1_ratio=0.5_random_state=42\n",
      "Validation results: {'pearson': 0.9925318178107788, 'pearson_delta': 0.7895035012494519, 'pearson_de_delta': 0.8460117282179275, 'pearson_delta_de_no_knockout': 0.8725527684886482}\n",
      "====================\n",
      "Best n_estimator: alpha=0.01_l1_ratio=0.5_random_state=42\n",
      "Test results: {'pearson': 0.992595307409092, 'pearson_delta': 0.7110949626558359, 'pearson_de_delta': 0.7307310953124669, 'pearson_delta_de_no_knockout': 0.7863382269845833}\n"
     ]
    }
   ],
   "source": [
    "dataset_exp_name_map = {\n",
    "    \"go\": adamson_data_go,\n",
    "    \"elmo\": adamson_data_elmo,\n",
    "}\n",
    "\n",
    "for _exp, _ds in dataset_exp_name_map.items():\n",
    "    # random forest\n",
    "    _res_out = hp_search(\n",
    "        model_class=RandomForestRegressor,\n",
    "        hp_settings=[\n",
    "            dict(n_estimators=100, n_jobs=-1, random_state=RANDOM_STATE, verbose=True),\n",
    "            dict(n_estimators=300, n_jobs=-1, random_state=RANDOM_STATE, verbose=True),\n",
    "        ],\n",
    "        data=_ds,\n",
    "        pert_data=pert_data_adamson,\n",
    "        key_pattern=\"K562(?)_%s_1+1\",\n",
    "        is_norman=False\n",
    "    )\n",
    "    _res_dir = RES_DIR / \"adamson\" / \"RF\" / _exp\n",
    "    _res_dir.mkdir(parents=True, exist_ok=True)\n",
    "    with open(_res_dir / \"test_metrics.json\", \"w\") as f:\n",
    "        json.dump(_res_out, f)\n",
    "\n",
    "    # elastic net\n",
    "    _res_out = hp_search(\n",
    "        model_class=ElasticNet,\n",
    "        hp_settings=[\n",
    "            dict(alpha=0.1, l1_ratio=0.5, random_state=RANDOM_STATE),\n",
    "            dict(alpha=0.01, l1_ratio=0.5, random_state=RANDOM_STATE),\n",
    "        ],\n",
    "        data=_ds,\n",
    "        pert_data=pert_data_adamson,\n",
    "        key_pattern=\"K562(?)_%s_1+1\",\n",
    "        is_norman=False\n",
    "    )\n",
    "    _res_dir = RES_DIR / \"adamson\" / \"EN\" / _exp\n",
    "    _res_dir.mkdir(parents=True, exist_ok=True)\n",
    "    with open(_res_dir / \"test_metrics.json\", \"w\") as f:\n",
    "        json.dump(_res_out, f)\n",
    "\n",
    "    # mean\n",
    "    mean_pred = _ds[\"train_y\"].mean().values.reshape(1, -1)\n",
    "    mean_pred = np.repeat(mean_pred, _ds[\"test_y\"].shape[0], axis=0)\n",
    "\n",
    "    res_mean = eval(\n",
    "        pred=mean_pred,\n",
    "        data=_ds,\n",
    "        pert_data=pert_data_adamson,\n",
    "        is_norman=False,\n",
    "        key_pattern=\"K562(?)_%s_1+1\",\n",
    "        test=True\n",
    "    )\n",
    "    _res_dir = RES_DIR / \"adamson\" / \"mean\" / _exp\n",
    "    _res_dir.mkdir(parents=True, exist_ok=True)\n",
    "    with open(_res_dir / \"test_metrics.json\", \"w\") as f:\n",
    "        json.dump(res_mean, f)"
   ]
  },
  {
   "cell_type": "code",
   "execution_count": null,
   "metadata": {},
   "outputs": [],
   "source": []
  },
  {
   "cell_type": "code",
   "execution_count": 25,
   "metadata": {},
   "outputs": [
    {
     "name": "stderr",
     "output_type": "stream",
     "text": [
      "[Parallel(n_jobs=-1)]: Using backend ThreadingBackend with 24 concurrent workers.\n",
      "[Parallel(n_jobs=-1)]: Done   2 tasks      | elapsed:    0.6s\n",
      "[Parallel(n_jobs=-1)]: Done 100 out of 100 | elapsed:    3.4s finished\n",
      "[Parallel(n_jobs=24)]: Using backend ThreadingBackend with 24 concurrent workers.\n",
      "[Parallel(n_jobs=24)]: Done   2 tasks      | elapsed:    0.0s\n",
      "[Parallel(n_jobs=24)]: Done 100 out of 100 | elapsed:    0.0s finished\n"
     ]
    },
    {
     "name": "stdout",
     "output_type": "stream",
     "text": [
      "HP: n_estimators=100_n_jobs=-1_random_state=42_verbose=True\n",
      "Validation results: {'pearson': 0.9934182434496768, 'pearson_delta': 0.8214497193336154, 'pearson_de_delta': 0.8472624428302831, 'pearson_delta_de_no_knockout': 0.8766944318685175}\n",
      "====================\n"
     ]
    },
    {
     "name": "stderr",
     "output_type": "stream",
     "text": [
      "[Parallel(n_jobs=-1)]: Using backend ThreadingBackend with 24 concurrent workers.\n",
      "[Parallel(n_jobs=-1)]: Done   2 tasks      | elapsed:    0.5s\n",
      "[Parallel(n_jobs=-1)]: Done 152 tasks      | elapsed:    4.6s\n",
      "[Parallel(n_jobs=-1)]: Done 300 out of 300 | elapsed:    8.8s finished\n",
      "[Parallel(n_jobs=24)]: Using backend ThreadingBackend with 24 concurrent workers.\n",
      "[Parallel(n_jobs=24)]: Done   2 tasks      | elapsed:    0.0s\n",
      "[Parallel(n_jobs=24)]: Done 152 tasks      | elapsed:    0.0s\n",
      "[Parallel(n_jobs=24)]: Done 300 out of 300 | elapsed:    0.1s finished\n"
     ]
    },
    {
     "name": "stdout",
     "output_type": "stream",
     "text": [
      "HP: n_estimators=300_n_jobs=-1_random_state=42_verbose=True\n",
      "Validation results: {'pearson': 0.9935017996265989, 'pearson_delta': 0.8275758054430125, 'pearson_de_delta': 0.8520319228613509, 'pearson_delta_de_no_knockout': 0.8804630820135021}\n",
      "====================\n"
     ]
    },
    {
     "name": "stderr",
     "output_type": "stream",
     "text": [
      "[Parallel(n_jobs=24)]: Using backend ThreadingBackend with 24 concurrent workers.\n",
      "[Parallel(n_jobs=24)]: Done   2 tasks      | elapsed:    0.0s\n",
      "[Parallel(n_jobs=24)]: Done 152 tasks      | elapsed:    0.0s\n",
      "[Parallel(n_jobs=24)]: Done 300 out of 300 | elapsed:    0.1s finished\n"
     ]
    },
    {
     "name": "stdout",
     "output_type": "stream",
     "text": [
      "Best n_estimator: n_estimators=300_n_jobs=-1_random_state=42_verbose=True\n",
      "Test results: {'pearson': 0.9929968711806285, 'pearson_delta': 0.7256201400214363, 'pearson_de_delta': 0.7377906097350244, 'pearson_delta_de_no_knockout': 0.7924061115720691}\n"
     ]
    }
   ],
   "source": [
    "adamson_res_rf = hp_search(\n",
    "    model_class=RandomForestRegressor,\n",
    "    hp_settings=[\n",
    "        dict(n_estimators=100, n_jobs=-1, random_state=RANDOM_STATE, verbose=True),\n",
    "        dict(n_estimators=300, n_jobs=-1, random_state=RANDOM_STATE, verbose=True),\n",
    "    ],\n",
    "    data=adamson_data_elmo,\n",
    "    pert_data=pert_data_adamson,\n",
    "    key_pattern=\"K562(?)_%s_1+1\",\n",
    "    is_norman=False\n",
    ")"
   ]
  },
  {
   "cell_type": "code",
   "execution_count": null,
   "metadata": {},
   "outputs": [
    {
     "name": "stderr",
     "output_type": "stream",
     "text": [
      "[Parallel(n_jobs=-1)]: Using backend ThreadingBackend with 24 concurrent workers.\n",
      "[Parallel(n_jobs=-1)]: Done   2 tasks      | elapsed:    0.4s\n",
      "[Parallel(n_jobs=-1)]: Done 100 out of 100 | elapsed:    2.5s finished\n",
      "[Parallel(n_jobs=24)]: Using backend ThreadingBackend with 24 concurrent workers.\n",
      "[Parallel(n_jobs=24)]: Done   2 tasks      | elapsed:    0.0s\n",
      "[Parallel(n_jobs=24)]: Done 100 out of 100 | elapsed:    0.0s finished\n"
     ]
    },
    {
     "name": "stdout",
     "output_type": "stream",
     "text": [
      "HP: n_estimators=100_n_jobs=-1_random_state=42_verbose=True\n",
      "Validation results: {'pearson': 0.9944378857339876, 'pearson_delta': 0.8334261238136327, 'pearson_de_delta': 0.865858528458463, 'pearson_delta_de_no_knockout': 0.8954096662922167}\n",
      "====================\n"
     ]
    },
    {
     "name": "stderr",
     "output_type": "stream",
     "text": [
      "[Parallel(n_jobs=-1)]: Using backend ThreadingBackend with 24 concurrent workers.\n",
      "[Parallel(n_jobs=-1)]: Done   2 tasks      | elapsed:    0.4s\n",
      "[Parallel(n_jobs=-1)]: Done 152 tasks      | elapsed:    3.6s\n",
      "[Parallel(n_jobs=-1)]: Done 300 out of 300 | elapsed:    7.1s finished\n",
      "[Parallel(n_jobs=24)]: Using backend ThreadingBackend with 24 concurrent workers.\n",
      "[Parallel(n_jobs=24)]: Done   2 tasks      | elapsed:    0.0s\n",
      "[Parallel(n_jobs=24)]: Done 152 tasks      | elapsed:    0.0s\n",
      "[Parallel(n_jobs=24)]: Done 300 out of 300 | elapsed:    0.1s finished\n"
     ]
    },
    {
     "name": "stdout",
     "output_type": "stream",
     "text": [
      "HP: n_estimators=300_n_jobs=-1_random_state=42_verbose=True\n",
      "Validation results: {'pearson': 0.9947977416190935, 'pearson_delta': 0.842441007798656, 'pearson_de_delta': 0.8632428009971277, 'pearson_delta_de_no_knockout': 0.8942195550427611}\n",
      "====================\n"
     ]
    },
    {
     "name": "stderr",
     "output_type": "stream",
     "text": [
      "[Parallel(n_jobs=24)]: Using backend ThreadingBackend with 24 concurrent workers.\n",
      "[Parallel(n_jobs=24)]: Done   2 tasks      | elapsed:    0.0s\n",
      "[Parallel(n_jobs=24)]: Done 152 tasks      | elapsed:    0.0s\n",
      "[Parallel(n_jobs=24)]: Done 300 out of 300 | elapsed:    0.1s finished\n"
     ]
    },
    {
     "name": "stdout",
     "output_type": "stream",
     "text": [
      "Best n_estimator: n_estimators=300_n_jobs=-1_random_state=42_verbose=True\n",
      "Test results: {'pearson': 0.9935447306240099, 'pearson_delta': 0.7542608646451074, 'pearson_de_delta': 0.79910061506207, 'pearson_delta_de_no_knockout': 0.8536776036190709}\n"
     ]
    }
   ],
   "source": [
    "adamson_res_rf = hp_search(\n",
    "    model_class=RandomForestRegressor,\n",
    "    hp_settings=[\n",
    "        dict(n_estimators=100, n_jobs=-1, random_state=RANDOM_STATE, verbose=True),\n",
    "        dict(n_estimators=300, n_jobs=-1, random_state=RANDOM_STATE, verbose=True),\n",
    "    ],\n",
    "    data=adamson_data,\n",
    "    pert_data=pert_data_adamson,\n",
    "    key_pattern=\"K562(?)_%s_1+1\",\n",
    "    is_norman=False\n",
    ")"
   ]
  },
  {
   "cell_type": "code",
   "execution_count": null,
   "metadata": {},
   "outputs": [
    {
     "name": "stdout",
     "output_type": "stream",
     "text": [
      "HP: l1_ratio=0.1\n",
      "Validation results: {'pearson': 0.9924106461592791, 'pearson_delta': 0.7848068179531776, 'pearson_de_delta': 0.8379640255463834, 'pearson_delta_de_no_knockout': 0.8642654127176636}\n",
      "====================\n",
      "HP: l1_ratio=0.5\n",
      "Validation results: {'pearson': 0.9923862220798599, 'pearson_delta': 0.783966137625877, 'pearson_de_delta': 0.8358729337890388, 'pearson_delta_de_no_knockout': 0.8619799699990102}\n",
      "====================\n",
      "HP: l1_ratio=0.9\n",
      "Validation results: {'pearson': 0.9923862220798599, 'pearson_delta': 0.783966137625877, 'pearson_de_delta': 0.8358729337890388, 'pearson_delta_de_no_knockout': 0.8619799699990102}\n",
      "====================\n",
      "Best n_estimator: l1_ratio=0.9\n",
      "Test results: {'pearson': 0.9925910373718948, 'pearson_delta': 0.7114003563475797, 'pearson_de_delta': 0.7298938745530001, 'pearson_delta_de_no_knockout': 0.7851719403663271}\n"
     ]
    }
   ],
   "source": [
    "adamson_res_en = hp_search(\n",
    "    model_class=ElasticNet,\n",
    "    hp_settings=[\n",
    "        dict(l1_ratio=0.1),\n",
    "        dict(l1_ratio=0.5),\n",
    "        dict(l1_ratio=0.9),\n",
    "    ],\n",
    "    data=adamson_data,\n",
    "    pert_data=pert_data_adamson,\n",
    "    key_pattern=\"K562(?)_%s_1+1\",\n",
    "    is_norman=False\n",
    ")"
   ]
  },
  {
   "cell_type": "code",
   "execution_count": null,
   "metadata": {},
   "outputs": [
    {
     "data": {
      "text/plain": [
       "{'pearson': 0.9925863975998177,\n",
       " 'pearson_delta': 0.7111480988121129,\n",
       " 'pearson_de_delta': 0.7292645125054352,\n",
       " 'pearson_delta_de_no_knockout': 0.7845348644136307}"
      ]
     },
     "execution_count": 11,
     "metadata": {},
     "output_type": "execute_result"
    }
   ],
   "source": [
    "adamson_mean_pred = adamson_data[\"train_y\"].mean().values.reshape(1, -1)\n",
    "adamson_mean_pred = np.repeat(adamson_mean_pred, adamson_data[\"test_y\"].shape[0], axis=0)\n",
    "\n",
    "adamson_res_mean = eval(\n",
    "    pred=adamson_mean_pred,\n",
    "    data=adamson_data,\n",
    "    pert_data=pert_data_adamson,\n",
    "    is_norman=False,\n",
    "    key_pattern=\"K562(?)_%s_1+1\",\n",
    "    test=True\n",
    ")\n",
    "adamson_res_mean"
   ]
  },
  {
   "cell_type": "markdown",
   "metadata": {},
   "source": [
    "## Norman"
   ]
  },
  {
   "cell_type": "code",
   "execution_count": 10,
   "metadata": {},
   "outputs": [
    {
     "name": "stderr",
     "output_type": "stream",
     "text": [
      "Local copy of pyg dataset is detected. Loading...\n",
      "Done!\n",
      "Local copy of split is detected. Loading...\n",
      "Simulation split test composition:\n",
      "combo_seen0:9\n",
      "combo_seen1:52\n",
      "combo_seen2:18\n",
      "unseen_single:37\n",
      "Done!\n"
     ]
    }
   ],
   "source": [
    "pert_data_norman = PertData(\"../data/\")\n",
    "pert_data_norman.load(data_path='../data/norman/')\n",
    "pert_data_norman.prepare_split(split=\"simulation\", seed=1)"
   ]
  },
  {
   "cell_type": "code",
   "execution_count": 11,
   "metadata": {},
   "outputs": [
    {
     "name": "stdout",
     "output_type": "stream",
     "text": [
      "Number of training samples:  137\n",
      "Number of test samples:  116\n",
      "Number of training samples:  137\n",
      "Number of test samples:  116\n"
     ]
    }
   ],
   "source": [
    "# create dataset with go features\n",
    "norman_data_go = create_bulk_data(\n",
    "    pert_data=pert_data_norman,\n",
    "    go_pca_=go_pca,\n",
    "    is_norman=True,\n",
    ")\n",
    "# create dataset with elmo features\n",
    "norman_data_elmo = create_bulk_data(\n",
    "    pert_data=pert_data_norman,\n",
    "    go_pca_=sc_elmo,\n",
    "    is_norman=True,\n",
    ")"
   ]
  },
  {
   "cell_type": "code",
   "execution_count": null,
   "metadata": {},
   "outputs": [
    {
     "name": "stderr",
     "output_type": "stream",
     "text": [
      "[Parallel(n_jobs=-1)]: Using backend ThreadingBackend with 24 concurrent workers.\n",
      "[Parallel(n_jobs=-1)]: Done   2 tasks      | elapsed:    1.3s\n",
      "[Parallel(n_jobs=-1)]: Done 100 out of 100 | elapsed:    7.0s finished\n",
      "[Parallel(n_jobs=24)]: Using backend ThreadingBackend with 24 concurrent workers.\n",
      "[Parallel(n_jobs=24)]: Done   2 tasks      | elapsed:    0.0s\n",
      "[Parallel(n_jobs=24)]: Done 100 out of 100 | elapsed:    0.0s finished\n"
     ]
    },
    {
     "name": "stdout",
     "output_type": "stream",
     "text": [
      "HP: n_estimators=100_n_jobs=-1_random_state=42_verbose=True\n",
      "Validation results: {'pearson': 0.9915553586972037, 'pearson_delta': 0.6344342685063129, 'pearson_de_delta': 0.5443633800326748, 'pearson_delta_de_no_knockout': 0.6261598938168143}\n",
      "====================\n"
     ]
    },
    {
     "name": "stderr",
     "output_type": "stream",
     "text": [
      "[Parallel(n_jobs=-1)]: Using backend ThreadingBackend with 24 concurrent workers.\n",
      "[Parallel(n_jobs=-1)]: Done   2 tasks      | elapsed:    1.3s\n",
      "[Parallel(n_jobs=-1)]: Done 152 tasks      | elapsed:    9.8s\n",
      "[Parallel(n_jobs=-1)]: Done 300 out of 300 | elapsed:   18.7s finished\n",
      "[Parallel(n_jobs=24)]: Using backend ThreadingBackend with 24 concurrent workers.\n",
      "[Parallel(n_jobs=24)]: Done   2 tasks      | elapsed:    0.0s\n",
      "[Parallel(n_jobs=24)]: Done 152 tasks      | elapsed:    0.0s\n",
      "[Parallel(n_jobs=24)]: Done 300 out of 300 | elapsed:    0.1s finished\n"
     ]
    },
    {
     "name": "stdout",
     "output_type": "stream",
     "text": [
      "HP: n_estimators=300_n_jobs=-1_random_state=42_verbose=True\n",
      "Validation results: {'pearson': 0.9915293013396084, 'pearson_delta': 0.6323986121663504, 'pearson_de_delta': 0.5416328362659459, 'pearson_delta_de_no_knockout': 0.623569628831514}\n",
      "====================\n"
     ]
    },
    {
     "name": "stderr",
     "output_type": "stream",
     "text": [
      "[Parallel(n_jobs=24)]: Using backend ThreadingBackend with 24 concurrent workers.\n",
      "[Parallel(n_jobs=24)]: Done   2 tasks      | elapsed:    0.0s\n",
      "[Parallel(n_jobs=24)]: Done 100 out of 100 | elapsed:    0.0s finished\n"
     ]
    },
    {
     "name": "stdout",
     "output_type": "stream",
     "text": [
      "Best n_estimator: n_estimators=300_n_jobs=-1_random_state=42_verbose=True\n",
      "Test results: {'pearson': 0.9890527474748959, 'pearson_delta': 0.6104241023570707, 'pearson_de_delta': 0.640983647835694, 'pearson_delta_de_no_knockout': 0.6453299768808013}\n",
      "HP: alpha=0.1_l1_ratio=0.5_random_state=42\n",
      "Validation results: {'pearson': 0.9897850215731031, 'pearson_delta': 0.5575557923111851, 'pearson_de_delta': 0.5234642406978086, 'pearson_delta_de_no_knockout': 0.6078643046269984}\n",
      "====================\n",
      "HP: alpha=0.01_l1_ratio=0.5_random_state=42\n",
      "Validation results: {'pearson': 0.9911311041246619, 'pearson_delta': 0.5798793838304135, 'pearson_de_delta': 0.589459684681516, 'pearson_delta_de_no_knockout': 0.6798099614953647}\n",
      "====================\n",
      "Best n_estimator: alpha=0.01_l1_ratio=0.5_random_state=42\n",
      "Test results: {'pearson': 0.9872554712285871, 'pearson_delta': 0.5692248091059638, 'pearson_de_delta': 0.565418363711951, 'pearson_delta_de_no_knockout': 0.5853364685789938}\n"
     ]
    },
    {
     "name": "stderr",
     "output_type": "stream",
     "text": [
      "[Parallel(n_jobs=-1)]: Using backend ThreadingBackend with 24 concurrent workers.\n",
      "[Parallel(n_jobs=-1)]: Done   2 tasks      | elapsed:    1.3s\n",
      "[Parallel(n_jobs=-1)]: Done 100 out of 100 | elapsed:    7.3s finished\n",
      "[Parallel(n_jobs=24)]: Using backend ThreadingBackend with 24 concurrent workers.\n",
      "[Parallel(n_jobs=24)]: Done   2 tasks      | elapsed:    0.0s\n",
      "[Parallel(n_jobs=24)]: Done 100 out of 100 | elapsed:    0.0s finished\n"
     ]
    },
    {
     "name": "stdout",
     "output_type": "stream",
     "text": [
      "HP: n_estimators=100_n_jobs=-1_random_state=42_verbose=True\n",
      "Validation results: {'pearson': 0.9917322085985717, 'pearson_delta': 0.5882696215503572, 'pearson_de_delta': 0.42869909957520747, 'pearson_delta_de_no_knockout': 0.5191632064231347}\n",
      "====================\n"
     ]
    },
    {
     "name": "stderr",
     "output_type": "stream",
     "text": [
      "[Parallel(n_jobs=-1)]: Using backend ThreadingBackend with 24 concurrent workers.\n",
      "[Parallel(n_jobs=-1)]: Done   2 tasks      | elapsed:    1.3s\n",
      "[Parallel(n_jobs=-1)]: Done 152 tasks      | elapsed:   10.4s\n",
      "[Parallel(n_jobs=-1)]: Done 300 out of 300 | elapsed:   20.0s finished\n",
      "[Parallel(n_jobs=24)]: Using backend ThreadingBackend with 24 concurrent workers.\n",
      "[Parallel(n_jobs=24)]: Done   2 tasks      | elapsed:    0.0s\n",
      "[Parallel(n_jobs=24)]: Done 152 tasks      | elapsed:    0.0s\n",
      "[Parallel(n_jobs=24)]: Done 300 out of 300 | elapsed:    0.1s finished\n"
     ]
    },
    {
     "name": "stdout",
     "output_type": "stream",
     "text": [
      "HP: n_estimators=300_n_jobs=-1_random_state=42_verbose=True\n",
      "Validation results: {'pearson': 0.9917237656428565, 'pearson_delta': 0.5988270464887085, 'pearson_de_delta': 0.4323316643224831, 'pearson_delta_de_no_knockout': 0.5225044360327782}\n",
      "====================\n"
     ]
    },
    {
     "name": "stderr",
     "output_type": "stream",
     "text": [
      "[Parallel(n_jobs=24)]: Using backend ThreadingBackend with 24 concurrent workers.\n",
      "[Parallel(n_jobs=24)]: Done   2 tasks      | elapsed:    0.0s\n",
      "[Parallel(n_jobs=24)]: Done 152 tasks      | elapsed:    0.1s\n",
      "[Parallel(n_jobs=24)]: Done 300 out of 300 | elapsed:    0.1s finished\n"
     ]
    },
    {
     "name": "stdout",
     "output_type": "stream",
     "text": [
      "Best n_estimator: n_estimators=300_n_jobs=-1_random_state=42_verbose=True\n",
      "Test results: {'pearson': 0.9899597893223155, 'pearson_delta': 0.6723041872804123, 'pearson_de_delta': 0.6821982552486191, 'pearson_delta_de_no_knockout': 0.7023910420559857}\n",
      "HP: alpha=0.1_l1_ratio=0.5_random_state=42\n",
      "Validation results: {'pearson': 0.9892772952913078, 'pearson_delta': 0.5223282722925074, 'pearson_de_delta': 0.3687482189987538, 'pearson_delta_de_no_knockout': 0.45127066865266857}\n",
      "====================\n",
      "HP: alpha=0.01_l1_ratio=0.5_random_state=42\n",
      "Validation results: {'pearson': 0.9897465824309503, 'pearson_delta': 0.5422510492631687, 'pearson_de_delta': 0.4138739093250114, 'pearson_delta_de_no_knockout': 0.49676105969249473}\n",
      "====================\n",
      "Best n_estimator: alpha=0.01_l1_ratio=0.5_random_state=42\n",
      "Test results: {'pearson': 0.9868465718470858, 'pearson_delta': 0.5797776904873274, 'pearson_de_delta': 0.612820956859886, 'pearson_delta_de_no_knockout': 0.6340634507506919}\n"
     ]
    }
   ],
   "source": [
    "dataset_exp_name_map = {\n",
    "    \"go\": norman_data_go,\n",
    "    \"elmo\": norman_data_elmo,\n",
    "}\n",
    "\n",
    "for _exp, _ds in dataset_exp_name_map.items():\n",
    "    # random forest\n",
    "    _res_out = hp_search(\n",
    "        model_class=RandomForestRegressor,\n",
    "        hp_settings=[\n",
    "            dict(n_estimators=100, n_jobs=-1, random_state=RANDOM_STATE, verbose=True),\n",
    "            dict(n_estimators=300, n_jobs=-1, random_state=RANDOM_STATE, verbose=True),\n",
    "        ],\n",
    "        data=_ds,\n",
    "        pert_data=pert_data_norman,\n",
    "        key_pattern=\"A549_%s_1+1\",\n",
    "        is_norman=True\n",
    "    )\n",
    "    _res_dir = RES_DIR / \"norman\" / \"RF\" / _exp\n",
    "    _res_dir.mkdir(parents=True, exist_ok=True)\n",
    "    with open(_res_dir / \"test_metrics.json\", \"w\") as f:\n",
    "        json.dump(_res_out, f)\n",
    "\n",
    "    # elastic net\n",
    "    _res_out = hp_search(\n",
    "        model_class=ElasticNet,\n",
    "        hp_settings=[\n",
    "            dict(alpha=0.1, l1_ratio=0.5, random_state=RANDOM_STATE),\n",
    "            dict(alpha=0.01, l1_ratio=0.5, random_state=RANDOM_STATE),\n",
    "        ],\n",
    "        data=_ds,\n",
    "        pert_data=pert_data_norman,\n",
    "        key_pattern=\"A549_%s_1+1\",\n",
    "        is_norman=True\n",
    "    )\n",
    "    _res_dir = RES_DIR / \"norman\" / \"EN\" / _exp\n",
    "    _res_dir.mkdir(parents=True, exist_ok=True)\n",
    "    with open(_res_dir / \"test_metrics.json\", \"w\") as f:\n",
    "        json.dump(_res_out, f)\n",
    "\n",
    "    # mean\n",
    "    mean_pred = _ds[\"train_y\"].mean().values.reshape(1, -1)\n",
    "    mean_pred = np.repeat(mean_pred, _ds[\"test_y\"].shape[0], axis=0)\n",
    "\n",
    "    res_mean = eval(\n",
    "        pred=mean_pred,\n",
    "        data=_ds,\n",
    "        pert_data=pert_data_norman,\n",
    "        key_pattern=\"A549_%s_1+1\",\n",
    "        is_norman=True\n",
    "    )\n",
    "    _res_dir = RES_DIR / \"norman\" / \"mean\" / _exp\n",
    "    _res_dir.mkdir(parents=True, exist_ok=True)\n",
    "    with open(_res_dir / \"test_metrics.json\", \"w\") as f:\n",
    "        json.dump(res_mean, f)"
   ]
  },
  {
   "cell_type": "code",
   "execution_count": null,
   "metadata": {},
   "outputs": [],
   "source": []
  },
  {
   "cell_type": "code",
   "execution_count": 9,
   "metadata": {},
   "outputs": [
    {
     "name": "stderr",
     "output_type": "stream",
     "text": [
      "[Parallel(n_jobs=-1)]: Using backend ThreadingBackend with 24 concurrent workers.\n",
      "[Parallel(n_jobs=-1)]: Done   2 tasks      | elapsed:    1.2s\n",
      "[Parallel(n_jobs=-1)]: Done 100 out of 100 | elapsed:    7.0s finished\n",
      "[Parallel(n_jobs=24)]: Using backend ThreadingBackend with 24 concurrent workers.\n",
      "[Parallel(n_jobs=24)]: Done   2 tasks      | elapsed:    0.0s\n",
      "[Parallel(n_jobs=24)]: Done 100 out of 100 | elapsed:    0.0s finished\n"
     ]
    },
    {
     "name": "stdout",
     "output_type": "stream",
     "text": [
      "HP: n_estimators=100_n_jobs=-1_random_state=42_verbose=True\n",
      "Validation results: {'pearson': 0.9915553586972037, 'pearson_delta': 0.6344342685063129, 'pearson_de_delta': 0.5443633800326748, 'pearson_delta_de_no_knockout': 0.6261598938168143}\n",
      "====================\n"
     ]
    },
    {
     "name": "stderr",
     "output_type": "stream",
     "text": [
      "[Parallel(n_jobs=-1)]: Using backend ThreadingBackend with 24 concurrent workers.\n",
      "[Parallel(n_jobs=-1)]: Done   2 tasks      | elapsed:    1.3s\n",
      "[Parallel(n_jobs=-1)]: Done 152 tasks      | elapsed:    9.9s\n",
      "[Parallel(n_jobs=-1)]: Done 300 out of 300 | elapsed:   18.8s finished\n",
      "[Parallel(n_jobs=24)]: Using backend ThreadingBackend with 24 concurrent workers.\n",
      "[Parallel(n_jobs=24)]: Done   2 tasks      | elapsed:    0.0s\n",
      "[Parallel(n_jobs=24)]: Done 152 tasks      | elapsed:    0.0s\n",
      "[Parallel(n_jobs=24)]: Done 300 out of 300 | elapsed:    0.1s finished\n"
     ]
    },
    {
     "name": "stdout",
     "output_type": "stream",
     "text": [
      "HP: n_estimators=300_n_jobs=-1_random_state=42_verbose=True\n",
      "Validation results: {'pearson': 0.9915293013396084, 'pearson_delta': 0.6323986121663504, 'pearson_de_delta': 0.5416328362659459, 'pearson_delta_de_no_knockout': 0.6235696288315141}\n",
      "====================\n"
     ]
    },
    {
     "name": "stderr",
     "output_type": "stream",
     "text": [
      "[Parallel(n_jobs=24)]: Using backend ThreadingBackend with 24 concurrent workers.\n",
      "[Parallel(n_jobs=24)]: Done   2 tasks      | elapsed:    0.0s\n",
      "[Parallel(n_jobs=24)]: Done 100 out of 100 | elapsed:    0.0s finished\n"
     ]
    },
    {
     "name": "stdout",
     "output_type": "stream",
     "text": [
      "Best n_estimator: n_estimators=300_n_jobs=-1_random_state=42_verbose=True\n",
      "Test results: {'pearson': 0.9890527474748959, 'pearson_delta': 0.6104241023570707, 'pearson_de_delta': 0.640983647835694, 'pearson_delta_de_no_knockout': 0.6453299768808012}\n"
     ]
    }
   ],
   "source": [
    "norman_res_rf = hp_search(\n",
    "    model_class=RandomForestRegressor,\n",
    "    hp_settings=[\n",
    "        dict(n_estimators=100, n_jobs=-1, random_state=RANDOM_STATE, verbose=True),\n",
    "        dict(n_estimators=300, n_jobs=-1, random_state=RANDOM_STATE, verbose=True),\n",
    "    ],\n",
    "    data=norman_data,\n",
    "    pert_data=pert_data_norman,\n",
    "    key_pattern=\"A549_%s_1+1\",\n",
    "    is_norman=True\n",
    ")"
   ]
  },
  {
   "cell_type": "code",
   "execution_count": 14,
   "metadata": {},
   "outputs": [
    {
     "name": "stderr",
     "output_type": "stream",
     "text": [
      "[Parallel(n_jobs=-1)]: Using backend ThreadingBackend with 24 concurrent workers.\n",
      "[Parallel(n_jobs=-1)]: Done   2 tasks      | elapsed:    1.3s\n",
      "[Parallel(n_jobs=-1)]: Done 100 out of 100 | elapsed:    8.0s finished\n",
      "[Parallel(n_jobs=24)]: Using backend ThreadingBackend with 24 concurrent workers.\n",
      "[Parallel(n_jobs=24)]: Done   2 tasks      | elapsed:    0.0s\n",
      "[Parallel(n_jobs=24)]: Done 100 out of 100 | elapsed:    0.0s finished\n"
     ]
    },
    {
     "name": "stdout",
     "output_type": "stream",
     "text": [
      "HP: n_estimators=100_n_jobs=-1_random_state=42_verbose=True\n",
      "Validation results: {'pearson': 0.9889267146956411, 'pearson_delta': 0.5445068606771971, 'pearson_de_delta': 0.3976729850114872, 'pearson_delta_de_no_knockout': 0.47897748973038123}\n",
      "====================\n"
     ]
    },
    {
     "name": "stderr",
     "output_type": "stream",
     "text": [
      "[Parallel(n_jobs=-1)]: Using backend ThreadingBackend with 24 concurrent workers.\n",
      "[Parallel(n_jobs=-1)]: Done   2 tasks      | elapsed:    1.3s\n",
      "[Parallel(n_jobs=-1)]: Done 152 tasks      | elapsed:   11.5s\n",
      "[Parallel(n_jobs=-1)]: Done 300 out of 300 | elapsed:   21.8s finished\n",
      "[Parallel(n_jobs=24)]: Using backend ThreadingBackend with 24 concurrent workers.\n",
      "[Parallel(n_jobs=24)]: Done   2 tasks      | elapsed:    0.0s\n",
      "[Parallel(n_jobs=24)]: Done 152 tasks      | elapsed:    0.0s\n",
      "[Parallel(n_jobs=24)]: Done 300 out of 300 | elapsed:    0.1s finished\n"
     ]
    },
    {
     "name": "stdout",
     "output_type": "stream",
     "text": [
      "HP: n_estimators=300_n_jobs=-1_random_state=42_verbose=True\n",
      "Validation results: {'pearson': 0.9890132752023024, 'pearson_delta': 0.5476566284009915, 'pearson_de_delta': 0.3845518287738215, 'pearson_delta_de_no_knockout': 0.4671917593697711}\n",
      "====================\n"
     ]
    },
    {
     "name": "stderr",
     "output_type": "stream",
     "text": [
      "[Parallel(n_jobs=24)]: Using backend ThreadingBackend with 24 concurrent workers.\n",
      "[Parallel(n_jobs=24)]: Done   2 tasks      | elapsed:    0.0s\n",
      "[Parallel(n_jobs=24)]: Done 152 tasks      | elapsed:    0.1s\n",
      "[Parallel(n_jobs=24)]: Done 300 out of 300 | elapsed:    0.1s finished\n"
     ]
    },
    {
     "name": "stdout",
     "output_type": "stream",
     "text": [
      "Best n_estimator: n_estimators=300_n_jobs=-1_random_state=42_verbose=True\n",
      "Test results: {'pearson': 0.9876471758768299, 'pearson_delta': 0.5791565439011602, 'pearson_de_delta': 0.6265480285264465, 'pearson_delta_de_no_knockout': 0.6408238289039022}\n"
     ]
    }
   ],
   "source": [
    "norman_res_rf = hp_search(\n",
    "    model_class=RandomForestRegressor,\n",
    "    hp_settings=[\n",
    "        dict(n_estimators=100, n_jobs=-1, random_state=RANDOM_STATE, verbose=True),\n",
    "        dict(n_estimators=300, n_jobs=-1, random_state=RANDOM_STATE, verbose=True),\n",
    "    ],\n",
    "    data=norman_data,\n",
    "    pert_data=pert_data_norman,\n",
    "    key_pattern=\"A549_%s_1+1\",\n",
    "    is_norman=True\n",
    ")"
   ]
  },
  {
   "cell_type": "code",
   "execution_count": 12,
   "metadata": {},
   "outputs": [
    {
     "name": "stdout",
     "output_type": "stream",
     "text": [
      "HP: l1_ratio=0.1\n",
      "Validation results: {'pearson': 0.9895735663668686, 'pearson_delta': 0.5448575318639081, 'pearson_de_delta': 0.43156273021744096, 'pearson_delta_de_no_knockout': 0.5147244056075789}\n",
      "====================\n",
      "HP: l1_ratio=0.5\n",
      "Validation results: {'pearson': 0.9892772952913078, 'pearson_delta': 0.5223282722925074, 'pearson_de_delta': 0.3687482189987538, 'pearson_delta_de_no_knockout': 0.45127066865266857}\n",
      "====================\n",
      "HP: l1_ratio=0.9\n",
      "Validation results: {'pearson': 0.9892772952913078, 'pearson_delta': 0.5223282722925074, 'pearson_de_delta': 0.3687482189987538, 'pearson_delta_de_no_knockout': 0.45127066865266857}\n",
      "====================\n",
      "Best n_estimator: l1_ratio=0.9\n",
      "Test results: {'pearson': 0.987132281995959, 'pearson_delta': 0.5763672531926403, 'pearson_de_delta': 0.6073596344265779, 'pearson_delta_de_no_knockout': 0.6289601098932586}\n"
     ]
    }
   ],
   "source": [
    "norman_res_en = hp_search(\n",
    "    model_class=ElasticNet,\n",
    "    hp_settings=[\n",
    "        dict(l1_ratio=0.1),\n",
    "        dict(l1_ratio=0.5),\n",
    "        dict(l1_ratio=0.9),\n",
    "    ],\n",
    "    data=norman_data,\n",
    "    pert_data=pert_data_norman,\n",
    "    key_pattern=\"A549_%s_1+1\",\n",
    "    is_norman=True\n",
    ")"
   ]
  },
  {
   "cell_type": "code",
   "execution_count": 11,
   "metadata": {},
   "outputs": [],
   "source": [
    "norman_mean_pred = norman_data[\"train_y\"].mean().values.reshape(1, -1)\n",
    "norman_mean_pred = np.repeat(norman_mean_pred, norman_data[\"test_y\"].shape[0], axis=0)\n",
    "\n",
    "norman_res_mean = eval(\n",
    "    pred=norman_mean_pred,\n",
    "    data=norman_data,\n",
    "    pert_data=pert_data_norman,\n",
    "    is_norman=True,\n",
    "    key_pattern=\"A549_%s_1+1\",\n",
    "    test=True\n",
    ")"
   ]
  },
  {
   "cell_type": "markdown",
   "metadata": {},
   "source": [
    "## Replogle"
   ]
  },
  {
   "cell_type": "code",
   "execution_count": 17,
   "metadata": {},
   "outputs": [
    {
     "name": "stderr",
     "output_type": "stream",
     "text": [
      "Local copy of pyg dataset is detected. Loading...\n",
      "Done!\n",
      "Local copy of split is detected. Loading...\n",
      "Simulation split test composition:\n",
      "combo_seen0:0\n",
      "combo_seen1:0\n",
      "combo_seen2:0\n",
      "unseen_single:273\n",
      "Done!\n"
     ]
    }
   ],
   "source": [
    "pert_data_replogle = PertData(\"../data/\")\n",
    "pert_data_replogle.load(data_path='../data/replogle_k562_essential/')\n",
    "pert_data_replogle.prepare_split(split=\"simulation\", seed=1)"
   ]
  },
  {
   "cell_type": "code",
   "execution_count": null,
   "metadata": {},
   "outputs": [
    {
     "name": "stdout",
     "output_type": "stream",
     "text": [
      "Number of training samples:  737\n",
      "Number of test samples:  273\n"
     ]
    }
   ],
   "source": [
    "# create dataset with go features\n",
    "replogle_data_go = create_bulk_data(\n",
    "    pert_data=pert_data_replogle,\n",
    "    go_pca_=go_pca,\n",
    "    is_norman=False,\n",
    ")\n",
    "# create dataset with elmo features\n",
    "replogle_data_elmo = create_bulk_data(\n",
    "    pert_data=pert_data_replogle,\n",
    "    go_pca_=sc_elmo,\n",
    "    is_norman=False,\n",
    ")"
   ]
  },
  {
   "cell_type": "code",
   "execution_count": null,
   "metadata": {},
   "outputs": [],
   "source": [
    "dataset_exp_name_map = {\n",
    "    \"go\": norman_data_go,\n",
    "    \"elmo\": norman_data_elmo,\n",
    "}\n",
    "\n",
    "for _exp, _ds in dataset_exp_name_map.items():\n",
    "    # random forest\n",
    "    _res_out = hp_search(\n",
    "        model_class=RandomForestRegressor,\n",
    "        hp_settings=[\n",
    "            dict(n_estimators=100, n_jobs=-1, random_state=RANDOM_STATE, verbose=True),\n",
    "            dict(n_estimators=300, n_jobs=-1, random_state=RANDOM_STATE, verbose=True),\n",
    "        ],\n",
    "        data=_ds,\n",
    "        pert_data=pert_data_replogle,\n",
    "        key_pattern=\"K562_%s_1+1\",\n",
    "        is_norman=False\n",
    "    )\n",
    "    _res_dir = RES_DIR / \"replogle\" / \"RF\" / _exp\n",
    "    _res_dir.mkdir(parents=True, exist_ok=True)\n",
    "    with open(_res_dir / \"test_metrics.json\", \"w\") as f:\n",
    "        json.dump(_res_out, f)\n",
    "\n",
    "    # elastic net\n",
    "    _res_out = hp_search(\n",
    "        model_class=ElasticNet,\n",
    "        hp_settings=[\n",
    "            dict(alpha=0.1, l1_ratio=0.5, random_state=RANDOM_STATE),\n",
    "            dict(alpha=0.01, l1_ratio=0.5, random_state=RANDOM_STATE),\n",
    "        ],\n",
    "        data=_ds,\n",
    "        pert_data=pert_data_replogle,\n",
    "        key_pattern=\"K562_%s_1+1\",\n",
    "        is_norman=False\n",
    "    )\n",
    "    _res_dir = RES_DIR / \"replogle\" / \"EN\" / _exp\n",
    "    _res_dir.mkdir(parents=True, exist_ok=True)\n",
    "    with open(_res_dir / \"test_metrics.json\", \"w\") as f:\n",
    "        json.dump(_res_out, f)\n",
    "\n",
    "    # mean\n",
    "    mean_pred = _ds[\"train_y\"].mean().values.reshape(1, -1)\n",
    "    mean_pred = np.repeat(mean_pred, _ds[\"test_y\"].shape[0], axis=0)\n",
    "\n",
    "    res_mean = eval(\n",
    "        pred=mean_pred,\n",
    "        data=_ds,\n",
    "        pert_data=pert_data_replogle,\n",
    "        key_pattern=\"K562_%s_1+1\",\n",
    "        is_norman=False\n",
    "    )\n",
    "    _res_dir = RES_DIR / \"replogle\" / \"mean\" / _exp\n",
    "    _res_dir.mkdir(parents=True, exist_ok=True)\n",
    "    with open(_res_dir / \"test_metrics.json\", \"w\") as f:\n",
    "        json.dump(res_mean, f)"
   ]
  },
  {
   "cell_type": "code",
   "execution_count": null,
   "metadata": {},
   "outputs": [],
   "source": []
  },
  {
   "cell_type": "code",
   "execution_count": null,
   "metadata": {},
   "outputs": [],
   "source": []
  },
  {
   "cell_type": "code",
   "execution_count": 19,
   "metadata": {},
   "outputs": [
    {
     "name": "stderr",
     "output_type": "stream",
     "text": [
      "[Parallel(n_jobs=-1)]: Using backend ThreadingBackend with 24 concurrent workers.\n",
      "[Parallel(n_jobs=-1)]: Done   2 tasks      | elapsed:   11.5s\n",
      "[Parallel(n_jobs=-1)]: Done 100 out of 100 | elapsed:  1.1min finished\n",
      "[Parallel(n_jobs=24)]: Using backend ThreadingBackend with 24 concurrent workers.\n",
      "[Parallel(n_jobs=24)]: Done   2 tasks      | elapsed:    0.0s\n",
      "[Parallel(n_jobs=24)]: Done 100 out of 100 | elapsed:    0.0s finished\n"
     ]
    },
    {
     "name": "stdout",
     "output_type": "stream",
     "text": [
      "HP: n_estimators=100_n_jobs=-1_random_state=42_verbose=True\n",
      "Validation results: {'pearson': 0.9905774342289397, 'pearson_delta': 0.5552230665679263, 'pearson_de_delta': 0.6335672900117998, 'pearson_delta_de_no_knockout': 0.6710092619259165}\n",
      "====================\n"
     ]
    },
    {
     "name": "stderr",
     "output_type": "stream",
     "text": [
      "[Parallel(n_jobs=-1)]: Using backend ThreadingBackend with 24 concurrent workers.\n",
      "[Parallel(n_jobs=-1)]: Done   2 tasks      | elapsed:   10.9s\n",
      "[Parallel(n_jobs=-1)]: Done 152 tasks      | elapsed:  1.5min\n",
      "[Parallel(n_jobs=-1)]: Done 300 out of 300 | elapsed:  2.8min finished\n",
      "[Parallel(n_jobs=24)]: Using backend ThreadingBackend with 24 concurrent workers.\n",
      "[Parallel(n_jobs=24)]: Done   2 tasks      | elapsed:    0.0s\n",
      "[Parallel(n_jobs=24)]: Done 152 tasks      | elapsed:    0.1s\n",
      "[Parallel(n_jobs=24)]: Done 300 out of 300 | elapsed:    0.1s finished\n"
     ]
    },
    {
     "name": "stdout",
     "output_type": "stream",
     "text": [
      "HP: n_estimators=300_n_jobs=-1_random_state=42_verbose=True\n",
      "Validation results: {'pearson': 0.9906447772689398, 'pearson_delta': 0.5604384280800535, 'pearson_de_delta': 0.6455086238423762, 'pearson_delta_de_no_knockout': 0.6848354536790542}\n",
      "====================\n"
     ]
    },
    {
     "name": "stderr",
     "output_type": "stream",
     "text": [
      "[Parallel(n_jobs=24)]: Using backend ThreadingBackend with 24 concurrent workers.\n",
      "[Parallel(n_jobs=24)]: Done   2 tasks      | elapsed:    0.0s\n",
      "[Parallel(n_jobs=24)]: Done 152 tasks      | elapsed:    0.2s\n",
      "[Parallel(n_jobs=24)]: Done 300 out of 300 | elapsed:    0.3s finished\n"
     ]
    },
    {
     "name": "stdout",
     "output_type": "stream",
     "text": [
      "Best n_estimator: n_estimators=300_n_jobs=-1_random_state=42_verbose=True\n",
      "Test results: {'pearson': 0.9894356578184452, 'pearson_delta': 0.4944232530926994, 'pearson_de_delta': 0.5915682980893199, 'pearson_delta_de_no_knockout': 0.6176720856016739}\n"
     ]
    }
   ],
   "source": [
    "replogle_res_rf = hp_search(\n",
    "    model_class=RandomForestRegressor,\n",
    "    hp_settings=[\n",
    "        dict(n_estimators=100, n_jobs=-1, random_state=RANDOM_STATE, verbose=True),\n",
    "        dict(n_estimators=300, n_jobs=-1, random_state=RANDOM_STATE, verbose=True),\n",
    "    ],\n",
    "    data=replogle_data,\n",
    "    pert_data=pert_data_replogle,\n",
    "    key_pattern=\"K562_%s_1+1\",\n",
    "    is_norman=False\n",
    ")"
   ]
  },
  {
   "cell_type": "code",
   "execution_count": 20,
   "metadata": {},
   "outputs": [
    {
     "name": "stdout",
     "output_type": "stream",
     "text": [
      "HP: l1_ratio=0.1\n",
      "Validation results: {'pearson': 0.9871552706187133, 'pearson_delta': 0.39707188587991965, 'pearson_de_delta': 0.4571818410988209, 'pearson_delta_de_no_knockout': 0.4833528444566708}\n",
      "====================\n",
      "HP: l1_ratio=0.5\n",
      "Validation results: {'pearson': 0.9871537928265313, 'pearson_delta': 0.39690197396711996, 'pearson_de_delta': 0.4568874164009515, 'pearson_delta_de_no_knockout': 0.48318384984767165}\n",
      "====================\n",
      "HP: l1_ratio=0.9\n",
      "Validation results: {'pearson': 0.9871537928265313, 'pearson_delta': 0.39690197396711996, 'pearson_de_delta': 0.4568874164009515, 'pearson_delta_de_no_knockout': 0.48318384984767165}\n",
      "====================\n",
      "Best n_estimator: l1_ratio=0.9\n",
      "Test results: {'pearson': 0.9873851337716419, 'pearson_delta': 0.37307289164636703, 'pearson_de_delta': 0.4362388775572301, 'pearson_delta_de_no_knockout': 0.45882309733043264}\n"
     ]
    }
   ],
   "source": [
    "replogle_res_en = hp_search(\n",
    "    model_class=ElasticNet,\n",
    "    hp_settings=[\n",
    "        dict(l1_ratio=0.1),\n",
    "        dict(l1_ratio=0.5),\n",
    "        dict(l1_ratio=0.9),\n",
    "    ],\n",
    "    data=replogle_data,\n",
    "    pert_data=pert_data_replogle,\n",
    "    key_pattern=\"K562_%s_1+1\",\n",
    "    is_norman=False\n",
    ")"
   ]
  },
  {
   "cell_type": "code",
   "execution_count": 21,
   "metadata": {},
   "outputs": [],
   "source": [
    "replogle_mean_pred = replogle_data[\"train_y\"].mean().values.reshape(1, -1)\n",
    "replogle_mean_pred = np.repeat(replogle_mean_pred, replogle_data[\"test_y\"].shape[0], axis=0)\n",
    "\n",
    "replogle_res_mean = eval(\n",
    "    pred=replogle_mean_pred,\n",
    "    data=replogle_data,\n",
    "    pert_data=pert_data_replogle,\n",
    "    is_norman=False,\n",
    "    key_pattern=\"K562_%s_1+1\",\n",
    "    test=True\n",
    ")"
   ]
  },
  {
   "cell_type": "markdown",
   "metadata": {},
   "source": [
    "## Compare scGPT, meanPredictor, RF and EN on  metrics"
   ]
  },
  {
   "cell_type": "code",
   "execution_count": null,
   "metadata": {},
   "outputs": [],
   "source": [
    "adamson_res_dir = Path(\"\")\n",
    "norman_res_dir = Path(\"./save/dev_perturb_norman-Sep24-13-29\")\n",
    "replogle_res_dir = Path(\"./save/dev_perturb_replogle-Sep24-15-06\")"
   ]
  },
  {
   "cell_type": "code",
   "execution_count": 18,
   "metadata": {},
   "outputs": [],
   "source": [
    "with open(\"./save/dev_perturb_adamson-Sep26-20-36/test_metrics.json\") as f:\n",
    "    adamson_scgpt = json.load(f)\n",
    "\n",
    "with open(\"./save/dev_perturb_norman-Sep24-13-29/test_metrics.json\") as f:\n",
    "    norman_scpt = json.load(f)\n",
    "\n",
    "with open(\"./save/dev_perturb_replogle-Sep24-15-06/test_metrics.json\") as f:\n",
    "    replogle_scgpt = json.load(f)"
   ]
  },
  {
   "cell_type": "code",
   "execution_count": 6,
   "metadata": {},
   "outputs": [],
   "source": [
    "adamson_scf = dict(\n",
    "    pearson=0.984377,\n",
    "    pearson_de=0.966661,\n",
    "    pearson_delta=0.533178,\n",
    "    \n",
    ")"
   ]
  },
  {
   "cell_type": "code",
   "execution_count": 8,
   "metadata": {},
   "outputs": [
    {
     "ename": "NameError",
     "evalue": "name 'adamson_res_mean' is not defined",
     "output_type": "error",
     "traceback": [
      "\u001b[0;31m---------------------------------------------------------------------------\u001b[0m",
      "\u001b[0;31mNameError\u001b[0m                                 Traceback (most recent call last)",
      "Cell \u001b[0;32mIn[8], line 4\u001b[0m\n\u001b[1;32m      1\u001b[0m mydf \u001b[38;5;241m=\u001b[39m pd\u001b[38;5;241m.\u001b[39mDataFrame\u001b[38;5;241m.\u001b[39mfrom_dict(\u001b[38;5;28mdict\u001b[39m(\n\u001b[1;32m      2\u001b[0m     scgpt\u001b[38;5;241m=\u001b[39madamson_scgpt,\n\u001b[1;32m      3\u001b[0m     scfoundation\u001b[38;5;241m=\u001b[39madamson_scf,\n\u001b[0;32m----> 4\u001b[0m     mean\u001b[38;5;241m=\u001b[39m\u001b[43madamson_res_mean\u001b[49m,\n\u001b[1;32m      5\u001b[0m     rf\u001b[38;5;241m=\u001b[39madamson_res_rf,\n\u001b[1;32m      6\u001b[0m     en\u001b[38;5;241m=\u001b[39madamson_res_en,), orient\u001b[38;5;241m=\u001b[39m\u001b[38;5;124m'\u001b[39m\u001b[38;5;124mindex\u001b[39m\u001b[38;5;124m'\u001b[39m)\n",
      "\u001b[0;31mNameError\u001b[0m: name 'adamson_res_mean' is not defined"
     ]
    }
   ],
   "source": [
    "mydf = pd.DataFrame.from_dict(dict(\n",
    "    scgpt=adamson_scgpt,\n",
    "    scfoundation=adamson_scf,\n",
    "    mean=adamson_res_mean,\n",
    "    rf=adamson_res_rf,\n",
    "    en=adamson_res_en,), orient='index')"
   ]
  },
  {
   "cell_type": "code",
   "execution_count": 19,
   "metadata": {},
   "outputs": [],
   "source": [
    "# load adamson results\n",
    "with open(\"./save/adamson/RF/go/test_metrics.json\") as f:\n",
    "    adamson_res_rf = json.load(f)\n",
    "\n",
    "with open(\"./save/adamson/RF/elmo/test_metrics.json\") as f:\n",
    "    adamson_res_rf_elmo = json.load(f)\n",
    "\n",
    "with open(\"./save/adamson/EN/go/test_metrics.json\") as f:\n",
    "    adamson_res_en = json.load(f)\n",
    "\n",
    "with open(\"./save/adamson/EN/elmo/test_metrics.json\") as f:\n",
    "    adamson_res_en_elmo = json.load(f)\n",
    "\n",
    "with open(\"./save/adamson/mean/go/test_metrics.json\") as f:\n",
    "    adamson_res_mean = json.load(f)\n",
    "\n",
    "with open(\"./save/adamson/mean/elmo/test_metrics.json\") as f:\n",
    "    adamson_res_mean_elmo = json.load(f)"
   ]
  },
  {
   "cell_type": "code",
   "execution_count": null,
   "metadata": {},
   "outputs": [
    {
     "data": {
      "image/png": "[encoded data removed]",
      "text/plain": [
       "<Figure size 500x500 with 1 Axes>"
      ]
     },
     "metadata": {},
     "output_type": "display_data"
    }
   ],
   "source": [
    "df = pd.DataFrame.from_dict(dict(\n",
    "    scgpt=adamson_scgpt,\n",
    "    mean=adamson_res_mean,\n",
    "    rf=adamson_res_rf,\n",
    "    en=adamson_res_en,\n",
    "), orient='index')\n",
    "df = df.reset_index().rename(columns={\"index\": \"model\"})\n",
    "\n",
    "plot_results(df)"
   ]
  },
  {
   "cell_type": "code",
   "execution_count": 22,
   "metadata": {},
   "outputs": [
    {
     "data": {
      "text/plain": [
       "<Axes: xlabel='model', ylabel='pearson_delta'>"
      ]
     },
     "execution_count": 22,
     "metadata": {},
     "output_type": "execute_result"
    },
    {
     "data": {
      "image/png": "[encoded data removed]",
      "text/plain": [
       "<Figure size 640x480 with 1 Axes>"
      ]
     },
     "metadata": {},
     "output_type": "display_data"
    }
   ],
   "source": [
    "df = pd.DataFrame.from_dict(dict(\n",
    "    rf=adamson_res_rf,\n",
    "    rf_elmo=adamson_res_rf_elmo,\n",
    "), orient='index')\n",
    "df = df.reset_index().rename(columns={\"index\": \"model\"})\n",
    "\n",
    "sns.barplot(x='model', y='pearson_delta', data=df)"
   ]
  },
  {
   "cell_type": "code",
   "execution_count": null,
   "metadata": {},
   "outputs": [],
   "source": [
    "df = pd.DataFrame.from_dict(dict(\n",
    "    scgpt=adamson_scgpt,\n",
    "    mean=adamson_res_mean,\n",
    "    rf=adamson_res_rf,\n",
    "    en=adamson_res_en,\n",
    "), orient='index')\n",
    "df = df.reset_index().rename(columns={\"index\": \"model\"})\n",
    "\n",
    "plot_results(df)"
   ]
  },
  {
   "cell_type": "code",
   "execution_count": 27,
   "metadata": {},
   "outputs": [
    {
     "data": {
      "image/png": "[encoded data removed]",
      "text/plain": [
       "<Figure size 500x500 with 1 Axes>"
      ]
     },
     "metadata": {},
     "output_type": "display_data"
    }
   ],
   "source": [
    "df = pd.DataFrame.from_dict(dict(\n",
    "    scgpt=adamson_scgpt,\n",
    "    mean=adamson_res_mean,\n",
    "    rf=adamson_res_rf,\n",
    "    en=adamson_res_en,\n",
    "), orient='index')\n",
    "df = df.reset_index().rename(columns={\"index\": \"model\"})\n",
    "\n",
    "plot_results(df)"
   ]
  },
  {
   "cell_type": "code",
   "execution_count": null,
   "metadata": {},
   "outputs": [],
   "source": [
    "adamson_res_rf"
   ]
  },
  {
   "cell_type": "code",
   "execution_count": 15,
   "metadata": {},
   "outputs": [],
   "source": [
    "df = pd.DataFrame.from_dict(dict(\n",
    "    scgpt=norman_scpt,\n",
    "    mean=norman_res_mean,\n",
    "    rf=norman_res_rf,\n",
    "    en=norman_res_en,\n",
    "), orient='index')\n",
    "df = df.reset_index().rename(columns={\"index\": \"model\"})"
   ]
  },
  {
   "cell_type": "code",
   "execution_count": 16,
   "metadata": {},
   "outputs": [
    {
     "data": {
      "image/png": "[encoded data removed]",
      "text/plain": [
       "<Figure size 500x500 with 1 Axes>"
      ]
     },
     "metadata": {},
     "output_type": "display_data"
    }
   ],
   "source": [
    "plot_results(df)"
   ]
  },
  {
   "cell_type": "code",
   "execution_count": 30,
   "metadata": {},
   "outputs": [],
   "source": [
    "df = pd.DataFrame.from_dict(dict(\n",
    "    scgpt=replogle_scgpt,\n",
    "    mean=replogle_res_mean,\n",
    "    rf=replogle_res_rf,\n",
    "    en=replogle_res_en,\n",
    "), orient='index')\n",
    "df = df.reset_index().rename(columns={\"index\": \"model\"})\n"
   ]
  },
  {
   "cell_type": "code",
   "execution_count": 31,
   "metadata": {},
   "outputs": [
    {
     "data": {
      "image/png": "[encoded data removed]",
      "text/plain": [
       "<Figure size 500x500 with 1 Axes>"
      ]
     },
     "metadata": {},
     "output_type": "display_data"
    }
   ],
   "source": [
    "plot_results(df)"
   ]
  },
  {
   "cell_type": "code",
   "execution_count": 9,
   "metadata": {},
   "outputs": [
    {
     "data": {
      "image/png": "[encoded data removed]",
      "text/plain": [
       "<Figure size 1000x1000 with 4 Axes>"
      ]
     },
     "metadata": {},
     "output_type": "display_data"
    }
   ],
   "source": [
    "import seaborn as sns\n",
    "import matplotlib.pyplot as plt\n",
    "import numpy as np\n",
    "import pandas as pd\n",
    "\n",
    "# Example: Generate synthetic correlation data\n",
    "np.random.seed(0)\n",
    "data = np.random.rand(50, 50)  # Replace with your actual correlation matrix\n",
    "df = pd.DataFrame(data, columns=[f\"Gene_{i}\" for i in range(50)], index=[f\"Gene_{i}\" for i in range(50)])\n",
    "\n",
    "# Clustered heatmap\n",
    "g = sns.clustermap(df, cmap=\"coolwarm\", center=0, linewidths=0.5, figsize=(10, 10),\n",
    "                   xticklabels=True, yticklabels=True, cbar_kws={'label': 'Correlation'})\n",
    "\n",
    "plt.title(\"Clustered DE Correlation Heatmap\")\n",
    "plt.show()\n"
   ]
  },
  {
   "cell_type": "code",
   "execution_count": null,
   "metadata": {},
   "outputs": [],
   "source": []
  },
  {
   "cell_type": "code",
   "execution_count": null,
   "metadata": {},
   "outputs": [],
   "source": []
  }
 ],
 "metadata": {
  "kernelspec": {
   "display_name": "scgpt_yml",
   "language": "python",
   "name": "scgpt_yml"
  },
  "language_info": {
   "codemirror_mode": {
    "name": "ipython",
    "version": 3
   },
   "file_extension": ".py",
   "mimetype": "text/x-python",
   "name": "python",
   "nbconvert_exporter": "python",
   "pygments_lexer": "ipython3",
   "version": "3.10.11"
  }
 },
 "nbformat": 4,
 "nbformat_minor": 2
}
