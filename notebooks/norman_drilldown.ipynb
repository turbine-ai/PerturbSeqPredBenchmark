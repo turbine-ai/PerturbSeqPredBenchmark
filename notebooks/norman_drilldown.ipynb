{
 "cells": [
  {
   "cell_type": "code",
   "execution_count": 1,
   "metadata": {},
   "outputs": [
    {
     "name": "stderr",
     "output_type": "stream",
     "text": [
      "/home/users/geroldcsendes/miniconda3/envs/scgpt_yml/lib/python3.10/site-packages/tqdm/auto.py:21: TqdmWarning: IProgress not found. Please update jupyter and ipywidgets. See https://ipywidgets.readthedocs.io/en/stable/user_install.html\n",
      "  from .autonotebook import tqdm as notebook_tqdm\n"
     ]
    }
   ],
   "source": [
    "import json\n",
    "from pathlib import Path\n",
    "import sys\n",
    "\n",
    "import numpy as np\n",
    "import pandas as pd\n",
    "import seaborn as sns\n",
    "import matplotlib.pyplot as plt\n",
    "from scipy.stats import pearsonr\n",
    "\n",
    "from gears import PertData, GEARS\n",
    "from gears.inference import compute_metrics, deeper_analysis, non_dropout_analysis\n",
    "\n",
    "sys.path.insert(0, \"../\")\n",
    "from scgpt.utils import set_seed, map_raw_id_to_vocab_id, compute_perturbation_metrics"
   ]
  },
  {
   "cell_type": "code",
   "execution_count": 17,
   "metadata": {},
   "outputs": [
    {
     "data": {
      "image/png": "[encoded data removed]",
      "text/plain": [
       "<Figure size 500x100 with 1 Axes>"
      ]
     },
     "metadata": {},
     "output_type": "display_data"
    }
   ],
   "source": [
    "sns.set_style(\"whitegrid\")\n",
    "colors = ['#FF6666', '#33C7CC', '#0F0A26', '#425266', '#F7F5FF']\n",
    "sns.set_palette(sns.color_palette(colors))\n",
    "sns.palplot(sns.color_palette(colors))"
   ]
  },
  {
   "cell_type": "code",
   "execution_count": 2,
   "metadata": {},
   "outputs": [],
   "source": [
    "def get_subgroup_metrcs(_preds, _pert_data):\n",
    "\n",
    "    pert_cat = _preds[\"pert_cat\"]\n",
    "    true = _preds[\"truth\"]\n",
    "    pred = _preds[\"pred\"]\n",
    "\n",
    "    ctrl_adata = _pert_data.adata[_pert_data.adata.obs[\"condition\"] == \"ctrl\"]\n",
    "    mean_ctrl = np.array(ctrl_adata.X.mean(0)).flatten() \n",
    "\n",
    "    pert_res = {}\n",
    "\n",
    "    for _pert, _true, _pred in zip(pert_cat, true, pred):\n",
    "        myr = pearsonr(_true - mean_ctrl, _pred - mean_ctrl)[0]\n",
    "\n",
    "        pert_res[_pert] = myr\n",
    "\n",
    "    test_subgroup = _pert_data.subgroup[\"test_subgroup\"]\n",
    "    subgroup_analysis = {}\n",
    "    for name in test_subgroup.keys():\n",
    "        subgroup_analysis[name] = []\n",
    "\n",
    "    from collections import defaultdict\n",
    "    category_cnt = defaultdict(int)\n",
    "\n",
    "    for k, v in pert_res.items():\n",
    "        for category, cat_pert in test_subgroup.items():\n",
    "            if k in cat_pert:\n",
    "                subgroup_analysis[category].append(v)\n",
    "                category_cnt[category] += 1\n",
    "\n",
    "    print(category_cnt)\n",
    "\n",
    "    for k, v in subgroup_analysis.items():\n",
    "        subgroup_analysis[k] = np.mean(v)\n",
    "    \n",
    "    return subgroup_analysis"
   ]
  },
  {
   "cell_type": "code",
   "execution_count": 3,
   "metadata": {},
   "outputs": [
    {
     "name": "stderr",
     "output_type": "stream",
     "text": [
      "Found local copy...\n"
     ]
    },
    {
     "name": "stderr",
     "output_type": "stream",
     "text": [
      "Local copy of pyg dataset is detected. Loading...\n",
      "Done!\n",
      "Local copy of split is detected. Loading...\n",
      "Simulation split test composition:\n",
      "combo_seen0:9\n",
      "combo_seen1:52\n",
      "combo_seen2:18\n",
      "unseen_single:37\n",
      "Done!\n"
     ]
    }
   ],
   "source": [
    "pert_data = PertData(\"./data\")\n",
    "pert_data.load(data_name=\"norman\")\n",
    "pert_data.prepare_split(split=\"simulation\", seed=1)"
   ]
  },
  {
   "cell_type": "code",
   "execution_count": null,
   "metadata": {},
   "outputs": [],
   "source": [
    "test_preds_scgpt = np.load(\"./save/dev_perturb_norman-Sep24-13-29/test_res_best_model.npz\")\n",
    "test_preds_scgpt = {k: v for k, v in test_preds_scgpt.items()}\n",
    "\n",
    "test_preds_scfound = np.load(\"../scFoundation/GEARS/results/norman/0.75/baseline_simulation_seed_1_hidden_512_epochs_10_batch_32_accmu_1_mode_v1_highres_0_lr_0.01/2025-02-12_00-47-27/test_res_best_model.npz\")\n",
    "\n",
    "# bulk models\n",
    "bulk_model_base_dir = Path(\"./save/norman\")\n",
    "\n",
    "test_pred_mean = np.load(bulk_model_base_dir / \"mean/test_res_best_model.npz\", allow_pickle=True)\n",
    "\n",
    "test_preds_rf_go = np.load(bulk_model_base_dir / \"RF/go/test_res_best_model.npz\", allow_pickle=True)\n",
    "test_preds_rf_go = {k: v for k, v in test_preds_rf_go.items()}\n",
    "\n",
    "test_preds_rf_elmo = np.load(bulk_model_base_dir / \"RF/elmo/test_res_best_model.npz\", allow_pickle=True)\n",
    "test_preds_rf_elmo = {k: v for k, v in test_preds_rf_elmo.items()}\n",
    "\n",
    "test_preds_rf_found = np.load(bulk_model_base_dir / \"RF/foundation/test_res_best_model.npz\", allow_pickle=True)\n",
    "test_preds_rf_found = {k: v for k, v in test_preds_rf_found.items()}\n",
    "\n",
    "test_preds_rf_gpt = np.load(bulk_model_base_dir / \"RF/gpt/test_res_best_model.npz\", allow_pickle=True)\n",
    "test_preds_rf_gpt = {k: v for k, v in test_preds_rf_gpt.items()}"
   ]
  },
  {
   "cell_type": "code",
   "execution_count": 7,
   "metadata": {},
   "outputs": [
    {
     "name": "stdout",
     "output_type": "stream",
     "text": [
      "defaultdict(<class 'int'>, {'combo_seen2': 18, 'unseen_single': 37, 'combo_seen1': 52, 'combo_seen0': 9})\n",
      "defaultdict(<class 'int'>, {'combo_seen2': 9, 'unseen_single': 23, 'combo_seen1': 37, 'combo_seen0': 8})\n",
      "defaultdict(<class 'int'>, {'combo_seen2': 18, 'combo_seen1': 52, 'unseen_single': 37, 'combo_seen0': 9})\n",
      "defaultdict(<class 'int'>, {'combo_seen2': 18, 'combo_seen1': 52, 'unseen_single': 37, 'combo_seen0': 9})\n",
      "defaultdict(<class 'int'>, {'combo_seen2': 18, 'combo_seen1': 52, 'unseen_single': 37, 'combo_seen0': 9})\n",
      "defaultdict(<class 'int'>, {'combo_seen2': 18, 'combo_seen1': 52, 'unseen_single': 37, 'combo_seen0': 9})\n",
      "defaultdict(<class 'int'>, {'combo_seen2': 18, 'combo_seen1': 52, 'unseen_single': 37, 'combo_seen0': 9})\n"
     ]
    }
   ],
   "source": [
    "scgpt_metrics = get_subgroup_metrcs(test_preds_scgpt, pert_data)\n",
    "scfound_metrics = get_subgroup_metrcs(test_preds_scfound, pert_data)\n",
    "\n",
    "# bulk model\n",
    "mean_metrics = get_subgroup_metrcs(test_pred_mean, pert_data)\n",
    "rf_go_metrics = get_subgroup_metrcs(test_preds_rf_go, pert_data)\n",
    "rf_elmo_metrics = get_subgroup_metrcs(test_preds_rf_elmo, pert_data)\n",
    "rf_found_metrics = get_subgroup_metrcs(test_preds_rf_found, pert_data)\n",
    "rf_gpt_metrics = get_subgroup_metrcs(test_preds_rf_gpt, pert_data)"
   ]
  },
  {
   "cell_type": "code",
   "execution_count": 11,
   "metadata": {},
   "outputs": [],
   "source": [
    "res_df = pd.DataFrame(\n",
    "    [\n",
    "        scgpt_metrics,\n",
    "        scfound_metrics,\n",
    "        mean_metrics,\n",
    "        rf_go_metrics,\n",
    "        rf_elmo_metrics,\n",
    "        rf_found_metrics,\n",
    "        rf_gpt_metrics,\n",
    "    ],\n",
    "    index=[\n",
    "        \"scGPT\",\n",
    "        \"scFoundation\",\n",
    "        \"mean\",\n",
    "        \"RF_go\",\n",
    "        \"RF_scElmo\",\n",
    "        \"RF_scFound\",\n",
    "        \"RF_scGPT\"])"
   ]
  },
  {
   "cell_type": "code",
   "execution_count": 15,
   "metadata": {},
   "outputs": [],
   "source": [
    "# res_df to long format\n",
    "myout = res_df.stack().reset_index().rename(columns={\"level_0\": \"model\", \"level_1\": \"subgroup\", 0: \"pearson_delta\"})"
   ]
  },
  {
   "cell_type": "code",
   "execution_count": 23,
   "metadata": {},
   "outputs": [],
   "source": [
    "hue_colors = {\n",
    "    \"combo_seen0\": \"#FF6666\",\n",
    "    \"combo_seen1\": \"#0F0A26\",\n",
    "    \"combo_seen2\": \"#425266\",\n",
    "    \"unseen_single\": \"#33C7CC\"\n",
    "}"
   ]
  },
  {
   "cell_type": "code",
   "execution_count": null,
   "metadata": {},
   "outputs": [
    {
     "data": {
      "text/plain": [
       "Text(0.5, 1.0, 'Norman')"
      ]
     },
     "execution_count": 26,
     "metadata": {},
     "output_type": "execute_result"
    },
    {
     "data": {
      "image/png": "[encoded data removed]",
      "text/plain": [
       "<Figure size 640x480 with 1 Axes>"
      ]
     },
     "metadata": {},
     "output_type": "display_data"
    }
   ],
   "source": [
    "first_models = [\"scGPT\", \"scFoundation\", \"mean\", \"RF_go\"]\n",
    "second_models = [\"RF_go\", \"RF_scElmo\", \"RF_scFoundation\", \"RF_scGPT\"]\n",
    "\n",
    "myfirst = myout[myout[\"model\"].isin(first_models)]\n",
    "mysecond = myout[myout[\"model\"].isin(second_models)]\n",
    "\n",
    "sns.barplot(data=myfirst, x=\"model\", y=\"pearson_delta\", hue=\"subgroup\", order=first_models, palette=hue_colors)\n",
    "\n",
    "# set legend outside of the plot\n",
    "plt.legend(bbox_to_anchor=(1.05, 1), loc=2, borderaxespad=0.)\n",
    "plt.title(\"Norman\")"
   ]
  },
  {
   "cell_type": "code",
   "execution_count": null,
   "metadata": {},
   "outputs": [],
   "source": []
  },
  {
   "cell_type": "code",
   "execution_count": 30,
   "metadata": {},
   "outputs": [
    {
     "data": {
      "image/png": "[encoded data removed]",
      "text/plain": [
       "<Figure size 1500x1000 with 4 Axes>"
      ]
     },
     "metadata": {},
     "output_type": "display_data"
    }
   ],
   "source": [
    "fig, axs = plt.subplots(2, 2, figsize=(15, 10))\n",
    "\n",
    "flattened_axs = axs.flatten()\n",
    "\n",
    "for idx, col in enumerate(res_df.columns):\n",
    "    ax = flattened_axs[idx]\n",
    "    sns.barplot(x=res_df.index, y=res_df[col], ax=ax)\n",
    "    ax.set_title(f\"Pearson delta {col}\")"
   ]
  },
  {
   "cell_type": "code",
   "execution_count": null,
   "metadata": {},
   "outputs": [],
   "source": []
  },
  {
   "cell_type": "code",
   "execution_count": 55,
   "metadata": {},
   "outputs": [],
   "source": [
    "import pandas as pd\n",
    "df = pd.read_csv(\"./save/norman/RF/go/predictions.csv\")"
   ]
  },
  {
   "cell_type": "code",
   "execution_count": 56,
   "metadata": {},
   "outputs": [
    {
     "data": {
      "text/html": [
       "<div>\n",
       "<style scoped>\n",
       "    .dataframe tbody tr th:only-of-type {\n",
       "        vertical-align: middle;\n",
       "    }\n",
       "\n",
       "    .dataframe tbody tr th {\n",
       "        vertical-align: top;\n",
       "    }\n",
       "\n",
       "    .dataframe thead th {\n",
       "        text-align: right;\n",
       "    }\n",
       "</style>\n",
       "<table border=\"1\" class=\"dataframe\">\n",
       "  <thead>\n",
       "    <tr style=\"text-align: right;\">\n",
       "      <th></th>\n",
       "      <th>condition</th>\n",
       "      <th>ENSG00000239945</th>\n",
       "      <th>ENSG00000223764</th>\n",
       "      <th>ENSG00000187634</th>\n",
       "      <th>ENSG00000187642</th>\n",
       "      <th>ENSG00000188290</th>\n",
       "      <th>ENSG00000187608</th>\n",
       "      <th>ENSG00000273443</th>\n",
       "      <th>ENSG00000237330</th>\n",
       "      <th>ENSG00000223823</th>\n",
       "      <th>...</th>\n",
       "      <th>ENSG00000198899</th>\n",
       "      <th>ENSG00000198938</th>\n",
       "      <th>ENSG00000198840</th>\n",
       "      <th>ENSG00000212907</th>\n",
       "      <th>ENSG00000198886</th>\n",
       "      <th>ENSG00000198786</th>\n",
       "      <th>ENSG00000198695</th>\n",
       "      <th>ENSG00000198727</th>\n",
       "      <th>ENSG00000273554</th>\n",
       "      <th>ENSG00000278633</th>\n",
       "    </tr>\n",
       "  </thead>\n",
       "  <tbody>\n",
       "    <tr>\n",
       "      <th>0</th>\n",
       "      <td>CEBPE+RUNX1T1</td>\n",
       "      <td>0.000075</td>\n",
       "      <td>0.008868</td>\n",
       "      <td>0.018128</td>\n",
       "      <td>0.000358</td>\n",
       "      <td>0.178323</td>\n",
       "      <td>0.320542</td>\n",
       "      <td>0.000016</td>\n",
       "      <td>0.007699</td>\n",
       "      <td>0.000000</td>\n",
       "      <td>...</td>\n",
       "      <td>4.115071</td>\n",
       "      <td>5.201456</td>\n",
       "      <td>3.588993</td>\n",
       "      <td>1.170180</td>\n",
       "      <td>4.525203</td>\n",
       "      <td>2.120916</td>\n",
       "      <td>1.352351</td>\n",
       "      <td>3.752850</td>\n",
       "      <td>0.000900</td>\n",
       "      <td>0.000017</td>\n",
       "    </tr>\n",
       "    <tr>\n",
       "      <th>1</th>\n",
       "      <td>CBL+PTPN9</td>\n",
       "      <td>0.000205</td>\n",
       "      <td>0.005376</td>\n",
       "      <td>0.015700</td>\n",
       "      <td>0.000689</td>\n",
       "      <td>0.160961</td>\n",
       "      <td>0.331846</td>\n",
       "      <td>0.000104</td>\n",
       "      <td>0.002771</td>\n",
       "      <td>0.000000</td>\n",
       "      <td>...</td>\n",
       "      <td>4.045303</td>\n",
       "      <td>5.135014</td>\n",
       "      <td>3.562104</td>\n",
       "      <td>1.090122</td>\n",
       "      <td>4.453604</td>\n",
       "      <td>2.053278</td>\n",
       "      <td>1.292294</td>\n",
       "      <td>3.710027</td>\n",
       "      <td>0.001157</td>\n",
       "      <td>0.000122</td>\n",
       "    </tr>\n",
       "    <tr>\n",
       "      <th>2</th>\n",
       "      <td>DUSP9+ctrl</td>\n",
       "      <td>0.000114</td>\n",
       "      <td>0.004205</td>\n",
       "      <td>0.012144</td>\n",
       "      <td>0.000255</td>\n",
       "      <td>0.202756</td>\n",
       "      <td>0.317101</td>\n",
       "      <td>0.000017</td>\n",
       "      <td>0.009495</td>\n",
       "      <td>0.000017</td>\n",
       "      <td>...</td>\n",
       "      <td>4.077724</td>\n",
       "      <td>5.163596</td>\n",
       "      <td>3.536564</td>\n",
       "      <td>1.182437</td>\n",
       "      <td>4.502628</td>\n",
       "      <td>2.119585</td>\n",
       "      <td>1.465095</td>\n",
       "      <td>3.717099</td>\n",
       "      <td>0.001355</td>\n",
       "      <td>0.000070</td>\n",
       "    </tr>\n",
       "    <tr>\n",
       "      <th>3</th>\n",
       "      <td>MAP2K6+SPI1</td>\n",
       "      <td>0.000127</td>\n",
       "      <td>0.003790</td>\n",
       "      <td>0.011648</td>\n",
       "      <td>0.000564</td>\n",
       "      <td>0.183577</td>\n",
       "      <td>0.330398</td>\n",
       "      <td>0.000047</td>\n",
       "      <td>0.002229</td>\n",
       "      <td>0.000017</td>\n",
       "      <td>...</td>\n",
       "      <td>3.987768</td>\n",
       "      <td>5.073945</td>\n",
       "      <td>3.505652</td>\n",
       "      <td>1.043616</td>\n",
       "      <td>4.386294</td>\n",
       "      <td>1.994351</td>\n",
       "      <td>1.291349</td>\n",
       "      <td>3.658145</td>\n",
       "      <td>0.001056</td>\n",
       "      <td>0.000000</td>\n",
       "    </tr>\n",
       "    <tr>\n",
       "      <th>4</th>\n",
       "      <td>UBASH3B+PTPN12</td>\n",
       "      <td>0.000181</td>\n",
       "      <td>0.002954</td>\n",
       "      <td>0.009751</td>\n",
       "      <td>0.000132</td>\n",
       "      <td>0.212981</td>\n",
       "      <td>0.313198</td>\n",
       "      <td>0.000000</td>\n",
       "      <td>0.013623</td>\n",
       "      <td>0.000000</td>\n",
       "      <td>...</td>\n",
       "      <td>4.053455</td>\n",
       "      <td>5.162208</td>\n",
       "      <td>3.532491</td>\n",
       "      <td>1.138649</td>\n",
       "      <td>4.471172</td>\n",
       "      <td>2.114337</td>\n",
       "      <td>1.418602</td>\n",
       "      <td>3.713042</td>\n",
       "      <td>0.001065</td>\n",
       "      <td>0.000017</td>\n",
       "    </tr>\n",
       "    <tr>\n",
       "      <th>...</th>\n",
       "      <td>...</td>\n",
       "      <td>...</td>\n",
       "      <td>...</td>\n",
       "      <td>...</td>\n",
       "      <td>...</td>\n",
       "      <td>...</td>\n",
       "      <td>...</td>\n",
       "      <td>...</td>\n",
       "      <td>...</td>\n",
       "      <td>...</td>\n",
       "      <td>...</td>\n",
       "      <td>...</td>\n",
       "      <td>...</td>\n",
       "      <td>...</td>\n",
       "      <td>...</td>\n",
       "      <td>...</td>\n",
       "      <td>...</td>\n",
       "      <td>...</td>\n",
       "      <td>...</td>\n",
       "      <td>...</td>\n",
       "      <td>...</td>\n",
       "    </tr>\n",
       "    <tr>\n",
       "      <th>111</th>\n",
       "      <td>CBL+UBASH3A</td>\n",
       "      <td>0.000172</td>\n",
       "      <td>0.004605</td>\n",
       "      <td>0.013641</td>\n",
       "      <td>0.000598</td>\n",
       "      <td>0.149488</td>\n",
       "      <td>0.328507</td>\n",
       "      <td>0.000092</td>\n",
       "      <td>0.002706</td>\n",
       "      <td>0.000000</td>\n",
       "      <td>...</td>\n",
       "      <td>4.016509</td>\n",
       "      <td>5.104601</td>\n",
       "      <td>3.553210</td>\n",
       "      <td>1.060738</td>\n",
       "      <td>4.426282</td>\n",
       "      <td>2.019878</td>\n",
       "      <td>1.239557</td>\n",
       "      <td>3.706777</td>\n",
       "      <td>0.001283</td>\n",
       "      <td>0.000070</td>\n",
       "    </tr>\n",
       "    <tr>\n",
       "      <th>112</th>\n",
       "      <td>CDKN1C+ctrl</td>\n",
       "      <td>0.000098</td>\n",
       "      <td>0.004409</td>\n",
       "      <td>0.013290</td>\n",
       "      <td>0.000479</td>\n",
       "      <td>0.207653</td>\n",
       "      <td>0.321275</td>\n",
       "      <td>0.000032</td>\n",
       "      <td>0.014395</td>\n",
       "      <td>0.000017</td>\n",
       "      <td>...</td>\n",
       "      <td>4.046443</td>\n",
       "      <td>5.142325</td>\n",
       "      <td>3.519057</td>\n",
       "      <td>1.120868</td>\n",
       "      <td>4.464744</td>\n",
       "      <td>2.081813</td>\n",
       "      <td>1.358539</td>\n",
       "      <td>3.691871</td>\n",
       "      <td>0.001168</td>\n",
       "      <td>0.000017</td>\n",
       "    </tr>\n",
       "    <tr>\n",
       "      <th>113</th>\n",
       "      <td>ctrl+CDKN1B</td>\n",
       "      <td>0.000081</td>\n",
       "      <td>0.004554</td>\n",
       "      <td>0.012820</td>\n",
       "      <td>0.000410</td>\n",
       "      <td>0.182344</td>\n",
       "      <td>0.321788</td>\n",
       "      <td>0.000067</td>\n",
       "      <td>0.012564</td>\n",
       "      <td>0.000000</td>\n",
       "      <td>...</td>\n",
       "      <td>4.017861</td>\n",
       "      <td>5.101797</td>\n",
       "      <td>3.513058</td>\n",
       "      <td>1.089310</td>\n",
       "      <td>4.425679</td>\n",
       "      <td>2.034107</td>\n",
       "      <td>1.300444</td>\n",
       "      <td>3.668999</td>\n",
       "      <td>0.000977</td>\n",
       "      <td>0.000035</td>\n",
       "    </tr>\n",
       "    <tr>\n",
       "      <th>114</th>\n",
       "      <td>CDKN1B+CDKN1A</td>\n",
       "      <td>0.000085</td>\n",
       "      <td>0.005955</td>\n",
       "      <td>0.016032</td>\n",
       "      <td>0.000337</td>\n",
       "      <td>0.180804</td>\n",
       "      <td>0.320883</td>\n",
       "      <td>0.000085</td>\n",
       "      <td>0.008195</td>\n",
       "      <td>0.000050</td>\n",
       "      <td>...</td>\n",
       "      <td>4.010535</td>\n",
       "      <td>5.109020</td>\n",
       "      <td>3.505219</td>\n",
       "      <td>1.070176</td>\n",
       "      <td>4.407324</td>\n",
       "      <td>2.029180</td>\n",
       "      <td>1.294777</td>\n",
       "      <td>3.656933</td>\n",
       "      <td>0.000848</td>\n",
       "      <td>0.000140</td>\n",
       "    </tr>\n",
       "    <tr>\n",
       "      <th>115</th>\n",
       "      <td>C3orf72+FOXL2</td>\n",
       "      <td>0.000271</td>\n",
       "      <td>0.004781</td>\n",
       "      <td>0.014023</td>\n",
       "      <td>0.000316</td>\n",
       "      <td>0.198267</td>\n",
       "      <td>0.335317</td>\n",
       "      <td>0.000029</td>\n",
       "      <td>0.006647</td>\n",
       "      <td>0.000033</td>\n",
       "      <td>...</td>\n",
       "      <td>4.069879</td>\n",
       "      <td>5.160214</td>\n",
       "      <td>3.540647</td>\n",
       "      <td>1.152445</td>\n",
       "      <td>4.489289</td>\n",
       "      <td>2.101521</td>\n",
       "      <td>1.388065</td>\n",
       "      <td>3.705444</td>\n",
       "      <td>0.001053</td>\n",
       "      <td>0.000140</td>\n",
       "    </tr>\n",
       "  </tbody>\n",
       "</table>\n",
       "<p>116 rows × 5046 columns</p>\n",
       "</div>"
      ],
      "text/plain": [
       "          condition  ENSG00000239945  ENSG00000223764  ENSG00000187634  \\\n",
       "0     CEBPE+RUNX1T1         0.000075         0.008868         0.018128   \n",
       "1         CBL+PTPN9         0.000205         0.005376         0.015700   \n",
       "2        DUSP9+ctrl         0.000114         0.004205         0.012144   \n",
       "3       MAP2K6+SPI1         0.000127         0.003790         0.011648   \n",
       "4    UBASH3B+PTPN12         0.000181         0.002954         0.009751   \n",
       "..              ...              ...              ...              ...   \n",
       "111     CBL+UBASH3A         0.000172         0.004605         0.013641   \n",
       "112     CDKN1C+ctrl         0.000098         0.004409         0.013290   \n",
       "113     ctrl+CDKN1B         0.000081         0.004554         0.012820   \n",
       "114   CDKN1B+CDKN1A         0.000085         0.005955         0.016032   \n",
       "115   C3orf72+FOXL2         0.000271         0.004781         0.014023   \n",
       "\n",
       "     ENSG00000187642  ENSG00000188290  ENSG00000187608  ENSG00000273443  \\\n",
       "0           0.000358         0.178323         0.320542         0.000016   \n",
       "1           0.000689         0.160961         0.331846         0.000104   \n",
       "2           0.000255         0.202756         0.317101         0.000017   \n",
       "3           0.000564         0.183577         0.330398         0.000047   \n",
       "4           0.000132         0.212981         0.313198         0.000000   \n",
       "..               ...              ...              ...              ...   \n",
       "111         0.000598         0.149488         0.328507         0.000092   \n",
       "112         0.000479         0.207653         0.321275         0.000032   \n",
       "113         0.000410         0.182344         0.321788         0.000067   \n",
       "114         0.000337         0.180804         0.320883         0.000085   \n",
       "115         0.000316         0.198267         0.335317         0.000029   \n",
       "\n",
       "     ENSG00000237330  ENSG00000223823  ...  ENSG00000198899  ENSG00000198938  \\\n",
       "0           0.007699         0.000000  ...         4.115071         5.201456   \n",
       "1           0.002771         0.000000  ...         4.045303         5.135014   \n",
       "2           0.009495         0.000017  ...         4.077724         5.163596   \n",
       "3           0.002229         0.000017  ...         3.987768         5.073945   \n",
       "4           0.013623         0.000000  ...         4.053455         5.162208   \n",
       "..               ...              ...  ...              ...              ...   \n",
       "111         0.002706         0.000000  ...         4.016509         5.104601   \n",
       "112         0.014395         0.000017  ...         4.046443         5.142325   \n",
       "113         0.012564         0.000000  ...         4.017861         5.101797   \n",
       "114         0.008195         0.000050  ...         4.010535         5.109020   \n",
       "115         0.006647         0.000033  ...         4.069879         5.160214   \n",
       "\n",
       "     ENSG00000198840  ENSG00000212907  ENSG00000198886  ENSG00000198786  \\\n",
       "0           3.588993         1.170180         4.525203         2.120916   \n",
       "1           3.562104         1.090122         4.453604         2.053278   \n",
       "2           3.536564         1.182437         4.502628         2.119585   \n",
       "3           3.505652         1.043616         4.386294         1.994351   \n",
       "4           3.532491         1.138649         4.471172         2.114337   \n",
       "..               ...              ...              ...              ...   \n",
       "111         3.553210         1.060738         4.426282         2.019878   \n",
       "112         3.519057         1.120868         4.464744         2.081813   \n",
       "113         3.513058         1.089310         4.425679         2.034107   \n",
       "114         3.505219         1.070176         4.407324         2.029180   \n",
       "115         3.540647         1.152445         4.489289         2.101521   \n",
       "\n",
       "     ENSG00000198695  ENSG00000198727  ENSG00000273554  ENSG00000278633  \n",
       "0           1.352351         3.752850         0.000900         0.000017  \n",
       "1           1.292294         3.710027         0.001157         0.000122  \n",
       "2           1.465095         3.717099         0.001355         0.000070  \n",
       "3           1.291349         3.658145         0.001056         0.000000  \n",
       "4           1.418602         3.713042         0.001065         0.000017  \n",
       "..               ...              ...              ...              ...  \n",
       "111         1.239557         3.706777         0.001283         0.000070  \n",
       "112         1.358539         3.691871         0.001168         0.000017  \n",
       "113         1.300444         3.668999         0.000977         0.000035  \n",
       "114         1.294777         3.656933         0.000848         0.000140  \n",
       "115         1.388065         3.705444         0.001053         0.000140  \n",
       "\n",
       "[116 rows x 5046 columns]"
      ]
     },
     "execution_count": 56,
     "metadata": {},
     "output_type": "execute_result"
    }
   ],
   "source": [
    "df"
   ]
  },
  {
   "cell_type": "code",
   "execution_count": 68,
   "metadata": {},
   "outputs": [
    {
     "data": {
      "text/plain": [
       "array(['CEBPE+RUNX1T1', 'CBL+PTPN9', 'DUSP9+ctrl', 'MAP2K6+SPI1',\n",
       "       'UBASH3B+PTPN12', 'BCORL1+ctrl', 'CBL+ctrl', 'ctrl+SET',\n",
       "       'TBX3+TBX2', 'DUSP9+MAPK1', 'COL2A1+ctrl', 'DUSP9+ETS2',\n",
       "       'ZNF318+FOXL2', 'SET+CEBPE', 'UBASH3B+PTPN9', 'RHOXF2BB+ctrl',\n",
       "       'POU3F2+ctrl', 'LYL1+IER5L', 'IGDCC3+MAPK1', 'CELF2+ctrl',\n",
       "       'ZC3HAV1+CEBPE', 'CDKN1A+ctrl', 'MAPK1+PRTG', 'PTPN1+ctrl',\n",
       "       'PTPN12+ctrl', 'ctrl+MAP7D1', 'KLF1+COL2A1', 'PTPN12+OSR2',\n",
       "       'BPGM+SAMD1', 'POU3F2+FOXL2', 'DUSP9+PRTG', 'CKS1B+ctrl',\n",
       "       'BCL2L11+TGFBR2', 'AHR+KLF1', 'CEBPB+CEBPA', 'PTPN12+UBASH3A',\n",
       "       'FEV+MAP7D1', 'PLK4+ctrl', 'BPGM+ctrl', 'ETS2+CNN1',\n",
       "       'C3orf72+ctrl', 'CNN1+MAPK1', 'FOXL2+MEIS1', 'FOXL2+ctrl',\n",
       "       'PTPN12+PTPN9', 'FOSB+CEBPB', 'MAP7D1+ctrl', 'ctrl+CDKN1A',\n",
       "       'SET+KLF1', 'PTPN12+SNAI1', 'BCL2L11+BAK1', 'CNN1+UBASH3A',\n",
       "       'ISL2+ctrl', 'SAMD1+ZBTB1', 'IRF1+SET', 'ARID1A+ctrl', 'NCL+ctrl',\n",
       "       'ctrl+COL2A1', 'ZC3HAV1+HOXC13', 'CBL+CNN1', 'ZBTB10+PTPN12',\n",
       "       'CBL+UBASH3B', 'CEBPB+PTPN12', 'BCL2L11+ctrl', 'SET+ctrl',\n",
       "       'ctrl+SPI1', 'CEBPB+MAPK1', 'FOSB+UBASH3B', 'ETS2+MAPK1',\n",
       "       'DUSP9+IGDCC3', 'CEBPB+ctrl', 'CBL+PTPN12', 'CEBPB+OSR2',\n",
       "       'CEBPE+PTPN12', 'DUSP9+KLF1', 'CDKN1B+ctrl', 'FEV+ISL2',\n",
       "       'POU3F2+CBFA2T3', 'FOXA1+HOXB9', 'ZBTB10+ctrl', 'CEBPE+SPI1',\n",
       "       'CBL+TGFBR2', 'FOXA1+FOXL2', 'ETS2+MAP7D1', 'FOXF1+FOXL2',\n",
       "       'ETS2+IKZF3', 'ctrl+ISL2', 'LYL1+CEBPB', 'PTPN12+ZBTB25',\n",
       "       'DUSP9+SNAI1', 'ctrl+CEBPB', 'RHOXF2BB+ZBTB25', 'FOSB+IKZF3',\n",
       "       'RHOXF2BB+SET', 'FOSB+PTPN12', 'ctrl+PTPN12', 'SAMD1+PTPN12',\n",
       "       'FOXL2+HOXB9', 'ZBTB10+ELMSAN1', 'JUN+CEBPB', 'BPGM+ZBTB1',\n",
       "       'ZBTB10+SNAI1', 'ctrl+FOXL2', 'CEBPE+CEBPB', 'FOXA3+FOXL2',\n",
       "       'CDKN1C+CDKN1B', 'CDKN1C+CDKN1A', 'SPI1+ctrl', 'EGR1+ctrl',\n",
       "       'ZBTB10+DLX2', 'PLK4+STIL', 'CBL+UBASH3A', 'CDKN1C+ctrl',\n",
       "       'ctrl+CDKN1B', 'CDKN1B+CDKN1A', 'C3orf72+FOXL2'], dtype=object)"
      ]
     },
     "execution_count": 68,
     "metadata": {},
     "output_type": "execute_result"
    }
   ],
   "source": [
    "df[\"condition\"].values"
   ]
  },
  {
   "cell_type": "code",
   "execution_count": null,
   "metadata": {},
   "outputs": [],
   "source": []
  },
  {
   "cell_type": "code",
   "execution_count": 61,
   "metadata": {},
   "outputs": [
    {
     "data": {
      "text/plain": [
       "(116,)"
      ]
     },
     "execution_count": 61,
     "metadata": {},
     "output_type": "execute_result"
    }
   ],
   "source": [
    "test_preds_scgpt[\"pert_cat\"].shape"
   ]
  },
  {
   "cell_type": "code",
   "execution_count": null,
   "metadata": {},
   "outputs": [],
   "source": [
    "from collections import defaultdict\n",
    "\n",
    "mytest = defaultdict(list)\n",
    "\n",
    "mytest[\"a\"].append(np.)"
   ]
  },
  {
   "cell_type": "code",
   "execution_count": 69,
   "metadata": {},
   "outputs": [
    {
     "data": {
      "text/plain": [
       "dict_keys(['pert_cat', 'pred', 'truth'])"
      ]
     },
     "execution_count": 69,
     "metadata": {},
     "output_type": "execute_result"
    }
   ],
   "source": [
    "test_preds_scgpt.keys()"
   ]
  },
  {
   "cell_type": "code",
   "execution_count": 65,
   "metadata": {},
   "outputs": [
    {
     "data": {
      "text/plain": [
       "defaultdict(list, {'a': [1]})"
      ]
     },
     "execution_count": 65,
     "metadata": {},
     "output_type": "execute_result"
    }
   ],
   "source": [
    "mytest"
   ]
  },
  {
   "cell_type": "code",
   "execution_count": null,
   "metadata": {},
   "outputs": [],
   "source": []
  },
  {
   "cell_type": "code",
   "execution_count": 60,
   "metadata": {},
   "outputs": [
    {
     "data": {
      "text/plain": [
       "dict_keys(['pert_cat', 'pred', 'truth'])"
      ]
     },
     "execution_count": 60,
     "metadata": {},
     "output_type": "execute_result"
    }
   ],
   "source": [
    "test_preds_scgpt.keys()"
   ]
  },
  {
   "cell_type": "code",
   "execution_count": 53,
   "metadata": {},
   "outputs": [
    {
     "data": {
      "text/plain": [
       "{'combo_seen0': 0.5187340583663683,\n",
       " 'combo_seen1': 0.6108783264761386,\n",
       " 'combo_seen2': 0.7374173518040296,\n",
       " 'unseen_single': 0.39290316703869094}"
      ]
     },
     "execution_count": 53,
     "metadata": {},
     "output_type": "execute_result"
    }
   ],
   "source": [
    "subgroup_metrics"
   ]
  },
  {
   "cell_type": "code",
   "execution_count": null,
   "metadata": {},
   "outputs": [],
   "source": []
  },
  {
   "cell_type": "code",
   "execution_count": null,
   "metadata": {},
   "outputs": [],
   "source": [
    "\n",
    "pert_cat = test_preds[\"pert_cat\"]\n",
    "true = test_preds[\"truth\"]\n",
    "pred = test_preds[\"pred\"]\n",
    "\n",
    "ctrl_adata = pert_data.adata[pert_data.adata.obs[\"condition\"] == \"ctrl\"]\n",
    "mean_ctrl = np.array(ctrl_adata.X.mean(0)).flatten() \n",
    "\n",
    "pert_res = {}\n",
    "\n",
    "for _pert, _true, _pred in zip(pert_cat, true, pred):\n",
    "    myr = pearsonr(_true - mean_ctrl, _pred - mean_ctrl)[0]\n",
    "\n",
    "    pert_res[_pert] = myr\n"
   ]
  },
  {
   "cell_type": "code",
   "execution_count": 35,
   "metadata": {},
   "outputs": [
    {
     "data": {
      "text/plain": [
       "dict_keys(['test_subgroup', 'val_subgroup'])"
      ]
     },
     "execution_count": 35,
     "metadata": {},
     "output_type": "execute_result"
    }
   ],
   "source": [
    "pert_data.subgroup.keys()"
   ]
  },
  {
   "cell_type": "code",
   "execution_count": 37,
   "metadata": {},
   "outputs": [
    {
     "data": {
      "text/plain": [
       "dict_keys(['combo_seen0', 'combo_seen1', 'combo_seen2', 'unseen_single'])"
      ]
     },
     "execution_count": 37,
     "metadata": {},
     "output_type": "execute_result"
    }
   ],
   "source": [
    "pert_data.subgroup[\"test_subgroup\"].keys()"
   ]
  },
  {
   "cell_type": "code",
   "execution_count": 40,
   "metadata": {},
   "outputs": [],
   "source": [
    "test_subgroup = pert_data.subgroup[\"test_subgroup\"]"
   ]
  },
  {
   "cell_type": "code",
   "execution_count": 41,
   "metadata": {},
   "outputs": [],
   "source": [
    "subgroup_analysis = {}\n",
    "for name in test_subgroup.keys():\n",
    "    subgroup_analysis[name] = []"
   ]
  },
  {
   "cell_type": "code",
   "execution_count": 45,
   "metadata": {},
   "outputs": [],
   "source": [
    "for k, v in pert_res.items():\n",
    "    for category, cat_pert in test_subgroup.items():\n",
    "        if k in cat_pert:\n",
    "            subgroup_analysis[category].append(v)"
   ]
  },
  {
   "cell_type": "code",
   "execution_count": 47,
   "metadata": {},
   "outputs": [
    {
     "name": "stdout",
     "output_type": "stream",
     "text": [
      "combo_seen0 0.5187340583663683\n",
      "combo_seen1 0.6108783264761386\n",
      "combo_seen2 0.7374173518040296\n",
      "unseen_single 0.39290316703869094\n"
     ]
    }
   ],
   "source": [
    "for k, v in subgroup_analysis.items():\n",
    "    subgroup_analysis[k] = np.mean(v)\n",
    "    print(k, subgroup_analysis[k])"
   ]
  },
  {
   "cell_type": "code",
   "execution_count": null,
   "metadata": {},
   "outputs": [],
   "source": []
  },
  {
   "cell_type": "code",
   "execution_count": 46,
   "metadata": {},
   "outputs": [
    {
     "data": {
      "text/plain": [
       "{'combo_seen0': [0.5667845560237565,\n",
       "  0.5306366387470454,\n",
       "  0.5587640995018057,\n",
       "  0.5623586660915909,\n",
       "  0.618698787256555,\n",
       "  0.32095776463421527,\n",
       "  0.7189421839930945,\n",
       "  0.24830755188824719,\n",
       "  0.543156277161004],\n",
       " 'combo_seen1': [0.14143162562848577,\n",
       "  0.4299097240776927,\n",
       "  0.7221274825804344,\n",
       "  0.7429684177086644,\n",
       "  0.7448154815863998,\n",
       "  0.6985692668964669,\n",
       "  0.6348721850108808,\n",
       "  0.7244577137790523,\n",
       "  0.6728745656637689,\n",
       "  0.9427511142459906,\n",
       "  0.7373734455806392,\n",
       "  0.5771653335909592,\n",
       "  0.798335192924232,\n",
       "  0.6546898634983849,\n",
       "  0.7833393361470731,\n",
       "  0.5841984590589374,\n",
       "  0.7743776502616219,\n",
       "  0.707009416334683,\n",
       "  0.47802906343248286,\n",
       "  0.7791788279186963,\n",
       "  0.6596182460702738,\n",
       "  0.09090272258388543,\n",
       "  0.8056754550186074,\n",
       "  0.7971203647136854,\n",
       "  0.6606780199670377,\n",
       "  0.10304200195547425,\n",
       "  0.6905788248949445,\n",
       "  0.6889766599112097,\n",
       "  0.6494914680488915,\n",
       "  0.7325560481397786,\n",
       "  0.6625644168506161,\n",
       "  0.4998915115005702,\n",
       "  0.7202860549356975,\n",
       "  0.4862556072571984,\n",
       "  0.41947142034693086,\n",
       "  0.30932516995317755,\n",
       "  0.5363998057916957,\n",
       "  0.6499324551137846,\n",
       "  0.4917446451126266,\n",
       "  0.629548675087222,\n",
       "  0.5713666466830933,\n",
       "  0.6817147952040147,\n",
       "  0.6868744820433426,\n",
       "  0.6238334280791449,\n",
       "  0.7981486564061422,\n",
       "  0.5070853005297682,\n",
       "  0.6463429659676952,\n",
       "  0.5606187674277111,\n",
       "  0.4917772159341562,\n",
       "  0.32291838776196746,\n",
       "  0.552031028329062,\n",
       "  0.7104275632142534],\n",
       " 'combo_seen2': [0.7099318776038289,\n",
       "  0.8480620732716662,\n",
       "  0.7203819670959526,\n",
       "  0.80266984977772,\n",
       "  0.5797133548148954,\n",
       "  0.8852267788917454,\n",
       "  0.7501837036726089,\n",
       "  0.8391078319640446,\n",
       "  0.5411783591183938,\n",
       "  0.7992299587443719,\n",
       "  0.6400587878222648,\n",
       "  0.8124757708810698,\n",
       "  0.6057502883361854,\n",
       "  0.8648429779304085,\n",
       "  0.8929936622484723,\n",
       "  0.690940976194597,\n",
       "  0.7431957672763521,\n",
       "  0.5475683468279536],\n",
       " 'unseen_single': [0.531986313715743,\n",
       "  0.2700782831952738,\n",
       "  0.21426063528737876,\n",
       "  0.2428944289495969,\n",
       "  0.19101013140727596,\n",
       "  0.5755025295257068,\n",
       "  0.5622467104727357,\n",
       "  0.6356993338604606,\n",
       "  0.6100580571762817,\n",
       "  0.24534458479518856,\n",
       "  0.1414038349282159,\n",
       "  0.3420023615794096,\n",
       "  0.2528366279486651,\n",
       "  0.6143468974221642,\n",
       "  0.37189893022120224,\n",
       "  0.5277563760814945,\n",
       "  0.3606102796337773,\n",
       "  0.08837550014262177,\n",
       "  0.3433824640653832,\n",
       "  0.41874258947602694,\n",
       "  0.6228850015921357,\n",
       "  0.5901128783520133,\n",
       "  0.4121574341318496,\n",
       "  0.31975241674001786,\n",
       "  0.2931054814511807,\n",
       "  0.5744789296449624,\n",
       "  0.40169420263040395,\n",
       "  0.5180381920518198,\n",
       "  0.5427781937060026,\n",
       "  0.2563433199941142,\n",
       "  0.2811022796472946,\n",
       "  0.5682172160762268,\n",
       "  0.3473962464526592,\n",
       "  0.09069520284726092,\n",
       "  0.3447314274254315,\n",
       "  0.2952764252627824,\n",
       "  0.5382154625408062]}"
      ]
     },
     "execution_count": 46,
     "metadata": {},
     "output_type": "execute_result"
    }
   ],
   "source": [
    "subgroup_analysis"
   ]
  },
  {
   "cell_type": "code",
   "execution_count": 44,
   "metadata": {},
   "outputs": [
    {
     "data": {
      "text/plain": [
       "{'combo_seen0': ['POU3F2+FOXL2',\n",
       "  'ZBTB10+PTPN12',\n",
       "  'CEBPB+PTPN12',\n",
       "  'CBL+PTPN12',\n",
       "  'RHOXF2BB+SET',\n",
       "  'CDKN1C+CDKN1B',\n",
       "  'CDKN1C+CDKN1A',\n",
       "  'CDKN1B+CDKN1A',\n",
       "  'C3orf72+FOXL2'],\n",
       " 'combo_seen1': ['CBL+PTPN9',\n",
       "  'MAP2K6+SPI1',\n",
       "  'UBASH3B+PTPN12',\n",
       "  'DUSP9+MAPK1',\n",
       "  'DUSP9+ETS2',\n",
       "  'ZNF318+FOXL2',\n",
       "  'SET+CEBPE',\n",
       "  'KLF1+COL2A1',\n",
       "  'PTPN12+OSR2',\n",
       "  'BPGM+SAMD1',\n",
       "  'DUSP9+PRTG',\n",
       "  'BCL2L11+TGFBR2',\n",
       "  'CEBPB+CEBPA',\n",
       "  'PTPN12+UBASH3A',\n",
       "  'FEV+MAP7D1',\n",
       "  'FOXL2+MEIS1',\n",
       "  'PTPN12+PTPN9',\n",
       "  'FOSB+CEBPB',\n",
       "  'SET+KLF1',\n",
       "  'PTPN12+SNAI1',\n",
       "  'BCL2L11+BAK1',\n",
       "  'IRF1+SET',\n",
       "  'CBL+CNN1',\n",
       "  'CBL+UBASH3B',\n",
       "  'CEBPB+MAPK1',\n",
       "  'DUSP9+IGDCC3',\n",
       "  'CEBPB+OSR2',\n",
       "  'CEBPE+PTPN12',\n",
       "  'DUSP9+KLF1',\n",
       "  'FEV+ISL2',\n",
       "  'POU3F2+CBFA2T3',\n",
       "  'CEBPE+SPI1',\n",
       "  'CBL+TGFBR2',\n",
       "  'FOXA1+FOXL2',\n",
       "  'ETS2+MAP7D1',\n",
       "  'FOXF1+FOXL2',\n",
       "  'LYL1+CEBPB',\n",
       "  'PTPN12+ZBTB25',\n",
       "  'DUSP9+SNAI1',\n",
       "  'RHOXF2BB+ZBTB25',\n",
       "  'FOSB+PTPN12',\n",
       "  'SAMD1+PTPN12',\n",
       "  'FOXL2+HOXB9',\n",
       "  'ZBTB10+ELMSAN1',\n",
       "  'JUN+CEBPB',\n",
       "  'BPGM+ZBTB1',\n",
       "  'ZBTB10+SNAI1',\n",
       "  'CEBPE+CEBPB',\n",
       "  'FOXA3+FOXL2',\n",
       "  'ZBTB10+DLX2',\n",
       "  'PLK4+STIL',\n",
       "  'CBL+UBASH3A'],\n",
       " 'combo_seen2': ['AHR+KLF1',\n",
       "  'CEBPE+RUNX1T1',\n",
       "  'CNN1+MAPK1',\n",
       "  'CNN1+UBASH3A',\n",
       "  'ETS2+CNN1',\n",
       "  'ETS2+IKZF3',\n",
       "  'ETS2+MAPK1',\n",
       "  'FOSB+IKZF3',\n",
       "  'FOSB+UBASH3B',\n",
       "  'FOXA1+HOXB9',\n",
       "  'IGDCC3+MAPK1',\n",
       "  'LYL1+IER5L',\n",
       "  'MAPK1+PRTG',\n",
       "  'SAMD1+ZBTB1',\n",
       "  'TBX3+TBX2',\n",
       "  'UBASH3B+PTPN9',\n",
       "  'ZC3HAV1+CEBPE',\n",
       "  'ZC3HAV1+HOXC13'],\n",
       " 'unseen_single': ['DUSP9+ctrl',\n",
       "  'BCORL1+ctrl',\n",
       "  'CBL+ctrl',\n",
       "  'ctrl+SET',\n",
       "  'COL2A1+ctrl',\n",
       "  'RHOXF2BB+ctrl',\n",
       "  'POU3F2+ctrl',\n",
       "  'CELF2+ctrl',\n",
       "  'CDKN1A+ctrl',\n",
       "  'PTPN1+ctrl',\n",
       "  'PTPN12+ctrl',\n",
       "  'ctrl+MAP7D1',\n",
       "  'CKS1B+ctrl',\n",
       "  'PLK4+ctrl',\n",
       "  'BPGM+ctrl',\n",
       "  'C3orf72+ctrl',\n",
       "  'FOXL2+ctrl',\n",
       "  'MAP7D1+ctrl',\n",
       "  'ctrl+CDKN1A',\n",
       "  'ISL2+ctrl',\n",
       "  'ARID1A+ctrl',\n",
       "  'NCL+ctrl',\n",
       "  'ctrl+COL2A1',\n",
       "  'BCL2L11+ctrl',\n",
       "  'SET+ctrl',\n",
       "  'ctrl+SPI1',\n",
       "  'CEBPB+ctrl',\n",
       "  'CDKN1B+ctrl',\n",
       "  'ZBTB10+ctrl',\n",
       "  'ctrl+ISL2',\n",
       "  'ctrl+CEBPB',\n",
       "  'ctrl+PTPN12',\n",
       "  'ctrl+FOXL2',\n",
       "  'SPI1+ctrl',\n",
       "  'EGR1+ctrl',\n",
       "  'CDKN1C+ctrl',\n",
       "  'ctrl+CDKN1B']}"
      ]
     },
     "execution_count": 44,
     "metadata": {},
     "output_type": "execute_result"
    }
   ],
   "source": [
    "test_subgroup"
   ]
  },
  {
   "cell_type": "code",
   "execution_count": 43,
   "metadata": {},
   "outputs": [
    {
     "data": {
      "text/plain": [
       "'AHR+KLF1'"
      ]
     },
     "execution_count": 43,
     "metadata": {},
     "output_type": "execute_result"
    }
   ],
   "source": [
    "k"
   ]
  },
  {
   "cell_type": "code",
   "execution_count": null,
   "metadata": {},
   "outputs": [],
   "source": [
    "sub"
   ]
  },
  {
   "cell_type": "code",
   "execution_count": null,
   "metadata": {},
   "outputs": [],
   "source": []
  },
  {
   "cell_type": "code",
   "execution_count": 28,
   "metadata": {},
   "outputs": [
    {
     "data": {
      "text/plain": [
       "'AHR+KLF1'"
      ]
     },
     "execution_count": 28,
     "metadata": {},
     "output_type": "execute_result"
    }
   ],
   "source": [
    "_pert"
   ]
  },
  {
   "cell_type": "code",
   "execution_count": 27,
   "metadata": {},
   "outputs": [
    {
     "data": {
      "text/plain": [
       "PearsonRResult(statistic=0.7099318776038289, pvalue=0.0)"
      ]
     },
     "execution_count": 27,
     "metadata": {},
     "output_type": "execute_result"
    }
   ],
   "source": [
    "myr"
   ]
  },
  {
   "cell_type": "code",
   "execution_count": 20,
   "metadata": {},
   "outputs": [
    {
     "data": {
      "text/plain": [
       "'AHR+KLF1'"
      ]
     },
     "execution_count": 20,
     "metadata": {},
     "output_type": "execute_result"
    }
   ],
   "source": [
    "_pert"
   ]
  },
  {
   "cell_type": "code",
   "execution_count": 21,
   "metadata": {},
   "outputs": [
    {
     "data": {
      "text/plain": [
       "array([0.00000000e+00, 6.04944828e-03, 2.06960513e-03, ...,\n",
       "       3.37998892e+00, 2.49300318e-03, 0.00000000e+00])"
      ]
     },
     "execution_count": 21,
     "metadata": {},
     "output_type": "execute_result"
    }
   ],
   "source": [
    "_true"
   ]
  },
  {
   "cell_type": "code",
   "execution_count": 22,
   "metadata": {},
   "outputs": [
    {
     "data": {
      "text/plain": [
       "array([-3.82052753e-04,  2.16015951e-02,  1.28717164e-02, ...,\n",
       "        3.24270000e+00,  2.07184356e-02,  2.07184356e-02])"
      ]
     },
     "execution_count": 22,
     "metadata": {},
     "output_type": "execute_result"
    }
   ],
   "source": [
    "_pred"
   ]
  },
  {
   "cell_type": "code",
   "execution_count": 23,
   "metadata": {},
   "outputs": [
    {
     "data": {
      "text/plain": [
       "array([0.0000000e+00, 3.0636375e-03, 7.3340833e-03, ..., 3.7373223e+00,\n",
       "       8.7353901e-04, 0.0000000e+00], dtype=float32)"
      ]
     },
     "execution_count": 23,
     "metadata": {},
     "output_type": "execute_result"
    }
   ],
   "source": [
    "mean_ctrl"
   ]
  },
  {
   "cell_type": "code",
   "execution_count": 13,
   "metadata": {},
   "outputs": [
    {
     "data": {
      "text/plain": [
       "{'pert_cat': array(['AHR+KLF1', 'ARID1A+ctrl', 'BCL2L11+BAK1', 'BCL2L11+TGFBR2',\n",
       "        'BCL2L11+ctrl', 'BCORL1+ctrl', 'BPGM+SAMD1', 'BPGM+ZBTB1',\n",
       "        'BPGM+ctrl', 'C3orf72+FOXL2', 'C3orf72+ctrl', 'CBL+CNN1',\n",
       "        'CBL+PTPN12', 'CBL+PTPN9', 'CBL+TGFBR2', 'CBL+UBASH3A',\n",
       "        'CBL+UBASH3B', 'CBL+ctrl', 'CDKN1A+ctrl', 'CDKN1B+CDKN1A',\n",
       "        'CDKN1B+ctrl', 'CDKN1C+CDKN1A', 'CDKN1C+CDKN1B', 'CDKN1C+ctrl',\n",
       "        'CEBPB+CEBPA', 'CEBPB+MAPK1', 'CEBPB+OSR2', 'CEBPB+PTPN12',\n",
       "        'CEBPB+ctrl', 'CEBPE+CEBPB', 'CEBPE+PTPN12', 'CEBPE+RUNX1T1',\n",
       "        'CEBPE+SPI1', 'CELF2+ctrl', 'CKS1B+ctrl', 'CNN1+MAPK1',\n",
       "        'CNN1+UBASH3A', 'COL2A1+ctrl', 'DUSP9+ETS2', 'DUSP9+IGDCC3',\n",
       "        'DUSP9+KLF1', 'DUSP9+MAPK1', 'DUSP9+PRTG', 'DUSP9+SNAI1',\n",
       "        'DUSP9+ctrl', 'EGR1+ctrl', 'ETS2+CNN1', 'ETS2+IKZF3',\n",
       "        'ETS2+MAP7D1', 'ETS2+MAPK1', 'FEV+ISL2', 'FEV+MAP7D1',\n",
       "        'FOSB+CEBPB', 'FOSB+IKZF3', 'FOSB+PTPN12', 'FOSB+UBASH3B',\n",
       "        'FOXA1+FOXL2', 'FOXA1+HOXB9', 'FOXA3+FOXL2', 'FOXF1+FOXL2',\n",
       "        'FOXL2+HOXB9', 'FOXL2+MEIS1', 'FOXL2+ctrl', 'IGDCC3+MAPK1',\n",
       "        'IRF1+SET', 'ISL2+ctrl', 'JUN+CEBPB', 'KLF1+COL2A1', 'LYL1+CEBPB',\n",
       "        'LYL1+IER5L', 'MAP2K6+SPI1', 'MAP7D1+ctrl', 'MAPK1+PRTG',\n",
       "        'NCL+ctrl', 'PLK4+STIL', 'PLK4+ctrl', 'POU3F2+CBFA2T3',\n",
       "        'POU3F2+FOXL2', 'POU3F2+ctrl', 'PTPN1+ctrl', 'PTPN12+OSR2',\n",
       "        'PTPN12+PTPN9', 'PTPN12+SNAI1', 'PTPN12+UBASH3A', 'PTPN12+ZBTB25',\n",
       "        'PTPN12+ctrl', 'RHOXF2BB+SET', 'RHOXF2BB+ZBTB25', 'RHOXF2BB+ctrl',\n",
       "        'SAMD1+PTPN12', 'SAMD1+ZBTB1', 'SET+CEBPE', 'SET+KLF1', 'SET+ctrl',\n",
       "        'SPI1+ctrl', 'TBX3+TBX2', 'UBASH3B+PTPN12', 'UBASH3B+PTPN9',\n",
       "        'ZBTB10+DLX2', 'ZBTB10+ELMSAN1', 'ZBTB10+PTPN12', 'ZBTB10+SNAI1',\n",
       "        'ZBTB10+ctrl', 'ZC3HAV1+CEBPE', 'ZC3HAV1+HOXC13', 'ZNF318+FOXL2',\n",
       "        'ctrl+CDKN1A', 'ctrl+CDKN1B', 'ctrl+CEBPB', 'ctrl+COL2A1',\n",
       "        'ctrl+FOXL2', 'ctrl+ISL2', 'ctrl+MAP7D1', 'ctrl+PTPN12',\n",
       "        'ctrl+SET', 'ctrl+SPI1'], dtype='<U15'),\n",
       " 'pred': array([[-3.82052753e-04,  2.16015951e-02,  1.28717164e-02, ...,\n",
       "          3.24270000e+00,  2.07184356e-02,  2.07184356e-02],\n",
       "        [-3.29909416e-04,  1.49231376e-02,  8.45798303e-03, ...,\n",
       "          3.70180978e+00,  1.74498961e-02,  1.49231376e-02],\n",
       "        [-2.47737941e-04,  1.85172063e-02,  9.89806730e-03, ...,\n",
       "          3.66206776e+00,  1.61376155e-02,  1.61376155e-02],\n",
       "        ...,\n",
       "        [-2.75072165e-04,  1.75257189e-02,  8.39498475e-03, ...,\n",
       "          3.69841936e+00,  1.50687055e-02,  1.50687055e-02],\n",
       "        [-4.11219734e-04,  1.52456110e-02,  9.90597480e-03, ...,\n",
       "          3.66420584e+00,  1.36812608e-02,  1.36812608e-02],\n",
       "        [-4.33444445e-04,  1.90022874e-02,  9.87247346e-03, ...,\n",
       "          3.65944495e+00,  1.77525664e-02,  1.69697035e-02]]),\n",
       " 'truth': array([[0.00000000e+00, 6.04944828e-03, 2.06960513e-03, ...,\n",
       "         3.37998892e+00, 2.49300318e-03, 0.00000000e+00],\n",
       "        [0.00000000e+00, 0.00000000e+00, 7.75674542e-03, ...,\n",
       "         3.52682908e+00, 0.00000000e+00, 0.00000000e+00],\n",
       "        [0.00000000e+00, 3.46613554e-03, 0.00000000e+00, ...,\n",
       "         3.73117848e+00, 0.00000000e+00, 0.00000000e+00],\n",
       "        ...,\n",
       "        [0.00000000e+00, 4.55044973e-03, 1.08355651e-02, ...,\n",
       "         3.81313421e+00, 0.00000000e+00, 0.00000000e+00],\n",
       "        [0.00000000e+00, 0.00000000e+00, 2.09427802e-03, ...,\n",
       "         3.93284416e+00, 0.00000000e+00, 0.00000000e+00],\n",
       "        [0.00000000e+00, 5.03448042e-03, 1.26236966e-02, ...,\n",
       "         3.65947419e+00, 1.91612471e-03, 0.00000000e+00]])}"
      ]
     },
     "execution_count": 13,
     "metadata": {},
     "output_type": "execute_result"
    }
   ],
   "source": [
    "test_preds"
   ]
  },
  {
   "cell_type": "code",
   "execution_count": 11,
   "metadata": {},
   "outputs": [],
   "source": [
    "metrics = [\"pearson_delta\", \"pearson_delta_de\"]\n",
    "metrics_non_dropout = [\n",
    "    \"pearson_delta_top20_de_non_dropout\",\n",
    "    \"pearson_top20_de_non_dropout\",\n",
    "]\n",
    "\n",
    "subgroup_analysis = {}\n",
    "for name in pert_data.subgroup[\"test_subgroup\"].keys():\n",
    "    subgroup_analysis[name] = {}\n",
    "    for m in metrics:\n",
    "        subgroup_analysis[name][m] = []\n",
    "\n",
    "    for m in metrics_non_dropout:\n",
    "        subgroup_analysis[name][m] = []\n"
   ]
  },
  {
   "cell_type": "code",
   "execution_count": 12,
   "metadata": {},
   "outputs": [
    {
     "data": {
      "text/plain": [
       "{'combo_seen0': {'pearson_delta': [],\n",
       "  'pearson_delta_de': [],\n",
       "  'pearson_delta_top20_de_non_dropout': [],\n",
       "  'pearson_top20_de_non_dropout': []},\n",
       " 'combo_seen1': {'pearson_delta': [],\n",
       "  'pearson_delta_de': [],\n",
       "  'pearson_delta_top20_de_non_dropout': [],\n",
       "  'pearson_top20_de_non_dropout': []},\n",
       " 'combo_seen2': {'pearson_delta': [],\n",
       "  'pearson_delta_de': [],\n",
       "  'pearson_delta_top20_de_non_dropout': [],\n",
       "  'pearson_top20_de_non_dropout': []},\n",
       " 'unseen_single': {'pearson_delta': [],\n",
       "  'pearson_delta_de': [],\n",
       "  'pearson_delta_top20_de_non_dropout': [],\n",
       "  'pearson_top20_de_non_dropout': []}}"
      ]
     },
     "execution_count": 12,
     "metadata": {},
     "output_type": "execute_result"
    }
   ],
   "source": [
    "subgroup_analysis"
   ]
  },
  {
   "cell_type": "code",
   "execution_count": null,
   "metadata": {},
   "outputs": [],
   "source": [
    "\n",
    "for name, pert_list in pert_data.subgroup[\"test_subgroup\"].items():\n",
    "    for pert in pert_list:\n",
    "        for m in metrics:\n",
    "            subgroup_analysis[name][m].append(deeper_res[pert][m])\n",
    "\n",
    "        for m in metrics_non_dropout:\n",
    "            subgroup_analysis[name][m].append(non_dropout_res[pert][m])\n",
    "\n",
    "for name, result in subgroup_analysis.items():\n",
    "    for m in result.keys():\n",
    "        mean_value = np.mean(subgroup_analysis[name][m])\n",
    "        print(\"test_\" + name + \"_\" + m + \": \" + str(mean_value))"
   ]
  },
  {
   "cell_type": "code",
   "execution_count": 6,
   "metadata": {},
   "outputs": [
    {
     "name": "stdout",
     "output_type": "stream",
     "text": [
      "pert_cat (116,)\n",
      "pred (116, 5045)\n",
      "truth (116, 5045)\n"
     ]
    }
   ],
   "source": [
    "for k, v in test_preds.items():\n",
    "    print(k, v.shape)"
   ]
  },
  {
   "cell_type": "code",
   "execution_count": null,
   "metadata": {},
   "outputs": [],
   "source": []
  }
 ],
 "metadata": {
  "kernelspec": {
   "display_name": "scgpt_yml",
   "language": "python",
   "name": "scgpt_yml"
  },
  "language_info": {
   "codemirror_mode": {
    "name": "ipython",
    "version": 3
   },
   "file_extension": ".py",
   "mimetype": "text/x-python",
   "name": "python",
   "nbconvert_exporter": "python",
   "pygments_lexer": "ipython3",
   "version": "3.10.11"
  }
 },
 "nbformat": 4,
 "nbformat_minor": 2
}
